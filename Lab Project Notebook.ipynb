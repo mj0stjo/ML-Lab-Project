{
 "cells": [
  {
   "cell_type": "markdown",
   "id": "5dab942d",
   "metadata": {},
   "source": [
    "# Machine Learning Lab Project - Credit Card Overdue Likelihood Prediction"
   ]
  },
  {
   "cell_type": "markdown",
   "id": "4d73c067",
   "metadata": {},
   "source": [
    "##  Business Understanding\n",
    "\n",
    "It is important for banks to know in advance whether or not a customer will repay their credit card bill on time in order to decide whether or not to give them a credit card. To do this, they try to make a prediction based on personal information. Therefore, they compare the current customer with historical data from other customers.\n",
    "\n",
    "Because credit scoring is a very complex task, it is very difficult to find a well performing model. An other problem is that a transparent and comprehensible model should be used so that customers understand the bank's decision. To find such a model is really hard in the world of machine learning algorithms.\n",
    "\n",
    "Then you have to decide how to tackle the problem. Do you try to calculate an exact percentage using regression or do you try to classify the customer and assign them to a probability class?"
   ]
  },
  {
   "cell_type": "markdown",
   "id": "2d7e57de",
   "metadata": {},
   "source": [
    "## Data Understanding\n",
    "The data for this task is taken from [this](https://www.kaggle.com/datasets/rikdifos/credit-card-approval-prediction) kaggle dataset. The kaggle page provides two `.csv` files:\n",
    "- application_record.csv\n",
    "- credit_record.csv\n",
    "\n",
    "On a simple level, `application_record.csv` contains the customer data and `credit_record.csv` contains the customers credit history. The specific content is now investigated further.\n",
    "\n",
    "For beeing able to analyse the datasets, the necessary libraries are imported first:"
   ]
  },
  {
   "cell_type": "code",
   "execution_count": 1,
   "id": "511113b5",
   "metadata": {},
   "outputs": [],
   "source": [
    "import pandas as pd\n",
    "from sklearn.compose import ColumnTransformer\n",
    "from sklearn.linear_model import Ridge\n",
    "from sklearn.metrics import accuracy_score, f1_score, mean_squared_error\n",
    "from sklearn.model_selection import train_test_split\n",
    "from sklearn.neighbors import KNeighborsClassifier\n",
    "from sklearn.preprocessing import OneHotEncoder, OrdinalEncoder, StandardScaler\n",
    "from sklearn.tree import DecisionTreeClassifier, export_text\n",
    "import matplotlib.pyplot as plt"
   ]
  },
  {
   "cell_type": "markdown",
   "id": "ec1c65ba",
   "metadata": {},
   "source": [
    "In this next step the two `.csv` files are loaded into a pandas datafram. This enables an analysis with the full pandas funcionality, which makes the data understanding process way easier."
   ]
  },
  {
   "cell_type": "code",
   "execution_count": 2,
   "id": "2b7027e5",
   "metadata": {},
   "outputs": [],
   "source": [
    "customer_df = pd.read_csv(\"Data/application_record.csv\")\n",
    "credit_df = pd.read_csv(\"Data/credit_record.csv\")"
   ]
  },
  {
   "cell_type": "markdown",
   "id": "f6d875a2",
   "metadata": {},
   "source": [
    "### application_record.csv\n",
    "First, it is important to analyse the columns of the dataset:"
   ]
  },
  {
   "cell_type": "code",
   "execution_count": 3,
   "id": "0fd8bf95",
   "metadata": {},
   "outputs": [
    {
     "name": "stdout",
     "output_type": "stream",
     "text": [
      "<class 'pandas.core.frame.DataFrame'>\n",
      "RangeIndex: 438557 entries, 0 to 438556\n",
      "Data columns (total 18 columns):\n",
      " #   Column               Non-Null Count   Dtype  \n",
      "---  ------               --------------   -----  \n",
      " 0   ID                   438557 non-null  int64  \n",
      " 1   CODE_GENDER          438557 non-null  object \n",
      " 2   FLAG_OWN_CAR         438557 non-null  object \n",
      " 3   FLAG_OWN_REALTY      438557 non-null  object \n",
      " 4   CNT_CHILDREN         438557 non-null  int64  \n",
      " 5   AMT_INCOME_TOTAL     438557 non-null  float64\n",
      " 6   NAME_INCOME_TYPE     438557 non-null  object \n",
      " 7   NAME_EDUCATION_TYPE  438557 non-null  object \n",
      " 8   NAME_FAMILY_STATUS   438557 non-null  object \n",
      " 9   NAME_HOUSING_TYPE    438557 non-null  object \n",
      " 10  DAYS_BIRTH           438557 non-null  int64  \n",
      " 11  DAYS_EMPLOYED        438557 non-null  int64  \n",
      " 12  FLAG_MOBIL           438557 non-null  int64  \n",
      " 13  FLAG_WORK_PHONE      438557 non-null  int64  \n",
      " 14  FLAG_PHONE           438557 non-null  int64  \n",
      " 15  FLAG_EMAIL           438557 non-null  int64  \n",
      " 16  OCCUPATION_TYPE      304354 non-null  object \n",
      " 17  CNT_FAM_MEMBERS      438557 non-null  float64\n",
      "dtypes: float64(2), int64(8), object(8)\n",
      "memory usage: 60.2+ MB\n"
     ]
    }
   ],
   "source": [
    "customer_df.info()"
   ]
  },
  {
   "cell_type": "markdown",
   "id": "4829b5e2",
   "metadata": {},
   "source": [
    "As can be seen above, the dataset consists of 17 columns, containing numeral as well as textual data. It also seems as if there is already an unique identifier for every customer in the column `ID`. A concrete description fo these different columns can be retrieved from the datasets [kaggle page](https://www.kaggle.com/datasets/rikdifos/credit-card-approval-prediction/data):\n",
    "\n",
    "|Feature name|Explanation|Remarks|\n",
    "|:-----------|:----------|:------|\n",
    "|ID \t     |Client number||\n",
    "|CODE_GENDER |\tGender \t||\n",
    "|FLAG_OWN_CAR| \tIs there a car \t||\n",
    "|FLAG_OWN_REALTY| \tIs there a property|| \t\n",
    "|CNT_CHILDREN| \tNumber of children \t||\n",
    "|AMT_INCOME_TOTAL| \tAnnual income \t||\n",
    "|NAME_INCOME_TYPE| \tIncome category \t||\n",
    "|NAME_EDUCATION_TYPE| \tEducation level ||\t\n",
    "|NAME_FAMILY_STATUS| \tMarital status \t||\n",
    "|NAME_HOUSING_TYPE| \tWay of living \t||\n",
    "|DAYS_BIRTH| \tBirthday |\tCount backwards from current day (0), -1 means yesterday|\n",
    "|DAYS_EMPLOYED| \tStart date of employment |\tCount backwards from current day(0). If positive, it means the person currently  unemployed.|\n",
    "|FLAG_MOBIL| \tIs there a mobile phone \t||\n",
    "|FLAG_WORK_PHONE| \tIs there a work phone \t||\n",
    "|FLAG_PHONE| \tIs there a phone \t||\n",
    "|FLAG_EMAIL| \tIs there an email \t||\n",
    "|OCCUPATION_TYPE| \tOccupation \t||\n",
    "|CNT_FAM_MEMBERS| \tFamily size||\n",
    "\n",
    "Now that the purpose of the columns is clear, the actual data can be analyzed:"
   ]
  },
  {
   "cell_type": "code",
   "execution_count": 4,
   "id": "104517cc",
   "metadata": {},
   "outputs": [
    {
     "data": {
      "text/html": [
       "<div>\n",
       "<style scoped>\n",
       "    .dataframe tbody tr th:only-of-type {\n",
       "        vertical-align: middle;\n",
       "    }\n",
       "\n",
       "    .dataframe tbody tr th {\n",
       "        vertical-align: top;\n",
       "    }\n",
       "\n",
       "    .dataframe thead th {\n",
       "        text-align: right;\n",
       "    }\n",
       "</style>\n",
       "<table border=\"1\" class=\"dataframe\">\n",
       "  <thead>\n",
       "    <tr style=\"text-align: right;\">\n",
       "      <th></th>\n",
       "      <th>ID</th>\n",
       "      <th>CODE_GENDER</th>\n",
       "      <th>FLAG_OWN_CAR</th>\n",
       "      <th>FLAG_OWN_REALTY</th>\n",
       "      <th>CNT_CHILDREN</th>\n",
       "      <th>AMT_INCOME_TOTAL</th>\n",
       "      <th>NAME_INCOME_TYPE</th>\n",
       "      <th>NAME_EDUCATION_TYPE</th>\n",
       "      <th>NAME_FAMILY_STATUS</th>\n",
       "      <th>NAME_HOUSING_TYPE</th>\n",
       "      <th>DAYS_BIRTH</th>\n",
       "      <th>DAYS_EMPLOYED</th>\n",
       "      <th>FLAG_MOBIL</th>\n",
       "      <th>FLAG_WORK_PHONE</th>\n",
       "      <th>FLAG_PHONE</th>\n",
       "      <th>FLAG_EMAIL</th>\n",
       "      <th>OCCUPATION_TYPE</th>\n",
       "      <th>CNT_FAM_MEMBERS</th>\n",
       "    </tr>\n",
       "  </thead>\n",
       "  <tbody>\n",
       "    <tr>\n",
       "      <th>0</th>\n",
       "      <td>5008804</td>\n",
       "      <td>M</td>\n",
       "      <td>Y</td>\n",
       "      <td>Y</td>\n",
       "      <td>0</td>\n",
       "      <td>427500.0</td>\n",
       "      <td>Working</td>\n",
       "      <td>Higher education</td>\n",
       "      <td>Civil marriage</td>\n",
       "      <td>Rented apartment</td>\n",
       "      <td>-12005</td>\n",
       "      <td>-4542</td>\n",
       "      <td>1</td>\n",
       "      <td>1</td>\n",
       "      <td>0</td>\n",
       "      <td>0</td>\n",
       "      <td>NaN</td>\n",
       "      <td>2.0</td>\n",
       "    </tr>\n",
       "    <tr>\n",
       "      <th>1</th>\n",
       "      <td>5008805</td>\n",
       "      <td>M</td>\n",
       "      <td>Y</td>\n",
       "      <td>Y</td>\n",
       "      <td>0</td>\n",
       "      <td>427500.0</td>\n",
       "      <td>Working</td>\n",
       "      <td>Higher education</td>\n",
       "      <td>Civil marriage</td>\n",
       "      <td>Rented apartment</td>\n",
       "      <td>-12005</td>\n",
       "      <td>-4542</td>\n",
       "      <td>1</td>\n",
       "      <td>1</td>\n",
       "      <td>0</td>\n",
       "      <td>0</td>\n",
       "      <td>NaN</td>\n",
       "      <td>2.0</td>\n",
       "    </tr>\n",
       "    <tr>\n",
       "      <th>2</th>\n",
       "      <td>5008806</td>\n",
       "      <td>M</td>\n",
       "      <td>Y</td>\n",
       "      <td>Y</td>\n",
       "      <td>0</td>\n",
       "      <td>112500.0</td>\n",
       "      <td>Working</td>\n",
       "      <td>Secondary / secondary special</td>\n",
       "      <td>Married</td>\n",
       "      <td>House / apartment</td>\n",
       "      <td>-21474</td>\n",
       "      <td>-1134</td>\n",
       "      <td>1</td>\n",
       "      <td>0</td>\n",
       "      <td>0</td>\n",
       "      <td>0</td>\n",
       "      <td>Security staff</td>\n",
       "      <td>2.0</td>\n",
       "    </tr>\n",
       "    <tr>\n",
       "      <th>3</th>\n",
       "      <td>5008808</td>\n",
       "      <td>F</td>\n",
       "      <td>N</td>\n",
       "      <td>Y</td>\n",
       "      <td>0</td>\n",
       "      <td>270000.0</td>\n",
       "      <td>Commercial associate</td>\n",
       "      <td>Secondary / secondary special</td>\n",
       "      <td>Single / not married</td>\n",
       "      <td>House / apartment</td>\n",
       "      <td>-19110</td>\n",
       "      <td>-3051</td>\n",
       "      <td>1</td>\n",
       "      <td>0</td>\n",
       "      <td>1</td>\n",
       "      <td>1</td>\n",
       "      <td>Sales staff</td>\n",
       "      <td>1.0</td>\n",
       "    </tr>\n",
       "    <tr>\n",
       "      <th>4</th>\n",
       "      <td>5008809</td>\n",
       "      <td>F</td>\n",
       "      <td>N</td>\n",
       "      <td>Y</td>\n",
       "      <td>0</td>\n",
       "      <td>270000.0</td>\n",
       "      <td>Commercial associate</td>\n",
       "      <td>Secondary / secondary special</td>\n",
       "      <td>Single / not married</td>\n",
       "      <td>House / apartment</td>\n",
       "      <td>-19110</td>\n",
       "      <td>-3051</td>\n",
       "      <td>1</td>\n",
       "      <td>0</td>\n",
       "      <td>1</td>\n",
       "      <td>1</td>\n",
       "      <td>Sales staff</td>\n",
       "      <td>1.0</td>\n",
       "    </tr>\n",
       "  </tbody>\n",
       "</table>\n",
       "</div>"
      ],
      "text/plain": [
       "        ID CODE_GENDER FLAG_OWN_CAR FLAG_OWN_REALTY  CNT_CHILDREN  \\\n",
       "0  5008804           M            Y               Y             0   \n",
       "1  5008805           M            Y               Y             0   \n",
       "2  5008806           M            Y               Y             0   \n",
       "3  5008808           F            N               Y             0   \n",
       "4  5008809           F            N               Y             0   \n",
       "\n",
       "   AMT_INCOME_TOTAL      NAME_INCOME_TYPE            NAME_EDUCATION_TYPE  \\\n",
       "0          427500.0               Working               Higher education   \n",
       "1          427500.0               Working               Higher education   \n",
       "2          112500.0               Working  Secondary / secondary special   \n",
       "3          270000.0  Commercial associate  Secondary / secondary special   \n",
       "4          270000.0  Commercial associate  Secondary / secondary special   \n",
       "\n",
       "     NAME_FAMILY_STATUS  NAME_HOUSING_TYPE  DAYS_BIRTH  DAYS_EMPLOYED  \\\n",
       "0        Civil marriage   Rented apartment      -12005          -4542   \n",
       "1        Civil marriage   Rented apartment      -12005          -4542   \n",
       "2               Married  House / apartment      -21474          -1134   \n",
       "3  Single / not married  House / apartment      -19110          -3051   \n",
       "4  Single / not married  House / apartment      -19110          -3051   \n",
       "\n",
       "   FLAG_MOBIL  FLAG_WORK_PHONE  FLAG_PHONE  FLAG_EMAIL OCCUPATION_TYPE  \\\n",
       "0           1                1           0           0             NaN   \n",
       "1           1                1           0           0             NaN   \n",
       "2           1                0           0           0  Security staff   \n",
       "3           1                0           1           1     Sales staff   \n",
       "4           1                0           1           1     Sales staff   \n",
       "\n",
       "   CNT_FAM_MEMBERS  \n",
       "0              2.0  \n",
       "1              2.0  \n",
       "2              2.0  \n",
       "3              1.0  \n",
       "4              1.0  "
      ]
     },
     "execution_count": 4,
     "metadata": {},
     "output_type": "execute_result"
    }
   ],
   "source": [
    "customer_df.head()"
   ]
  },
  {
   "cell_type": "markdown",
   "id": "0fef6505",
   "metadata": {},
   "source": [
    "From these first five entries several things can be observed:\n",
    "1. The ID does not start from 0 but seems to be unique.\n",
    "2. For the `CODE_GENDER` the flags `F` (Female) and `M` (Male) are used.\n",
    "3. For `FLAG_OWN_CAR` and `FLAG_OWN_REALTY` the flags `Y` (Yes) and `N` (No) are used.\n",
    "4. For `NAME_INCOME_TYPE`, `NAME_EDUCATION_TYPE`, `NAME_FAMILY_STATUS` and `NAME_HOUSING_TYPE` are textual fields, but seem to have only a few different values.\n",
    "5. `OCCUPATION_TYPE` is a textual field and the values seem to be very different (\"Freetext Field\").\n",
    "6. For `FLAG_MOBIL`, `FLAG_WORK_PHONE`, `FLAG_PHONE` and `FLAG_EMAIL` the flags 1 (Yes) and 0 (No) are used.\n",
    "\n",
    "Before basing the data perparation on these findings, the assumptions have to be validated:\n",
    "\n",
    "#### 1. Unique `ID`"
   ]
  },
  {
   "cell_type": "code",
   "execution_count": 5,
   "id": "21461759",
   "metadata": {
    "scrolled": true
   },
   "outputs": [
    {
     "data": {
      "text/plain": [
       "ID\n",
       "7137299    2\n",
       "7702238    2\n",
       "7282535    2\n",
       "7243768    2\n",
       "7050948    2\n",
       "          ..\n",
       "5690727    1\n",
       "6621262    1\n",
       "6621261    1\n",
       "6621260    1\n",
       "6842885    1\n",
       "Name: count, Length: 438510, dtype: int64"
      ]
     },
     "execution_count": 5,
     "metadata": {},
     "output_type": "execute_result"
    }
   ],
   "source": [
    "customer_df['ID'].value_counts()"
   ]
  },
  {
   "cell_type": "markdown",
   "id": "fa7df86a",
   "metadata": {},
   "source": [
    "The ouptut of the value count clearly shows that not every ID is unique. As some IDs are contained twice, the real amout of customers contained in the dataset is only 438510.\n",
    "#### 2. Gender"
   ]
  },
  {
   "cell_type": "code",
   "execution_count": 6,
   "id": "97081a13",
   "metadata": {},
   "outputs": [
    {
     "data": {
      "text/plain": [
       "CODE_GENDER\n",
       "F    294440\n",
       "M    144117\n",
       "Name: count, dtype: int64"
      ]
     },
     "execution_count": 6,
     "metadata": {},
     "output_type": "execute_result"
    }
   ],
   "source": [
    "customer_df['CODE_GENDER'].value_counts()"
   ]
  },
  {
   "cell_type": "markdown",
   "id": "57f68775",
   "metadata": {},
   "source": [
    "For the gender the assumption that only the flags `F` and `M` are used was correct.\n",
    "#### 3. Flag Car / Real-Estate"
   ]
  },
  {
   "cell_type": "code",
   "execution_count": 7,
   "id": "ea31e73c",
   "metadata": {},
   "outputs": [
    {
     "name": "stdout",
     "output_type": "stream",
     "text": [
      "FLAG_OWN_CAR\n",
      "N    275459\n",
      "Y    163098\n",
      "Name: count, dtype: int64\n",
      "FLAG_OWN_REALTY\n",
      "Y    304074\n",
      "N    134483\n",
      "Name: count, dtype: int64\n"
     ]
    }
   ],
   "source": [
    "print(customer_df['FLAG_OWN_CAR'].value_counts())\n",
    "print(customer_df['FLAG_OWN_REALTY'].value_counts())"
   ]
  },
  {
   "cell_type": "markdown",
   "id": "9959af81",
   "metadata": {},
   "source": [
    "Also for the flags for the possesion of car and real-estate the assumption that there are only the flags `Y` and `N` was correct.\n",
    "#### 4. Text fields income, education, family and housing"
   ]
  },
  {
   "cell_type": "code",
   "execution_count": 8,
   "id": "2d09f567",
   "metadata": {},
   "outputs": [
    {
     "data": {
      "text/plain": [
       "NAME_INCOME_TYPE\n",
       "Working                 226104\n",
       "Commercial associate    100757\n",
       "Pensioner                75493\n",
       "State servant            36186\n",
       "Student                     17\n",
       "Name: count, dtype: int64"
      ]
     },
     "execution_count": 8,
     "metadata": {},
     "output_type": "execute_result"
    }
   ],
   "source": [
    "customer_df['NAME_INCOME_TYPE'].value_counts()"
   ]
  },
  {
   "cell_type": "markdown",
   "id": "92a80281",
   "metadata": {},
   "source": [
    "As can be seen above, there are five different types of income. This means the column can be encoded without any problems and can be used for the modeling later."
   ]
  },
  {
   "cell_type": "code",
   "execution_count": 9,
   "id": "b7e98f96",
   "metadata": {},
   "outputs": [
    {
     "data": {
      "text/plain": [
       "NAME_EDUCATION_TYPE\n",
       "Secondary / secondary special    301821\n",
       "Higher education                 117522\n",
       "Incomplete higher                 14851\n",
       "Lower secondary                    4051\n",
       "Academic degree                     312\n",
       "Name: count, dtype: int64"
      ]
     },
     "execution_count": 9,
     "metadata": {},
     "output_type": "execute_result"
    }
   ],
   "source": [
    "customer_df['NAME_EDUCATION_TYPE'].value_counts()"
   ]
  },
  {
   "cell_type": "markdown",
   "id": "f773a454",
   "metadata": {},
   "source": [
    "The education field also consists of only five types and can therefore also be used for modelling without any problems."
   ]
  },
  {
   "cell_type": "code",
   "execution_count": 10,
   "id": "ac363c26",
   "metadata": {},
   "outputs": [
    {
     "data": {
      "text/plain": [
       "NAME_FAMILY_STATUS\n",
       "Married                 299828\n",
       "Single / not married     55271\n",
       "Civil marriage           36532\n",
       "Separated                27251\n",
       "Widow                    19675\n",
       "Name: count, dtype: int64"
      ]
     },
     "execution_count": 10,
     "metadata": {},
     "output_type": "execute_result"
    }
   ],
   "source": [
    "customer_df['NAME_FAMILY_STATUS'].value_counts()"
   ]
  },
  {
   "cell_type": "markdown",
   "id": "686e7be1",
   "metadata": {},
   "source": [
    "Also the family status has five different values."
   ]
  },
  {
   "cell_type": "code",
   "execution_count": 11,
   "id": "75506a47",
   "metadata": {},
   "outputs": [
    {
     "data": {
      "text/plain": [
       "NAME_HOUSING_TYPE\n",
       "House / apartment      393831\n",
       "With parents            19077\n",
       "Municipal apartment     14214\n",
       "Rented apartment         5974\n",
       "Office apartment         3922\n",
       "Co-op apartment          1539\n",
       "Name: count, dtype: int64"
      ]
     },
     "execution_count": 11,
     "metadata": {},
     "output_type": "execute_result"
    }
   ],
   "source": [
    "customer_df['NAME_HOUSING_TYPE'].value_counts()"
   ]
  },
  {
   "cell_type": "markdown",
   "id": "2f2fc144",
   "metadata": {},
   "source": [
    "The housing has six different values, which is still acceptable.\n",
    "#### 5. Text field occupation type"
   ]
  },
  {
   "cell_type": "code",
   "execution_count": 12,
   "id": "e8524c65",
   "metadata": {},
   "outputs": [
    {
     "name": "stdout",
     "output_type": "stream",
     "text": [
      "OCCUPATION_TYPE\n",
      "Laborers                 78240\n",
      "Core staff               43007\n",
      "Sales staff              41098\n",
      "Managers                 35487\n",
      "Drivers                  26090\n",
      "High skill tech staff    17289\n",
      "Accountants              15985\n",
      "Medicine staff           13520\n",
      "Cooking staff             8076\n",
      "Security staff            7993\n",
      "Cleaning staff            5845\n",
      "Private service staff     3456\n",
      "Low-skill Laborers        2140\n",
      "Secretaries               2044\n",
      "Waiters/barmen staff      1665\n",
      "Realty agents             1041\n",
      "HR staff                   774\n",
      "IT staff                   604\n",
      "Name: count, dtype: int64\n",
      "Amount of null values:  134203\n"
     ]
    }
   ],
   "source": [
    "print(customer_df['OCCUPATION_TYPE'].value_counts())\n",
    "print(\"Amount of null values: \", customer_df['OCCUPATION_TYPE'].isnull().sum())"
   ]
  },
  {
   "cell_type": "markdown",
   "id": "4c95a81d",
   "metadata": {},
   "source": [
    "Even though there are way less different values than expected (only 18), the column contains many null values, which may make it difficult to work with it.\n",
    "#### 6. Contact method flags"
   ]
  },
  {
   "cell_type": "code",
   "execution_count": 13,
   "id": "cc0977c1",
   "metadata": {},
   "outputs": [
    {
     "name": "stdout",
     "output_type": "stream",
     "text": [
      "FLAG_MOBIL\n",
      "1    438557\n",
      "Name: count, dtype: int64\n",
      "FLAG_WORK_PHONE\n",
      "0    348156\n",
      "1     90401\n",
      "Name: count, dtype: int64\n",
      "FLAG_PHONE\n",
      "0    312353\n",
      "1    126204\n",
      "Name: count, dtype: int64\n",
      "FLAG_EMAIL\n",
      "0    391102\n",
      "1     47455\n",
      "Name: count, dtype: int64\n"
     ]
    }
   ],
   "source": [
    "print(customer_df['FLAG_MOBIL'].value_counts())\n",
    "print(customer_df['FLAG_WORK_PHONE'].value_counts())\n",
    "print(customer_df['FLAG_PHONE'].value_counts())\n",
    "print(customer_df['FLAG_EMAIL'].value_counts())"
   ]
  },
  {
   "cell_type": "markdown",
   "id": "476de097",
   "metadata": {},
   "source": [
    "As expected, these columns only use the flags `1` and `0`. On top of that, column `FLAG_MOBIL` only contains the value `1`, which means all customers at least are registered with a mobile phone. Therefore, this column can be left out completely.\n",
    "### credit_record.csv\n",
    "Again, first analyze the columns:"
   ]
  },
  {
   "cell_type": "code",
   "execution_count": 14,
   "id": "476f8561",
   "metadata": {},
   "outputs": [
    {
     "name": "stdout",
     "output_type": "stream",
     "text": [
      "<class 'pandas.core.frame.DataFrame'>\n",
      "RangeIndex: 1048575 entries, 0 to 1048574\n",
      "Data columns (total 3 columns):\n",
      " #   Column          Non-Null Count    Dtype \n",
      "---  ------          --------------    ----- \n",
      " 0   ID              1048575 non-null  int64 \n",
      " 1   MONTHS_BALANCE  1048575 non-null  int64 \n",
      " 2   STATUS          1048575 non-null  object\n",
      "dtypes: int64(2), object(1)\n",
      "memory usage: 24.0+ MB\n"
     ]
    }
   ],
   "source": [
    "credit_df.info()"
   ]
  },
  {
   "cell_type": "markdown",
   "id": "d11dd607",
   "metadata": {},
   "source": [
    "As can be seen above, this table only contains three columns. According to the [kaggle page](https://www.kaggle.com/datasets/rikdifos/credit-card-approval-prediction/data), these columns mean the following:\n",
    "\n",
    "|Feature name| \tExplanation |\tRemarks|\n",
    "|:-|:-|:-|\n",
    "|ID |\tClient number \t||\n",
    "|MONTHS_BALANCE |\tRecord month |\tThe month of the extracted data is the starting point, backwards, 0 is the current month, -1 is the previous month, and so on|\n",
    "|STATUS |\tStatus| \t0: 1-29 days past due 1: 30-59 days past due 2: 60-89 days overdue 3: 90-119 days overdue 4: 120-149 days overdue 5: Overdue or bad debts, write-offs for more than 150 days C: paid off that month X: No loan for the month|\n",
    "\n",
    "Checking for unique `ID` values now reveals for how many customers there exists credit data:"
   ]
  },
  {
   "cell_type": "code",
   "execution_count": 15,
   "id": "04598c16",
   "metadata": {},
   "outputs": [
    {
     "data": {
      "text/plain": [
       "45985"
      ]
     },
     "execution_count": 15,
     "metadata": {},
     "output_type": "execute_result"
    }
   ],
   "source": [
    "len(credit_df['ID'].unique())"
   ]
  },
  {
   "cell_type": "markdown",
   "id": "6412dea0",
   "metadata": {},
   "source": [
    "There is only credit data for 45985 customers, that means only parts of the `customer_df` can be used.\n",
    "As a last step check the values of the `STATUS` column:"
   ]
  },
  {
   "cell_type": "code",
   "execution_count": 16,
   "id": "8d0e561b",
   "metadata": {
    "scrolled": true
   },
   "outputs": [
    {
     "data": {
      "text/plain": [
       "STATUS\n",
       "C    442031\n",
       "0    383120\n",
       "X    209230\n",
       "1     11090\n",
       "5      1693\n",
       "2       868\n",
       "3       320\n",
       "4       223\n",
       "Name: count, dtype: int64"
      ]
     },
     "execution_count": 16,
     "metadata": {},
     "output_type": "execute_result"
    }
   ],
   "source": [
    "credit_df['STATUS'].value_counts()"
   ]
  },
  {
   "cell_type": "markdown",
   "id": "9aef28f9",
   "metadata": {},
   "source": [
    "The information given on the kaggle page is correct, only the stated flags are used.\n",
    "### Summary\n",
    "Overall, the dataset consists of two parts: the customer data and the credit data. The customer data mostly contains information about income, job, family situation and contact methods as these are important aspects for evaluating the creditworthiness. The credit data is basically a credit history overview, showing for a given custumer and month if the credit was paid back on time. This credit data can now be used for calculating an \"overdue_likelyhood\" for every customer which states how likely it is for this specific customer to not pay it's credit back in time. This is an important information for a credit institute. Based on all the findings in this section the two datasets can now be prepared, connected and finally used for training a machine learning model."
   ]
  },
  {
   "cell_type": "markdown",
   "id": "61340257",
   "metadata": {},
   "source": [
    "## Data Preparation"
   ]
  },
  {
   "cell_type": "markdown",
   "id": "c37e164e",
   "metadata": {},
   "source": [
    "First, the credit data must be brought into a format that the classifiers can work with. Therefore a new feature the \"overdue likelihood\" is calculated. For every customer, the amount of credits that were not paid back on time is devided by the total amount of it's credits. This gives a percentage how likely it is for each customer to not pay back on time."
   ]
  },
  {
   "cell_type": "code",
   "execution_count": 17,
   "id": "d62cc308",
   "metadata": {},
   "outputs": [
    {
     "name": "stdout",
     "output_type": "stream",
     "text": [
      "STATUS       ID  overdue_likelihood\n",
      "0       5001711            1.000000\n",
      "1       5001712            0.526316\n",
      "2       5001713                 NaN\n",
      "3       5001714                 NaN\n",
      "4       5001715                 NaN\n"
     ]
    }
   ],
   "source": [
    "grouped_df = credit_df.groupby('ID')['STATUS'].value_counts().unstack(fill_value=0)\n",
    "grouped_df['overdue_likelihood'] = 1 - (grouped_df['C'] / (grouped_df.sum(axis=1) - grouped_df['X']))\n",
    "\n",
    "result_df = grouped_df.reset_index()[['ID', 'overdue_likelihood']]\n",
    "print(result_df.head())\n"
   ]
  },
  {
   "cell_type": "markdown",
   "id": "789c9367",
   "metadata": {},
   "source": [
    "As there are customers that don't have any credits at all (leads to division by zero which is forbidden), the new features contain some \"NaN\" values:"
   ]
  },
  {
   "cell_type": "code",
   "execution_count": 18,
   "id": "1d90bd5f",
   "metadata": {},
   "outputs": [
    {
     "name": "stdout",
     "output_type": "stream",
     "text": [
      "The number of entries with NaN values in overdue_likelihood: 4536\n"
     ]
    }
   ],
   "source": [
    "nan_count = result_df['overdue_likelihood'].isna().sum()\n",
    "print(f'The number of entries with NaN values in overdue_likelihood: {nan_count}')"
   ]
  },
  {
   "cell_type": "markdown",
   "id": "2a2aa80c",
   "metadata": {},
   "source": [
    "As we can't use the NaN values in a reasonable way, they have to be removed, leaving us with ca. 33110 usable customers."
   ]
  },
  {
   "cell_type": "code",
   "execution_count": 19,
   "id": "2461462c",
   "metadata": {},
   "outputs": [
    {
     "name": "stdout",
     "output_type": "stream",
     "text": [
      "The number of entries with NaN values in overdue_likelihood: 0\n"
     ]
    }
   ],
   "source": [
    "result_df.dropna(subset=['overdue_likelihood'], inplace=True)\n",
    "nan_count = result_df['overdue_likelihood'].isna().sum()\n",
    "\n",
    "print(f'The number of entries with NaN values in overdue_likelihood: {nan_count}')"
   ]
  },
  {
   "cell_type": "markdown",
   "id": "421c5c50",
   "metadata": {},
   "source": [
    "Finally, the two dataframes have to be connected, so the classifiers can use one single, merged dataframe."
   ]
  },
  {
   "cell_type": "code",
   "execution_count": 20,
   "id": "79178d71",
   "metadata": {},
   "outputs": [
    {
     "name": "stdout",
     "output_type": "stream",
     "text": [
      "        ID CODE_GENDER FLAG_OWN_CAR FLAG_OWN_REALTY  CNT_CHILDREN  \\\n",
      "0  5008804           M            Y               Y             0   \n",
      "1  5008805           M            Y               Y             0   \n",
      "2  5008806           M            Y               Y             0   \n",
      "3  5008808           F            N               Y             0   \n",
      "4  5008810           F            N               Y             0   \n",
      "\n",
      "   AMT_INCOME_TOTAL      NAME_INCOME_TYPE            NAME_EDUCATION_TYPE  \\\n",
      "0          427500.0               Working               Higher education   \n",
      "1          427500.0               Working               Higher education   \n",
      "2          112500.0               Working  Secondary / secondary special   \n",
      "3          270000.0  Commercial associate  Secondary / secondary special   \n",
      "4          270000.0  Commercial associate  Secondary / secondary special   \n",
      "\n",
      "     NAME_FAMILY_STATUS  NAME_HOUSING_TYPE  DAYS_BIRTH  DAYS_EMPLOYED  \\\n",
      "0        Civil marriage   Rented apartment      -12005          -4542   \n",
      "1        Civil marriage   Rented apartment      -12005          -4542   \n",
      "2               Married  House / apartment      -21474          -1134   \n",
      "3  Single / not married  House / apartment      -19110          -3051   \n",
      "4  Single / not married  House / apartment      -19110          -3051   \n",
      "\n",
      "   FLAG_MOBIL  FLAG_WORK_PHONE  FLAG_PHONE  FLAG_EMAIL OCCUPATION_TYPE  \\\n",
      "0           1                1           0           0             NaN   \n",
      "1           1                1           0           0             NaN   \n",
      "2           1                0           0           0  Security staff   \n",
      "3           1                0           1           1     Sales staff   \n",
      "4           1                0           1           1     Sales staff   \n",
      "\n",
      "   CNT_FAM_MEMBERS  overdue_likelihood  \n",
      "0              2.0            0.133333  \n",
      "1              2.0            0.142857  \n",
      "2              2.0            0.500000  \n",
      "3              1.0            1.000000  \n",
      "4              1.0            0.285714  \n"
     ]
    }
   ],
   "source": [
    "merged_df = pd.merge(customer_df, result_df, on='ID', how='inner')\n",
    "print(merged_df.head())"
   ]
  },
  {
   "cell_type": "markdown",
   "id": "c19cca54",
   "metadata": {},
   "source": [
    "As the dataframe already has a large amout of columns, some columns that are not too important should be dropped to reduce the data complexiti. The following tables are only about contact information and can therefore be ignored:"
   ]
  },
  {
   "cell_type": "code",
   "execution_count": 21,
   "id": "6ddeb34d",
   "metadata": {},
   "outputs": [],
   "source": [
    "merged_df = merged_df.drop('FLAG_MOBIL', axis=1)\n",
    "merged_df = merged_df.drop('FLAG_WORK_PHONE', axis=1)\n",
    "merged_df = merged_df.drop('FLAG_PHONE', axis=1)\n",
    "merged_df = merged_df.drop('FLAG_EMAIL', axis=1)"
   ]
  },
  {
   "cell_type": "markdown",
   "id": "29431195",
   "metadata": {},
   "source": [
    "As already mentioned in the data understanding, the occupation type has to many different values, and can therefore also not be used. Also, the ID is not necessary anymore as the two dataframes are already merged."
   ]
  },
  {
   "cell_type": "code",
   "execution_count": 22,
   "id": "d0a868b3",
   "metadata": {},
   "outputs": [],
   "source": [
    "merged_df = merged_df.drop('OCCUPATION_TYPE', axis=1)\n",
    "merged_df = merged_df.drop('ID', axis=1)"
   ]
  },
  {
   "cell_type": "markdown",
   "id": "44b1d7e6",
   "metadata": {},
   "source": [
    "Whats left is to encode the features, so that in the end only numerical values are contained. Therefore all columns with only two different values are ordinal encoded and all other columns are one hot encoded."
   ]
  },
  {
   "cell_type": "code",
   "execution_count": 23,
   "id": "606f7d26",
   "metadata": {
    "scrolled": true
   },
   "outputs": [
    {
     "name": "stdout",
     "output_type": "stream",
     "text": [
      "   CODE_GENDER  FLAG_OWN_CAR  FLAG_OWN_REALTY  CNT_CHILDREN  AMT_INCOME_TOTAL  \\\n",
      "0          1.0           1.0              1.0             0          427500.0   \n",
      "1          1.0           1.0              1.0             0          427500.0   \n",
      "2          1.0           1.0              1.0             0          112500.0   \n",
      "3          0.0           0.0              1.0             0          270000.0   \n",
      "4          0.0           0.0              1.0             0          270000.0   \n",
      "\n",
      "   DAYS_BIRTH  DAYS_EMPLOYED  CNT_FAM_MEMBERS  overdue_likelihood  \\\n",
      "0      -12005          -4542              2.0            0.133333   \n",
      "1      -12005          -4542              2.0            0.142857   \n",
      "2      -21474          -1134              2.0            0.500000   \n",
      "3      -19110          -3051              1.0            1.000000   \n",
      "4      -19110          -3051              1.0            0.285714   \n",
      "\n",
      "   NAME_INCOME_TYPE_Commercial associate  ...  \\\n",
      "0                                  False  ...   \n",
      "1                                  False  ...   \n",
      "2                                  False  ...   \n",
      "3                                   True  ...   \n",
      "4                                   True  ...   \n",
      "\n",
      "   NAME_HOUSING_TYPE_House / apartment  NAME_HOUSING_TYPE_Municipal apartment  \\\n",
      "0                                False                                  False   \n",
      "1                                False                                  False   \n",
      "2                                 True                                  False   \n",
      "3                                 True                                  False   \n",
      "4                                 True                                  False   \n",
      "\n",
      "   NAME_HOUSING_TYPE_Office apartment  NAME_HOUSING_TYPE_Rented apartment  \\\n",
      "0                               False                                True   \n",
      "1                               False                                True   \n",
      "2                               False                               False   \n",
      "3                               False                               False   \n",
      "4                               False                               False   \n",
      "\n",
      "   NAME_HOUSING_TYPE_With parents  NAME_EDUCATION_TYPE_Academic degree  \\\n",
      "0                           False                                False   \n",
      "1                           False                                False   \n",
      "2                           False                                False   \n",
      "3                           False                                False   \n",
      "4                           False                                False   \n",
      "\n",
      "   NAME_EDUCATION_TYPE_Higher education  \\\n",
      "0                                  True   \n",
      "1                                  True   \n",
      "2                                 False   \n",
      "3                                 False   \n",
      "4                                 False   \n",
      "\n",
      "   NAME_EDUCATION_TYPE_Incomplete higher  NAME_EDUCATION_TYPE_Lower secondary  \\\n",
      "0                                  False                                False   \n",
      "1                                  False                                False   \n",
      "2                                  False                                False   \n",
      "3                                  False                                False   \n",
      "4                                  False                                False   \n",
      "\n",
      "   NAME_EDUCATION_TYPE_Secondary / secondary special  \n",
      "0                                              False  \n",
      "1                                              False  \n",
      "2                                               True  \n",
      "3                                               True  \n",
      "4                                               True  \n",
      "\n",
      "[5 rows x 30 columns]\n"
     ]
    }
   ],
   "source": [
    "one_hot_cols = ['NAME_INCOME_TYPE', 'NAME_FAMILY_STATUS', 'NAME_HOUSING_TYPE', 'NAME_EDUCATION_TYPE']\n",
    "ordinal_cols = ['CODE_GENDER', 'FLAG_OWN_CAR', 'FLAG_OWN_REALTY']\n",
    "\n",
    "\n",
    "df_ord = merged_df.copy()\n",
    "ordinal_encoder = OrdinalEncoder()\n",
    "df_ord[ordinal_cols] = ordinal_encoder.fit_transform(df_ord[ordinal_cols])\n",
    "\n",
    "df_enc = pd.get_dummies(df_ord, columns=one_hot_cols)\n",
    "\n",
    "print(df_enc.head())"
   ]
  },
  {
   "cell_type": "markdown",
   "id": "8ae813e4",
   "metadata": {},
   "source": [
    "## Modeling"
   ]
  },
  {
   "cell_type": "markdown",
   "id": "2cb8f460",
   "metadata": {},
   "source": [
    "For the modelling we chose a Desicion Tree and KNN for classification and Ridge regression to evaluate different techniques for this specific dataset. Finally, as this is a very complex problem, a neural network is tested on the dataset."
   ]
  },
  {
   "cell_type": "markdown",
   "id": "f339234e",
   "metadata": {},
   "source": [
    "### Desicion Tree"
   ]
  },
  {
   "cell_type": "markdown",
   "id": "b92297b9",
   "metadata": {},
   "source": [
    "For a decision tree we need class labels that will be predicted. Therefore, a new feature \"overdue_class\" is created based on the overdue likelyhood. As the dataset is very unbalanced, the class threshold is chosen in a way that both classes have an comparable amount of values."
   ]
  },
  {
   "cell_type": "code",
   "execution_count": 24,
   "id": "1e495388",
   "metadata": {},
   "outputs": [],
   "source": [
    "df_enc['overdue_class'] = pd.qcut(df_enc['overdue_likelihood'], q=2, labels=['1', '2'])"
   ]
  },
  {
   "cell_type": "markdown",
   "id": "7eaf8872",
   "metadata": {},
   "source": [
    "Now that the target feature is present, we can seperate X and Y:"
   ]
  },
  {
   "cell_type": "code",
   "execution_count": 25,
   "id": "a7406817",
   "metadata": {},
   "outputs": [],
   "source": [
    "X_enc = df_enc.drop('overdue_class', axis=1)\n",
    "X_enc = X_enc.drop('overdue_likelihood', axis=1)\n",
    "Y = df_enc['overdue_class']"
   ]
  },
  {
   "cell_type": "markdown",
   "id": "47684e4a",
   "metadata": {},
   "source": [
    "As the last step before training, the data has to be scaled:"
   ]
  },
  {
   "cell_type": "code",
   "execution_count": 26,
   "id": "f9328226",
   "metadata": {},
   "outputs": [],
   "source": [
    "scaler = StandardScaler()\n",
    "X_scaled = scaler.fit_transform(X_enc)\n",
    "df_scaled = pd.DataFrame(X_scaled, columns= X_enc.columns)"
   ]
  },
  {
   "cell_type": "markdown",
   "id": "b21aac76",
   "metadata": {},
   "source": [
    "Now, the data can be split into test and training data and then the model can be trained."
   ]
  },
  {
   "cell_type": "code",
   "execution_count": 27,
   "id": "c262a4da",
   "metadata": {},
   "outputs": [],
   "source": [
    "X_train, X_test, y_train, y_test = train_test_split(df_scaled, Y, test_size=0.3, random_state=42)"
   ]
  },
  {
   "cell_type": "code",
   "execution_count": 28,
   "id": "712765d0",
   "metadata": {},
   "outputs": [
    {
     "name": "stdout",
     "output_type": "stream",
     "text": [
      "accurary: 0.6572032618544247\n"
     ]
    }
   ],
   "source": [
    "clf = DecisionTreeClassifier(random_state=42)\n",
    "\n",
    "clf = clf.fit(X_train,y_train)\n",
    "y_pred = clf.predict(X_test)\n",
    "\n",
    "print('accurary:', accuracy_score(y_test, y_pred))"
   ]
  },
  {
   "cell_type": "markdown",
   "id": "de286faa",
   "metadata": {},
   "source": [
    "Now train another tree with a fixed depth of five, as the tree above is most likely overfitted."
   ]
  },
  {
   "cell_type": "code",
   "execution_count": 29,
   "id": "843c2d73",
   "metadata": {},
   "outputs": [
    {
     "name": "stdout",
     "output_type": "stream",
     "text": [
      "accurary: 0.5313601127554616\n"
     ]
    }
   ],
   "source": [
    "clf = DecisionTreeClassifier(random_state=42, max_depth=5)\n",
    "\n",
    "clf = clf.fit(X_train,y_train)\n",
    "y_pred = clf.predict(X_test)\n",
    "\n",
    "print('accurary:', accuracy_score(y_test, y_pred))"
   ]
  },
  {
   "cell_type": "markdown",
   "id": "fc698de6",
   "metadata": {},
   "source": [
    "Unfortunately the tree seems to  be just 3% better than guessing...\n",
    "\n",
    "The advantage of the desicion tree is that we can have a look at the desicions that are taken before a class is assigned. As can be seen from the following plot, the most important feature seems to be the days since a customer is employed, as it is used very often to make a desicion."
   ]
  },
  {
   "cell_type": "code",
   "execution_count": 30,
   "id": "a2750307",
   "metadata": {
    "scrolled": true
   },
   "outputs": [
    {
     "name": "stdout",
     "output_type": "stream",
     "text": [
      "|--- DAYS_EMPLOYED <= -0.45\n",
      "|   |--- AMT_INCOME_TOTAL <= 2.80\n",
      "|   |   |--- DAYS_EMPLOYED <= -0.46\n",
      "|   |   |   |--- DAYS_BIRTH <= 0.99\n",
      "|   |   |   |   |--- DAYS_EMPLOYED <= -0.46\n",
      "|   |   |   |   |   |--- class: 1\n",
      "|   |   |   |   |--- DAYS_EMPLOYED >  -0.46\n",
      "|   |   |   |   |   |--- class: 2\n",
      "|   |   |   |--- DAYS_BIRTH >  0.99\n",
      "|   |   |   |   |--- CNT_CHILDREN <= 0.10\n",
      "|   |   |   |   |   |--- class: 2\n",
      "|   |   |   |   |--- CNT_CHILDREN >  0.10\n",
      "|   |   |   |   |   |--- class: 1\n",
      "|   |   |--- DAYS_EMPLOYED >  -0.46\n",
      "|   |   |   |--- DAYS_BIRTH <= -1.89\n",
      "|   |   |   |   |--- CODE_GENDER <= 0.36\n",
      "|   |   |   |   |   |--- class: 2\n",
      "|   |   |   |   |--- CODE_GENDER >  0.36\n",
      "|   |   |   |   |   |--- class: 2\n",
      "|   |   |   |--- DAYS_BIRTH >  -1.89\n",
      "|   |   |   |   |--- DAYS_BIRTH <= 1.49\n",
      "|   |   |   |   |   |--- class: 1\n",
      "|   |   |   |   |--- DAYS_BIRTH >  1.49\n",
      "|   |   |   |   |   |--- class: 2\n",
      "|   |--- AMT_INCOME_TOTAL >  2.80\n",
      "|   |   |--- NAME_HOUSING_TYPE_Rented apartment <= 3.83\n",
      "|   |   |   |--- DAYS_EMPLOYED <= -0.45\n",
      "|   |   |   |   |--- AMT_INCOME_TOTAL <= 5.71\n",
      "|   |   |   |   |   |--- class: 2\n",
      "|   |   |   |   |--- AMT_INCOME_TOTAL >  5.71\n",
      "|   |   |   |   |   |--- class: 2\n",
      "|   |   |   |--- DAYS_EMPLOYED >  -0.45\n",
      "|   |   |   |   |--- class: 1\n",
      "|   |   |--- NAME_HOUSING_TYPE_Rented apartment >  3.83\n",
      "|   |   |   |--- class: 2\n",
      "|--- DAYS_EMPLOYED >  -0.45\n",
      "|   |--- DAYS_EMPLOYED <= -0.44\n",
      "|   |   |--- DAYS_EMPLOYED <= -0.44\n",
      "|   |   |   |--- DAYS_EMPLOYED <= -0.45\n",
      "|   |   |   |   |--- NAME_FAMILY_STATUS_Single / not married <= 1.08\n",
      "|   |   |   |   |   |--- class: 2\n",
      "|   |   |   |   |--- NAME_FAMILY_STATUS_Single / not married >  1.08\n",
      "|   |   |   |   |   |--- class: 2\n",
      "|   |   |   |--- DAYS_EMPLOYED >  -0.45\n",
      "|   |   |   |   |--- DAYS_BIRTH <= 0.51\n",
      "|   |   |   |   |   |--- class: 2\n",
      "|   |   |   |   |--- DAYS_BIRTH >  0.51\n",
      "|   |   |   |   |   |--- class: 2\n",
      "|   |   |--- DAYS_EMPLOYED >  -0.44\n",
      "|   |   |   |--- FLAG_OWN_REALTY <= -0.37\n",
      "|   |   |   |   |--- AMT_INCOME_TOTAL <= -1.10\n",
      "|   |   |   |   |   |--- class: 1\n",
      "|   |   |   |   |--- AMT_INCOME_TOTAL >  -1.10\n",
      "|   |   |   |   |   |--- class: 2\n",
      "|   |   |   |--- FLAG_OWN_REALTY >  -0.37\n",
      "|   |   |   |   |--- AMT_INCOME_TOTAL <= 1.05\n",
      "|   |   |   |   |   |--- class: 2\n",
      "|   |   |   |   |--- AMT_INCOME_TOTAL >  1.05\n",
      "|   |   |   |   |   |--- class: 1\n",
      "|   |--- DAYS_EMPLOYED >  -0.44\n",
      "|   |   |--- DAYS_BIRTH <= 1.50\n",
      "|   |   |   |--- AMT_INCOME_TOTAL <= -0.75\n",
      "|   |   |   |   |--- DAYS_BIRTH <= 0.84\n",
      "|   |   |   |   |   |--- class: 1\n",
      "|   |   |   |   |--- DAYS_BIRTH >  0.84\n",
      "|   |   |   |   |   |--- class: 2\n",
      "|   |   |   |--- AMT_INCOME_TOTAL >  -0.75\n",
      "|   |   |   |   |--- DAYS_EMPLOYED <= -0.44\n",
      "|   |   |   |   |   |--- class: 1\n",
      "|   |   |   |   |--- DAYS_EMPLOYED >  -0.44\n",
      "|   |   |   |   |   |--- class: 2\n",
      "|   |   |--- DAYS_BIRTH >  1.50\n",
      "|   |   |   |--- DAYS_BIRTH <= 1.51\n",
      "|   |   |   |   |--- DAYS_EMPLOYED <= -0.44\n",
      "|   |   |   |   |   |--- class: 1\n",
      "|   |   |   |   |--- DAYS_EMPLOYED >  -0.44\n",
      "|   |   |   |   |   |--- class: 2\n",
      "|   |   |   |--- DAYS_BIRTH >  1.51\n",
      "|   |   |   |   |--- AMT_INCOME_TOTAL <= -0.27\n",
      "|   |   |   |   |   |--- class: 2\n",
      "|   |   |   |   |--- AMT_INCOME_TOTAL >  -0.27\n",
      "|   |   |   |   |   |--- class: 2\n",
      "\n"
     ]
    }
   ],
   "source": [
    "r = export_text(clf, feature_names=X_test.columns)\n",
    "print(r)"
   ]
  },
  {
   "cell_type": "markdown",
   "id": "e7214b22",
   "metadata": {},
   "source": [
    "### KNN\n",
    "As the second classifier, KNN is used. Like for the desicion tree, a class label must be generated first. This time we use three different classes, each representing a third of the complete likelihood range."
   ]
  },
  {
   "cell_type": "code",
   "execution_count": 31,
   "id": "0da05707",
   "metadata": {
    "scrolled": true
   },
   "outputs": [
    {
     "data": {
      "text/plain": [
       "overdue_class\n",
       "3    17650\n",
       "1     9784\n",
       "2     5676\n",
       "Name: count, dtype: int64"
      ]
     },
     "execution_count": 31,
     "metadata": {},
     "output_type": "execute_result"
    }
   ],
   "source": [
    "bins = [0, 0.33, 0.66, 1]\n",
    "labels = ['1', '2', '3']\n",
    "\n",
    "df_enc['overdue_class'] = pd.cut(df_enc['overdue_likelihood'], bins=bins, labels=labels, include_lowest=True)\n",
    "df_enc['overdue_class'].value_counts()"
   ]
  },
  {
   "cell_type": "markdown",
   "id": "2ec2e777",
   "metadata": {},
   "source": [
    "As the class label is created, the data can be split into x and y again:"
   ]
  },
  {
   "cell_type": "code",
   "execution_count": 32,
   "id": "9dc4f3e9",
   "metadata": {},
   "outputs": [],
   "source": [
    "X_enc = df_enc.drop('overdue_class', axis=1)\n",
    "X_enc = X_enc.drop('overdue_likelihood', axis=1)\n",
    "Y = df_enc['overdue_class']"
   ]
  },
  {
   "cell_type": "markdown",
   "id": "0f5361bf",
   "metadata": {},
   "source": [
    "Before training the model, the data is scaled again:"
   ]
  },
  {
   "cell_type": "code",
   "execution_count": 33,
   "id": "6e96f55b",
   "metadata": {},
   "outputs": [],
   "source": [
    "scaler = StandardScaler()\n",
    "X_scaled = scaler.fit_transform(X_enc)\n",
    "df_scaled = pd.DataFrame(X_scaled, columns= X_enc.columns)\n",
    "\n",
    "X_train, X_test, y_train, y_test = train_test_split(df_scaled, Y, test_size=0.3, random_state=42)"
   ]
  },
  {
   "cell_type": "markdown",
   "id": "2a7a0895",
   "metadata": {},
   "source": [
    "Finally, the model is trained:"
   ]
  },
  {
   "cell_type": "code",
   "execution_count": 34,
   "id": "d707f9aa",
   "metadata": {
    "scrolled": true
   },
   "outputs": [
    {
     "name": "stderr",
     "output_type": "stream",
     "text": [
      "C:\\Users\\mj0st\\anaconda3\\Lib\\site-packages\\sklearn\\base.py:464: UserWarning: X does not have valid feature names, but KNeighborsClassifier was fitted with feature names\n",
      "  warnings.warn(\n"
     ]
    },
    {
     "name": "stdout",
     "output_type": "stream",
     "text": [
      "0.5660928219067753\n"
     ]
    }
   ],
   "source": [
    "rf_classifier = KNeighborsClassifier(n_neighbors=20, metric = 'euclidean', weights='distance')\n",
    "\n",
    "rf_classifier.fit(X_train, y_train)\n",
    "y_test_pred = rf_classifier.predict(X_test.values)\n",
    "\n",
    "accuracy = accuracy_score(y_test, y_test_pred)\n",
    "print(accuracy)"
   ]
  },
  {
   "cell_type": "markdown",
   "id": "372d775b",
   "metadata": {},
   "source": [
    "The KNN classifier seems to achive a comparable good result, as simply guessing would lead to an accuracy of 33%, which is clearly lower than the classifiers accuracy of 56%."
   ]
  },
  {
   "cell_type": "markdown",
   "id": "b533d045",
   "metadata": {},
   "source": [
    "### Regression\n",
    "Another approach would be trying to directly predict the overdue likelyhood.\n",
    "\n",
    "Again, we have to seperate X and Y but this time using \"overdue_likelihood\" as our target:"
   ]
  },
  {
   "cell_type": "code",
   "execution_count": 35,
   "id": "b62d721c",
   "metadata": {},
   "outputs": [],
   "source": [
    "X_enc = df_enc.drop('overdue_class', axis=1)\n",
    "X_enc = X_enc.drop('overdue_likelihood', axis=1)\n",
    "Y = df_enc['overdue_likelihood']"
   ]
  },
  {
   "cell_type": "markdown",
   "id": "77725cfc",
   "metadata": {},
   "source": [
    "Also, the data has to be scaled again before it can be split into test and training data:"
   ]
  },
  {
   "cell_type": "code",
   "execution_count": 36,
   "id": "7dd7b1bc",
   "metadata": {},
   "outputs": [],
   "source": [
    "scaler = StandardScaler()\n",
    "X_scaled = scaler.fit_transform(X_enc)\n",
    "df_scaled = pd.DataFrame(X_scaled, columns= X_enc.columns)\n",
    "\n",
    "X_train, X_test, y_train, y_test = train_test_split(df_scaled, Y, test_size=0.3, random_state=42)"
   ]
  },
  {
   "cell_type": "markdown",
   "id": "749cb29f",
   "metadata": {},
   "source": [
    "Now, the regressor can be trained:"
   ]
  },
  {
   "cell_type": "code",
   "execution_count": 37,
   "id": "1289973b",
   "metadata": {},
   "outputs": [
    {
     "name": "stdout",
     "output_type": "stream",
     "text": [
      "Mean Squared Error: 0.1377380459425281\n"
     ]
    }
   ],
   "source": [
    "ridge_reg = Ridge()\n",
    "\n",
    "ridge_reg.fit(X_train, y_train)\n",
    "y_pred = ridge_reg.predict(X_test)\n",
    "\n",
    "mse = mean_squared_error(y_test, y_pred)\n",
    "print(f\"Mean Squared Error: {mse}\")"
   ]
  },
  {
   "cell_type": "markdown",
   "id": "2d48fb52",
   "metadata": {},
   "source": [
    "A nice way would be to plot the predicted value next to the actual values, to get a visual representation of the results:"
   ]
  },
  {
   "cell_type": "code",
   "execution_count": 38,
   "id": "d73723db",
   "metadata": {},
   "outputs": [
    {
     "data": {
      "image/png": "[encoded data removed]",
      "text/plain": [
       "<Figure size 1000x600 with 1 Axes>"
      ]
     },
     "metadata": {},
     "output_type": "display_data"
    }
   ],
   "source": [
    "plt.figure(figsize=(10, 6))\n",
    "plt.scatter(y_test, y_pred)\n",
    "plt.plot([y_test.min(), y_test.max()], [y_test.min(), y_test.max()], 'k--', lw=4)\n",
    "plt.xlabel('Actual')\n",
    "plt.ylabel('Predicted')\n",
    "plt.title('Actual vs Predicted Values')\n",
    "plt.show()\n"
   ]
  },
  {
   "cell_type": "markdown",
   "id": "07644bba",
   "metadata": {},
   "source": [
    "Obviously, the result of the regression is even worse than the one of the desicion tree classification, as of course predicting a certain number is way more complex than just predicting a class which represents a whole range of values."
   ]
  },
  {
   "attachments": {},
   "cell_type": "markdown",
   "id": "6691c037",
   "metadata": {},
   "source": [
    "## Neural Network\n",
    "\n",
    "The last model tested is a regression neural network. It is more of a testbed to check if a resonably well regression estimation can be made from the given dataset. Due to the amount of required code and training time (~1h), it was moved to a separate notebook (refer to \"SupplementaryNotebooks\"). Let's go through its specifications.\n",
    "\n",
    "### Data preparation differences and Data augmentation\n",
    "First, the data preparation phase differs slightly. Due to the immense complexity of the problem, it showed that it is best to use all data for training. This includes things like the one-hot encoded Occupation type which leads to a input layer size of a 53 dimensional vector. Furthermore, our data is very unbalanced. One of the main problems with this is the strong bias towards an overdue likelihood of 1.0. To balance the data, it showed that upsampling works well with the Neural Network. The biased 1.0 data is first cut down to arround the a less biased amount arround 2000 samples down from 20 000. This introduces the new problem of too little data. Using upsampling might help solves this, going from arround 19 000 samples to 1 000 000 samples. While this is not as good as real data, using the synthetic data works a bit better then not using it. To help training and break up possible unwanted patterns, the additionally generated data is randomized slightly.\n",
    "\n",
    "### Data correlation\n",
    "When working with the data, it appeared that the data only has minor correlation between the overdue_likelihood and the different features. This is also the reason why the previously mentioned models performed very bad, even at binary classification. In the neural network, we can use the correlation factors to our advantage:\n",
    "\n",
    "```\n",
    "[1000000 rows x 53 columns]\n",
    "CODE_GENDER                                          0.048031\n",
    "FLAG_OWN_CAR                                         0.590612\n",
    "FLAG_OWN_REALTY                                      0.612433\n",
    "CNT_CHILDREN                                         0.346236\n",
    "AMT_INCOME_TOTAL                                     0.066008\n",
    "DAYS_BIRTH                                           0.094416\n",
    "DAYS_EMPLOYED                                        0.002161\n",
    "FLAG_MOBIL                                           0.024534\n",
    "FLAG_WORK_PHONE                                      0.032219\n",
    "FLAG_PHONE                                           0.185193\n",
    "FLAG_EMAIL                                           0.295898\n",
    "CNT_FAM_MEMBERS                                      0.254827\n",
    "NAME_EDUCATION_TYPE_Academic degree                  0.228687\n",
    "NAME_EDUCATION_TYPE_Higher education                 0.181573\n",
    "NAME_EDUCATION_TYPE_Incomplete higher                0.059953\n",
    "NAME_EDUCATION_TYPE_Lower secondary                  0.686017\n",
    "NAME_EDUCATION_TYPE_Secondary / secondary special    0.306015\n",
    "NAME_FAMILY_STATUS_Civil marriage                    0.237519\n",
    "NAME_FAMILY_STATUS_Married                           0.108516\n",
    "NAME_FAMILY_STATUS_Separated                         0.251201\n",
    "NAME_FAMILY_STATUS_Single / not married              0.112105\n",
    "NAME_FAMILY_STATUS_Widow                             0.408784\n",
    "NAME_INCOME_TYPE_Commercial associate                0.545801\n",
    "NAME_INCOME_TYPE_Pensioner                           0.003140\n",
    "NAME_INCOME_TYPE_State servant                       0.149918\n",
    "NAME_INCOME_TYPE_Student                             0.263440\n",
    "NAME_INCOME_TYPE_Working                             0.372770\n",
    "NAME_HOUSING_TYPE_Co-op apartment                    0.252179\n",
    "NAME_HOUSING_TYPE_House / apartment                  0.834754\n",
    "NAME_HOUSING_TYPE_Municipal apartment                0.002506\n",
    "NAME_HOUSING_TYPE_Office apartment                   0.117364\n",
    "NAME_HOUSING_TYPE_Rented apartment                   0.224839\n",
    "NAME_HOUSING_TYPE_With parents                       1.000000\n",
    "OCCUPATION_TYPE_Accountants                          0.586541\n",
    "OCCUPATION_TYPE_Cleaning staff                       0.286565\n",
    "OCCUPATION_TYPE_Cooking staff                        0.526278\n",
    "OCCUPATION_TYPE_Core staff                           0.489603\n",
    "OCCUPATION_TYPE_Drivers                              0.083598\n",
    "OCCUPATION_TYPE_HR staff                             0.112035\n",
    "OCCUPATION_TYPE_High skill tech staff                0.527586\n",
    "OCCUPATION_TYPE_IT staff                             0.172765\n",
    "OCCUPATION_TYPE_Laborers                             0.414626\n",
    "OCCUPATION_TYPE_Low-skill Laborers                   0.449379\n",
    "OCCUPATION_TYPE_Managers                             0.530295\n",
    "OCCUPATION_TYPE_Medicine staff                       0.330640\n",
    "OCCUPATION_TYPE_NaN                                  0.073581\n",
    "OCCUPATION_TYPE_Private service staff                0.146233\n",
    "OCCUPATION_TYPE_Realty agents                        0.452292\n",
    "OCCUPATION_TYPE_Sales staff                          0.891669\n",
    "OCCUPATION_TYPE_Secretaries                          0.010655\n",
    "OCCUPATION_TYPE_Security staff                       0.215127\n",
    "OCCUPATION_TYPE_Waiters/barmen staff                 0.064129\n",
    "```\n",
    "This displays the relative correlation between the different features. The values are normalized and are generally much smaller.\n",
    "\n",
    "### Model architecture\n",
    "Before training the model and tuning the hyper-parameters, the model architecture has to be defined. This model is a simple feedforward neural network with an additional linear layer between the input and hidden layers. This linear layer weights the input data based on their correlation with the target value (overdue_likelihood). The input and linear layers both contain 53 neurons to take all data features in.\n",
    "The 4 deep layers following contain 2048 neurons each, rendering them very large. Empirically, it could be obseverved that the model struggles from underfitting, but increasing the parameters even more results in much longer training time with minor benefit. The Output layer contains of a single neuron.\n",
    "\n",
    "The activation function used for the hidden layers is a standard ReLU function which proved to be the best. As the model is comparatively large, it is a good choice to fight vanishing gradients. Due to the underfitting, using dropout layers proved to have negative effect on the convergence. For the output neuron, several functions were tested. The sigmoid function proved to be optimal as the output should be in the range of 0 to 1. Other functions like ReLU or the normally used linear activation (no function) just lowered the achieved accuracy.\n",
    "\n",
    "For the loss function, several were tested as well. The overall best choice was surprisingly the Mean Absolute Error (MAE). While it creates stronger outliers then MSE, they are very sparse and the general accuracy is better.\n",
    "\n",
    "![7mLPU8UnAAAAAASUVORK5CYII.png](Media/7mLPU8UnAAAAAASUVORK5CYII.png)\n",
    "MSE used in training.\n",
    "\n",
    "\n",
    "![B9b8XoF3HePgAAAAAElFTkSuQmCC.png](Media/B9b8XoF3HePgAAAAAElFTkSuQmCC.png)\n",
    "MAE used in training.\n",
    "\n",
    "\n",
    "### Training\n",
    "\n",
    "Training the model proved to be very tricky, as there are a lot of hyperparameters to tune and the training time is quite lengthy (arround 1h with CUDA acceleration). A batch size of 64 was used, which increases the training size even further given the 1 000 000 sized data. The learning rate is a standard 0.0025. \n",
    "The model achieved a good 11.5% average error given the result from other models tested and the very inconsistent dataset.\n",
    "\n",
    "\n",
    "### Considerations on the optimization\n",
    "\n",
    "While this models performance looks good on paper, it is very likely that it suffers from some sort of \"hidden\" overfitting. As there are a lot of nearly duplicate values, it is likely that the model is very specialized on these cases. While it is able to distinguish between the existing data very well, generalization might be very hard, given the sparsity of the data.\n",
    "\n",
    "As the test set contains a lot of duplicates, it achieves a better performance then it should.\n",
    "\n",
    "When using the inital dataset, the output becomes way worse. Due to the very thin data avialability for the higher overdue_likelihood data, the predictions are pretty much guessing. Interestingly, when there is higher data density, the model gets at least somewhat accurate, leading to an average error higher then in the model training on the \"stuffed\" data.\n",
    "\n",
    "\n",
    "![unoptimized.png](Media/unoptimized.png)\n",
    "MSE loss used in training without any synthetic data this yields about 17% average error.\n",
    "\n",
    "\n",
    "![l1Loss.png](Media/l1Loss.png)\n",
    "MAE used with otherwise identical parameters. This yields about 12% accuracy, but seems to be equally bad in general due to strong outliers. \n",
    "\n"
   ]
  },
  {
   "cell_type": "markdown",
   "id": "779678db",
   "metadata": {},
   "source": [
    "## Evaluation"
   ]
  },
  {
   "cell_type": "markdown",
   "id": "6f9281cc",
   "metadata": {},
   "source": [
    "As seen before, the correlation is very low in our dataset. This, and the very high complexity of the given task, classification as well as regression (even more), makes it very hard to make any predictions based on the given data. The dataset is simply too small, especially for a regression, even for a \"deep\" neural network. \n",
    "\n",
    "The decision to calculate a \"overdue likelihood\" might be also a bad one as the data does provide information on how long and if customers paid off their debt, which we do not use as information. However, as this adds aditional depth to the data, it might make things even worse.\n",
    "Possibly, a better approach could be defining a threshold for each customer and classify if the customer will pay back their debt in that timeframe or at all. A good threshold could be an overdue likelihood of 1 vs everything else, based on how the data is spread out."
   ]
  },
  {
   "cell_type": "code",
   "execution_count": null,
   "id": "7f772a6a",
   "metadata": {},
   "outputs": [],
   "source": []
  }
 ],
 "metadata": {
  "kernelspec": {
   "display_name": "Python 3 (ipykernel)",
   "language": "python",
   "name": "python3"
  },
  "language_info": {
   "codemirror_mode": {
    "name": "ipython",
    "version": 3
   },
   "file_extension": ".py",
   "mimetype": "text/x-python",
   "name": "python",
   "nbconvert_exporter": "python",
   "pygments_lexer": "ipython3",
   "version": "3.11.5"
  }
 },
 "nbformat": 4,
 "nbformat_minor": 5
}
