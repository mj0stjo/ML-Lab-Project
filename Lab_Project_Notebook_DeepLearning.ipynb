{
 "cells": [
  {
   "cell_type": "markdown",
   "id": "5dab942d",
   "metadata": {},
   "source": [
    "# Machine Learning Lab Project - Credit Card Overdue Likelihood Prediction\n",
    "##  Business Understanding"
   ]
  },
  {
   "cell_type": "markdown",
   "id": "2d7e57de",
   "metadata": {},
   "source": [
    "## Data Understanding\n",
    "The data for this task is taken from [this](https://www.kaggle.com/datasets/rikdifos/credit-card-approval-prediction) kaggle dataset. The kaggle page provides two `.csv` files:\n",
    "- application_record.csv\n",
    "- credit_record.csv\n",
    "\n",
    "On a simple level, `application_record.csv` contains the customer data and `credit_record.csv` contains the customers credit history. The specific content is now investigated further.\n",
    "\n",
    "For beeing able to analyse the datasets, the necessary libraries are imported first:"
   ]
  },
  {
   "cell_type": "code",
   "execution_count": 185,
   "id": "511113b5",
   "metadata": {},
   "outputs": [],
   "source": [
    "import pandas as pd\n",
    "import numpy as np\n",
    "import pandas as pd\n",
    "from sklearn.preprocessing import OneHotEncoder, OrdinalEncoder, MinMaxScaler\n",
    "from sklearn.compose import ColumnTransformer\n",
    "import torch\n",
    "import torch.nn as nn\n",
    "import torch.nn.functional as F\n",
    "import torch.optim as optim\n",
    "from sklearn.preprocessing import StandardScaler, MinMaxScaler\n",
    "import pandas as pd\n",
    "import numpy as np\n",
    "from torch.utils.data import TensorDataset, DataLoader\n",
    "from sklearn.model_selection import train_test_split, GridSearchCV\n",
    "from sklearn.preprocessing import StandardScaler\n",
    "import matplotlib.pyplot as plt\n",
    "import tensorflow as tf\n",
    "from tensorflow.keras.models import Sequential\n",
    "from tensorflow.keras.layers import Dense"
   ]
  },
  {
   "cell_type": "markdown",
   "id": "ec1c65ba",
   "metadata": {},
   "source": [
    "In this next step the two `.csv` files are loaded into a pandas datafram. This enables an analysis with the full pandas funcionality, which makes the data understanding process way easier."
   ]
  },
  {
   "cell_type": "code",
   "execution_count": 186,
   "id": "2b7027e5",
   "metadata": {},
   "outputs": [],
   "source": [
    "customer_df = pd.read_csv(\"Data/application_record.csv\")\n",
    "credit_df = pd.read_csv(\"Data/credit_record.csv\")"
   ]
  },
  {
   "cell_type": "markdown",
   "id": "f6d875a2",
   "metadata": {},
   "source": [
    "### application_record.csv\n",
    "First, it is important to analyse the columns of the dataset:"
   ]
  },
  {
   "cell_type": "code",
   "execution_count": 187,
   "id": "0fd8bf95",
   "metadata": {},
   "outputs": [
    {
     "name": "stdout",
     "output_type": "stream",
     "text": [
      "<class 'pandas.core.frame.DataFrame'>\n",
      "RangeIndex: 438557 entries, 0 to 438556\n",
      "Data columns (total 18 columns):\n",
      " #   Column               Non-Null Count   Dtype  \n",
      "---  ------               --------------   -----  \n",
      " 0   ID                   438557 non-null  int64  \n",
      " 1   CODE_GENDER          438557 non-null  object \n",
      " 2   FLAG_OWN_CAR         438557 non-null  object \n",
      " 3   FLAG_OWN_REALTY      438557 non-null  object \n",
      " 4   CNT_CHILDREN         438557 non-null  int64  \n",
      " 5   AMT_INCOME_TOTAL     438557 non-null  float64\n",
      " 6   NAME_INCOME_TYPE     438557 non-null  object \n",
      " 7   NAME_EDUCATION_TYPE  438557 non-null  object \n",
      " 8   NAME_FAMILY_STATUS   438557 non-null  object \n",
      " 9   NAME_HOUSING_TYPE    438557 non-null  object \n",
      " 10  DAYS_BIRTH           438557 non-null  int64  \n",
      " 11  DAYS_EMPLOYED        438557 non-null  int64  \n",
      " 12  FLAG_MOBIL           438557 non-null  int64  \n",
      " 13  FLAG_WORK_PHONE      438557 non-null  int64  \n",
      " 14  FLAG_PHONE           438557 non-null  int64  \n",
      " 15  FLAG_EMAIL           438557 non-null  int64  \n",
      " 16  OCCUPATION_TYPE      304354 non-null  object \n",
      " 17  CNT_FAM_MEMBERS      438557 non-null  float64\n",
      "dtypes: float64(2), int64(8), object(8)\n",
      "memory usage: 60.2+ MB\n"
     ]
    }
   ],
   "source": [
    "customer_df.info()"
   ]
  },
  {
   "cell_type": "markdown",
   "id": "4829b5e2",
   "metadata": {},
   "source": [
    "As can be seen above, the dataset consists of 17 columns, containing numeral as well as textual data. It also seems as if there is already an unique identifier for every customer in the column `ID`. A concrete description fo these different columns can be retrieved from the datasets [kaggle page](https://www.kaggle.com/datasets/rikdifos/credit-card-approval-prediction/data):\n",
    "\n",
    "|Feature name|Explanation|Remarks|\n",
    "|:-----------|:----------|:------|\n",
    "|ID \t     |Client number||\n",
    "|CODE_GENDER |\tGender \t||\n",
    "|FLAG_OWN_CAR| \tIs there a car \t||\n",
    "|FLAG_OWN_REALTY| \tIs there a property|| \t\n",
    "|CNT_CHILDREN| \tNumber of children \t||\n",
    "|AMT_INCOME_TOTAL| \tAnnual income \t||\n",
    "|NAME_INCOME_TYPE| \tIncome category \t||\n",
    "|NAME_EDUCATION_TYPE| \tEducation level ||\t\n",
    "|NAME_FAMILY_STATUS| \tMarital status \t||\n",
    "|NAME_HOUSING_TYPE| \tWay of living \t||\n",
    "|DAYS_BIRTH| \tBirthday |\tCount backwards from current day (0), -1 means yesterday|\n",
    "|DAYS_EMPLOYED| \tStart date of employment |\tCount backwards from current day(0). If positive, it means the person currently  unemployed.|\n",
    "|FLAG_MOBIL| \tIs there a mobile phone \t||\n",
    "|FLAG_WORK_PHONE| \tIs there a work phone \t||\n",
    "|FLAG_PHONE| \tIs there a phone \t||\n",
    "|FLAG_EMAIL| \tIs there an email \t||\n",
    "|OCCUPATION_TYPE| \tOccupation \t||\n",
    "|CNT_FAM_MEMBERS| \tFamily size||\n",
    "\n",
    "Now that the purpose of the columns is clear, the actual data can be analyzed:"
   ]
  },
  {
   "cell_type": "code",
   "execution_count": 188,
   "id": "104517cc",
   "metadata": {},
   "outputs": [
    {
     "data": {
      "text/html": [
       "<div>\n",
       "<style scoped>\n",
       "    .dataframe tbody tr th:only-of-type {\n",
       "        vertical-align: middle;\n",
       "    }\n",
       "\n",
       "    .dataframe tbody tr th {\n",
       "        vertical-align: top;\n",
       "    }\n",
       "\n",
       "    .dataframe thead th {\n",
       "        text-align: right;\n",
       "    }\n",
       "</style>\n",
       "<table border=\"1\" class=\"dataframe\">\n",
       "  <thead>\n",
       "    <tr style=\"text-align: right;\">\n",
       "      <th></th>\n",
       "      <th>ID</th>\n",
       "      <th>CODE_GENDER</th>\n",
       "      <th>FLAG_OWN_CAR</th>\n",
       "      <th>FLAG_OWN_REALTY</th>\n",
       "      <th>CNT_CHILDREN</th>\n",
       "      <th>AMT_INCOME_TOTAL</th>\n",
       "      <th>NAME_INCOME_TYPE</th>\n",
       "      <th>NAME_EDUCATION_TYPE</th>\n",
       "      <th>NAME_FAMILY_STATUS</th>\n",
       "      <th>NAME_HOUSING_TYPE</th>\n",
       "      <th>DAYS_BIRTH</th>\n",
       "      <th>DAYS_EMPLOYED</th>\n",
       "      <th>FLAG_MOBIL</th>\n",
       "      <th>FLAG_WORK_PHONE</th>\n",
       "      <th>FLAG_PHONE</th>\n",
       "      <th>FLAG_EMAIL</th>\n",
       "      <th>OCCUPATION_TYPE</th>\n",
       "      <th>CNT_FAM_MEMBERS</th>\n",
       "    </tr>\n",
       "  </thead>\n",
       "  <tbody>\n",
       "    <tr>\n",
       "      <th>0</th>\n",
       "      <td>5008804</td>\n",
       "      <td>M</td>\n",
       "      <td>Y</td>\n",
       "      <td>Y</td>\n",
       "      <td>0</td>\n",
       "      <td>427500.0</td>\n",
       "      <td>Working</td>\n",
       "      <td>Higher education</td>\n",
       "      <td>Civil marriage</td>\n",
       "      <td>Rented apartment</td>\n",
       "      <td>-12005</td>\n",
       "      <td>-4542</td>\n",
       "      <td>1</td>\n",
       "      <td>1</td>\n",
       "      <td>0</td>\n",
       "      <td>0</td>\n",
       "      <td>NaN</td>\n",
       "      <td>2.0</td>\n",
       "    </tr>\n",
       "    <tr>\n",
       "      <th>1</th>\n",
       "      <td>5008805</td>\n",
       "      <td>M</td>\n",
       "      <td>Y</td>\n",
       "      <td>Y</td>\n",
       "      <td>0</td>\n",
       "      <td>427500.0</td>\n",
       "      <td>Working</td>\n",
       "      <td>Higher education</td>\n",
       "      <td>Civil marriage</td>\n",
       "      <td>Rented apartment</td>\n",
       "      <td>-12005</td>\n",
       "      <td>-4542</td>\n",
       "      <td>1</td>\n",
       "      <td>1</td>\n",
       "      <td>0</td>\n",
       "      <td>0</td>\n",
       "      <td>NaN</td>\n",
       "      <td>2.0</td>\n",
       "    </tr>\n",
       "    <tr>\n",
       "      <th>2</th>\n",
       "      <td>5008806</td>\n",
       "      <td>M</td>\n",
       "      <td>Y</td>\n",
       "      <td>Y</td>\n",
       "      <td>0</td>\n",
       "      <td>112500.0</td>\n",
       "      <td>Working</td>\n",
       "      <td>Secondary / secondary special</td>\n",
       "      <td>Married</td>\n",
       "      <td>House / apartment</td>\n",
       "      <td>-21474</td>\n",
       "      <td>-1134</td>\n",
       "      <td>1</td>\n",
       "      <td>0</td>\n",
       "      <td>0</td>\n",
       "      <td>0</td>\n",
       "      <td>Security staff</td>\n",
       "      <td>2.0</td>\n",
       "    </tr>\n",
       "    <tr>\n",
       "      <th>3</th>\n",
       "      <td>5008808</td>\n",
       "      <td>F</td>\n",
       "      <td>N</td>\n",
       "      <td>Y</td>\n",
       "      <td>0</td>\n",
       "      <td>270000.0</td>\n",
       "      <td>Commercial associate</td>\n",
       "      <td>Secondary / secondary special</td>\n",
       "      <td>Single / not married</td>\n",
       "      <td>House / apartment</td>\n",
       "      <td>-19110</td>\n",
       "      <td>-3051</td>\n",
       "      <td>1</td>\n",
       "      <td>0</td>\n",
       "      <td>1</td>\n",
       "      <td>1</td>\n",
       "      <td>Sales staff</td>\n",
       "      <td>1.0</td>\n",
       "    </tr>\n",
       "    <tr>\n",
       "      <th>4</th>\n",
       "      <td>5008809</td>\n",
       "      <td>F</td>\n",
       "      <td>N</td>\n",
       "      <td>Y</td>\n",
       "      <td>0</td>\n",
       "      <td>270000.0</td>\n",
       "      <td>Commercial associate</td>\n",
       "      <td>Secondary / secondary special</td>\n",
       "      <td>Single / not married</td>\n",
       "      <td>House / apartment</td>\n",
       "      <td>-19110</td>\n",
       "      <td>-3051</td>\n",
       "      <td>1</td>\n",
       "      <td>0</td>\n",
       "      <td>1</td>\n",
       "      <td>1</td>\n",
       "      <td>Sales staff</td>\n",
       "      <td>1.0</td>\n",
       "    </tr>\n",
       "  </tbody>\n",
       "</table>\n",
       "</div>"
      ],
      "text/plain": [
       "        ID CODE_GENDER FLAG_OWN_CAR FLAG_OWN_REALTY  CNT_CHILDREN  \\\n",
       "0  5008804           M            Y               Y             0   \n",
       "1  5008805           M            Y               Y             0   \n",
       "2  5008806           M            Y               Y             0   \n",
       "3  5008808           F            N               Y             0   \n",
       "4  5008809           F            N               Y             0   \n",
       "\n",
       "   AMT_INCOME_TOTAL      NAME_INCOME_TYPE            NAME_EDUCATION_TYPE  \\\n",
       "0          427500.0               Working               Higher education   \n",
       "1          427500.0               Working               Higher education   \n",
       "2          112500.0               Working  Secondary / secondary special   \n",
       "3          270000.0  Commercial associate  Secondary / secondary special   \n",
       "4          270000.0  Commercial associate  Secondary / secondary special   \n",
       "\n",
       "     NAME_FAMILY_STATUS  NAME_HOUSING_TYPE  DAYS_BIRTH  DAYS_EMPLOYED  \\\n",
       "0        Civil marriage   Rented apartment      -12005          -4542   \n",
       "1        Civil marriage   Rented apartment      -12005          -4542   \n",
       "2               Married  House / apartment      -21474          -1134   \n",
       "3  Single / not married  House / apartment      -19110          -3051   \n",
       "4  Single / not married  House / apartment      -19110          -3051   \n",
       "\n",
       "   FLAG_MOBIL  FLAG_WORK_PHONE  FLAG_PHONE  FLAG_EMAIL OCCUPATION_TYPE  \\\n",
       "0           1                1           0           0             NaN   \n",
       "1           1                1           0           0             NaN   \n",
       "2           1                0           0           0  Security staff   \n",
       "3           1                0           1           1     Sales staff   \n",
       "4           1                0           1           1     Sales staff   \n",
       "\n",
       "   CNT_FAM_MEMBERS  \n",
       "0              2.0  \n",
       "1              2.0  \n",
       "2              2.0  \n",
       "3              1.0  \n",
       "4              1.0  "
      ]
     },
     "execution_count": 188,
     "metadata": {},
     "output_type": "execute_result"
    }
   ],
   "source": [
    "customer_df.head()"
   ]
  },
  {
   "cell_type": "markdown",
   "id": "0fef6505",
   "metadata": {},
   "source": [
    "From these first five entries several things can be observed:\n",
    "1. The ID does not start from 0 but seems to be unique.\n",
    "2. For the `CODE_GENDER` the flags `F` (Female) and `M` (Male) are used.\n",
    "3. For `FLAG_OWN_CAR` and `FLAG_OWN_REALTY` the flags `Y` (Yes) and `N` (No) are used.\n",
    "4. For `NAME_INCOME_TYPE`, `NAME_EDUCATION_TYPE`, `NAME_FAMILY_STATUS` and `NAME_HOUSING_TYPE` are textual fields, but seem to have only a few different values.\n",
    "5. `OCCUPATION_TYPE` is a textual field and the values seem to be very different (\"Freetext Field\").\n",
    "6. For `FLAG_MOBIL`, `FLAG_WORK_PHONE`, `FLAG_PHONE` and `FLAG_EMAIL` the flags 1 (Yes) and 0 (No) are used.\n",
    "\n",
    "Before basing the data perparation on these findings, the assumptions have to be validated:\n",
    "\n",
    "#### 1. Unique `ID`"
   ]
  },
  {
   "cell_type": "code",
   "execution_count": 189,
   "id": "21461759",
   "metadata": {
    "scrolled": true
   },
   "outputs": [
    {
     "data": {
      "text/plain": [
       "ID\n",
       "7137299    2\n",
       "7702238    2\n",
       "7282535    2\n",
       "7243768    2\n",
       "7050948    2\n",
       "          ..\n",
       "5690727    1\n",
       "6621262    1\n",
       "6621261    1\n",
       "6621260    1\n",
       "6842885    1\n",
       "Name: count, Length: 438510, dtype: int64"
      ]
     },
     "execution_count": 189,
     "metadata": {},
     "output_type": "execute_result"
    }
   ],
   "source": [
    "customer_df['ID'].value_counts()"
   ]
  },
  {
   "cell_type": "markdown",
   "id": "fa7df86a",
   "metadata": {},
   "source": [
    "The ouptut of the value count clearly shows that not every ID is unique. As some IDs are contained twice, the real amout of customers contained in the dataset is only 438510.\n",
    "#### 2. Gender"
   ]
  },
  {
   "cell_type": "code",
   "execution_count": 190,
   "id": "97081a13",
   "metadata": {},
   "outputs": [
    {
     "data": {
      "text/plain": [
       "CODE_GENDER\n",
       "F    294440\n",
       "M    144117\n",
       "Name: count, dtype: int64"
      ]
     },
     "execution_count": 190,
     "metadata": {},
     "output_type": "execute_result"
    }
   ],
   "source": [
    "customer_df['CODE_GENDER'].value_counts()"
   ]
  },
  {
   "cell_type": "markdown",
   "id": "57f68775",
   "metadata": {},
   "source": [
    "For the gender the assumption that only the flags `F` and `M` are used was correct.\n",
    "#### 3. Flag Car / Real-Estate"
   ]
  },
  {
   "cell_type": "code",
   "execution_count": 191,
   "id": "ea31e73c",
   "metadata": {},
   "outputs": [
    {
     "name": "stdout",
     "output_type": "stream",
     "text": [
      "FLAG_OWN_CAR\n",
      "N    275459\n",
      "Y    163098\n",
      "Name: count, dtype: int64\n",
      "FLAG_OWN_REALTY\n",
      "Y    304074\n",
      "N    134483\n",
      "Name: count, dtype: int64\n"
     ]
    }
   ],
   "source": [
    "print(customer_df['FLAG_OWN_CAR'].value_counts())\n",
    "print(customer_df['FLAG_OWN_REALTY'].value_counts())"
   ]
  },
  {
   "cell_type": "markdown",
   "id": "9959af81",
   "metadata": {},
   "source": [
    "Also for the flags for the possesion of car and real-estate the assumption that there are only the flags `Y` and `N` was correct.\n",
    "#### 4. Text fields income, education, family and housing"
   ]
  },
  {
   "cell_type": "code",
   "execution_count": 192,
   "id": "2d09f567",
   "metadata": {},
   "outputs": [
    {
     "data": {
      "text/plain": [
       "NAME_INCOME_TYPE\n",
       "Working                 226104\n",
       "Commercial associate    100757\n",
       "Pensioner                75493\n",
       "State servant            36186\n",
       "Student                     17\n",
       "Name: count, dtype: int64"
      ]
     },
     "execution_count": 192,
     "metadata": {},
     "output_type": "execute_result"
    }
   ],
   "source": [
    "customer_df['NAME_INCOME_TYPE'].value_counts()"
   ]
  },
  {
   "cell_type": "markdown",
   "id": "92a80281",
   "metadata": {},
   "source": [
    "As can be seen above, there are five different types of income. This means the column can be encoded without any problems and can be used for the modeling later."
   ]
  },
  {
   "cell_type": "code",
   "execution_count": 193,
   "id": "b7e98f96",
   "metadata": {},
   "outputs": [
    {
     "data": {
      "text/plain": [
       "NAME_EDUCATION_TYPE\n",
       "Secondary / secondary special    301821\n",
       "Higher education                 117522\n",
       "Incomplete higher                 14851\n",
       "Lower secondary                    4051\n",
       "Academic degree                     312\n",
       "Name: count, dtype: int64"
      ]
     },
     "execution_count": 193,
     "metadata": {},
     "output_type": "execute_result"
    }
   ],
   "source": [
    "customer_df['NAME_EDUCATION_TYPE'].value_counts()"
   ]
  },
  {
   "cell_type": "markdown",
   "id": "f773a454",
   "metadata": {},
   "source": [
    "The education field also consists of only five types and can therefore also be used for modelling without any problems."
   ]
  },
  {
   "cell_type": "code",
   "execution_count": 194,
   "id": "ac363c26",
   "metadata": {},
   "outputs": [
    {
     "data": {
      "text/plain": [
       "NAME_FAMILY_STATUS\n",
       "Married                 299828\n",
       "Single / not married     55271\n",
       "Civil marriage           36532\n",
       "Separated                27251\n",
       "Widow                    19675\n",
       "Name: count, dtype: int64"
      ]
     },
     "execution_count": 194,
     "metadata": {},
     "output_type": "execute_result"
    }
   ],
   "source": [
    "customer_df['NAME_FAMILY_STATUS'].value_counts()"
   ]
  },
  {
   "cell_type": "markdown",
   "id": "686e7be1",
   "metadata": {},
   "source": [
    "Also the family status has five different values."
   ]
  },
  {
   "cell_type": "code",
   "execution_count": 195,
   "id": "75506a47",
   "metadata": {},
   "outputs": [
    {
     "data": {
      "text/plain": [
       "NAME_HOUSING_TYPE\n",
       "House / apartment      393831\n",
       "With parents            19077\n",
       "Municipal apartment     14214\n",
       "Rented apartment         5974\n",
       "Office apartment         3922\n",
       "Co-op apartment          1539\n",
       "Name: count, dtype: int64"
      ]
     },
     "execution_count": 195,
     "metadata": {},
     "output_type": "execute_result"
    }
   ],
   "source": [
    "customer_df['NAME_HOUSING_TYPE'].value_counts()"
   ]
  },
  {
   "cell_type": "markdown",
   "id": "2f2fc144",
   "metadata": {},
   "source": [
    "The housing has six different values, which is still acceptable.\n",
    "#### 5. Text field occupation type"
   ]
  },
  {
   "cell_type": "code",
   "execution_count": 196,
   "id": "e8524c65",
   "metadata": {},
   "outputs": [
    {
     "name": "stdout",
     "output_type": "stream",
     "text": [
      "OCCUPATION_TYPE\n",
      "Laborers                 78240\n",
      "Core staff               43007\n",
      "Sales staff              41098\n",
      "Managers                 35487\n",
      "Drivers                  26090\n",
      "High skill tech staff    17289\n",
      "Accountants              15985\n",
      "Medicine staff           13520\n",
      "Cooking staff             8076\n",
      "Security staff            7993\n",
      "Cleaning staff            5845\n",
      "Private service staff     3456\n",
      "Low-skill Laborers        2140\n",
      "Secretaries               2044\n",
      "Waiters/barmen staff      1665\n",
      "Realty agents             1041\n",
      "HR staff                   774\n",
      "IT staff                   604\n",
      "Name: count, dtype: int64\n",
      "Amount of null values:  134203\n"
     ]
    }
   ],
   "source": [
    "print(customer_df['OCCUPATION_TYPE'].value_counts())\n",
    "print(\"Amount of null values: \", customer_df['OCCUPATION_TYPE'].isnull().sum())"
   ]
  },
  {
   "cell_type": "markdown",
   "id": "4c95a81d",
   "metadata": {},
   "source": [
    "Even though there are way less different values than expected (only 18), the column contains many null values, which may make it difficult to work with it.\n",
    "#### 6. Contact method flags"
   ]
  },
  {
   "cell_type": "code",
   "execution_count": 197,
   "id": "cc0977c1",
   "metadata": {},
   "outputs": [
    {
     "name": "stdout",
     "output_type": "stream",
     "text": [
      "FLAG_MOBIL\n",
      "1    438557\n",
      "Name: count, dtype: int64\n",
      "FLAG_WORK_PHONE\n",
      "0    348156\n",
      "1     90401\n",
      "Name: count, dtype: int64\n",
      "FLAG_PHONE\n",
      "0    312353\n",
      "1    126204\n",
      "Name: count, dtype: int64\n",
      "FLAG_EMAIL\n",
      "0    391102\n",
      "1     47455\n",
      "Name: count, dtype: int64\n"
     ]
    }
   ],
   "source": [
    "print(customer_df['FLAG_MOBIL'].value_counts())\n",
    "print(customer_df['FLAG_WORK_PHONE'].value_counts())\n",
    "print(customer_df['FLAG_PHONE'].value_counts())\n",
    "print(customer_df['FLAG_EMAIL'].value_counts())"
   ]
  },
  {
   "cell_type": "markdown",
   "id": "476de097",
   "metadata": {},
   "source": [
    "As expected, these columns only use the flags `1` and `0`. On top of that, column `FLAG_MOBIL` only contains the value `1`, which means all customers at least are registered with a mobile phone. Therefore, this column can be left out completely.\n",
    "### credit_record.csv\n",
    "Again, first analyze the columns:"
   ]
  },
  {
   "cell_type": "code",
   "execution_count": 198,
   "id": "476f8561",
   "metadata": {},
   "outputs": [
    {
     "name": "stdout",
     "output_type": "stream",
     "text": [
      "<class 'pandas.core.frame.DataFrame'>\n",
      "RangeIndex: 1048575 entries, 0 to 1048574\n",
      "Data columns (total 3 columns):\n",
      " #   Column          Non-Null Count    Dtype \n",
      "---  ------          --------------    ----- \n",
      " 0   ID              1048575 non-null  int64 \n",
      " 1   MONTHS_BALANCE  1048575 non-null  int64 \n",
      " 2   STATUS          1048575 non-null  object\n",
      "dtypes: int64(2), object(1)\n",
      "memory usage: 24.0+ MB\n"
     ]
    }
   ],
   "source": [
    "credit_df.info()"
   ]
  },
  {
   "cell_type": "markdown",
   "id": "d11dd607",
   "metadata": {},
   "source": [
    "As can be seen above, this table only contains three columns. According to the [kaggle page](https://www.kaggle.com/datasets/rikdifos/credit-card-approval-prediction/data), these columns mean the following:\n",
    "\n",
    "|Feature name| \tExplanation |\tRemarks|\n",
    "|:-|:-|:-|\n",
    "|ID |\tClient number \t||\n",
    "|MONTHS_BALANCE |\tRecord month |\tThe month of the extracted data is the starting point, backwards, 0 is the current month, -1 is the previous month, and so on|\n",
    "|STATUS |\tStatus| \t0: 1-29 days past due 1: 30-59 days past due 2: 60-89 days overdue 3: 90-119 days overdue 4: 120-149 days overdue 5: Overdue or bad debts, write-offs for more than 150 days C: paid off that month X: No loan for the month|\n",
    "\n",
    "Checking for unique `ID` values now reveals for how many customers there exists credit data:"
   ]
  },
  {
   "cell_type": "code",
   "execution_count": 199,
   "id": "04598c16",
   "metadata": {},
   "outputs": [
    {
     "data": {
      "text/plain": [
       "45985"
      ]
     },
     "execution_count": 199,
     "metadata": {},
     "output_type": "execute_result"
    }
   ],
   "source": [
    "len(credit_df['ID'].unique())"
   ]
  },
  {
   "cell_type": "markdown",
   "id": "6412dea0",
   "metadata": {},
   "source": [
    "There is only credit data for 45985 customers, that means only parts of the `customer_df` can be used.\n",
    "As a last step check the values of the `STATUS` column:"
   ]
  },
  {
   "cell_type": "code",
   "execution_count": 200,
   "id": "8d0e561b",
   "metadata": {
    "scrolled": true
   },
   "outputs": [
    {
     "name": "stdout",
     "output_type": "stream",
     "text": [
      "              ID  MONTHS_BALANCE STATUS\n",
      "0        5001711               0      X\n",
      "1        5001711              -1      0\n",
      "2        5001711              -2      0\n",
      "3        5001711              -3      0\n",
      "4        5001712               0      C\n",
      "...          ...             ...    ...\n",
      "1048570  5150487             -25      C\n",
      "1048571  5150487             -26      C\n",
      "1048572  5150487             -27      C\n",
      "1048573  5150487             -28      C\n",
      "1048574  5150487             -29      C\n",
      "\n",
      "[1048575 rows x 3 columns]\n"
     ]
    }
   ],
   "source": [
    "credit_df['STATUS'].value_counts()\n",
    "\n",
    "print(credit_df)"
   ]
  },
  {
   "cell_type": "markdown",
   "id": "9aef28f9",
   "metadata": {},
   "source": [
    "The information given on the kaggle page is correct, only the stated flags are used.\n",
    "### Summary\n",
    "Overall, the dataset consists of two parts: the customer data and the credit data. The customer data mostly contains information about income, job, family situation and contact methods as these are important aspects for evaluating the creditworthiness. The credit data is basically a credit history overview, showing for a given custumer and month if the credit was paid back on time. This credit data can now be used for calculating an \"overdue_likelyhood\" for every customer which states how likely it is for this specific customer to not pay it's credit back in time. This is an important information for a credit institute. Based on all the findings in this section the two datasets can now be prepared, connected and finally used for training a machine learning model."
   ]
  },
  {
   "cell_type": "markdown",
   "id": "61340257",
   "metadata": {},
   "source": [
    "## Data Preparation"
   ]
  },
  {
   "cell_type": "markdown",
   "id": "c37e164e",
   "metadata": {},
   "source": [
    "Get the overdue likelyhood for the customers:"
   ]
  },
  {
   "cell_type": "code",
   "execution_count": 201,
   "id": "d62cc308",
   "metadata": {},
   "outputs": [
    {
     "name": "stdout",
     "output_type": "stream",
     "text": [
      "STATUS    0  1  2  3  4  5   C   X\n",
      "ID                                \n",
      "5001711   3  0  0  0  0  0   0   1\n",
      "5001712  10  0  0  0  0  0   9   0\n",
      "5001713   0  0  0  0  0  0   0  22\n",
      "5001714   0  0  0  0  0  0   0  15\n",
      "5001715   0  0  0  0  0  0   0  60\n",
      "...      .. .. .. .. .. ..  ..  ..\n",
      "5150482  12  0  0  0  0  0   6   0\n",
      "5150483   0  0  0  0  0  0   0  18\n",
      "5150484  12  0  0  0  0  0   1   0\n",
      "5150485   2  0  0  0  0  0   0   0\n",
      "5150487   0  0  0  0  0  0  30   0\n",
      "\n",
      "[45985 rows x 8 columns]\n",
      "STATUS       ID  overdue_likelihood\n",
      "1       5001712            0.550000\n",
      "2       5001713            1.000000\n",
      "5       5001717            0.782609\n",
      "6       5001718            0.900000\n",
      "7       5001719            0.068182\n",
      "The number of entries with NaN values in overdue_likelihood: 0\n"
     ]
    },
    {
     "data": {
      "image/png": "[encoded data removed]",
      "text/plain": [
       "<Figure size 1000x600 with 1 Axes>"
      ]
     },
     "metadata": {},
     "output_type": "display_data"
    },
    {
     "data": {
      "text/html": [
       "<div>\n",
       "<style scoped>\n",
       "    .dataframe tbody tr th:only-of-type {\n",
       "        vertical-align: middle;\n",
       "    }\n",
       "\n",
       "    .dataframe tbody tr th {\n",
       "        vertical-align: top;\n",
       "    }\n",
       "\n",
       "    .dataframe thead th {\n",
       "        text-align: right;\n",
       "    }\n",
       "</style>\n",
       "<table border=\"1\" class=\"dataframe\">\n",
       "  <thead>\n",
       "    <tr style=\"text-align: right;\">\n",
       "      <th>STATUS</th>\n",
       "      <th>ID</th>\n",
       "      <th>overdue_likelihood</th>\n",
       "    </tr>\n",
       "    <tr>\n",
       "      <th>STATUS</th>\n",
       "      <th></th>\n",
       "      <th></th>\n",
       "    </tr>\n",
       "  </thead>\n",
       "  <tbody>\n",
       "    <tr>\n",
       "      <th>ID</th>\n",
       "      <td>1.000000</td>\n",
       "      <td>0.014482</td>\n",
       "    </tr>\n",
       "    <tr>\n",
       "      <th>overdue_likelihood</th>\n",
       "      <td>0.014482</td>\n",
       "      <td>1.000000</td>\n",
       "    </tr>\n",
       "  </tbody>\n",
       "</table>\n",
       "</div>"
      ],
      "text/plain": [
       "STATUS                    ID  overdue_likelihood\n",
       "STATUS                                          \n",
       "ID                  1.000000            0.014482\n",
       "overdue_likelihood  0.014482            1.000000"
      ]
     },
     "execution_count": 201,
     "metadata": {},
     "output_type": "execute_result"
    }
   ],
   "source": [
    "grouped_df = credit_df.groupby('ID')['STATUS'].value_counts().unstack(fill_value=0)\n",
    "\n",
    "print(grouped_df)\n",
    "\n",
    "#grouped_df['overdue_likelihood'] = 1 - (grouped_df['C'] / (grouped_df.sum(axis=1) - grouped_df['X']))\n",
    "grouped_df['overdue_likelihood'] = 1 - (grouped_df['C'] / (grouped_df.sum(axis=1) - grouped_df['X']+ 1))\n",
    "result_df = grouped_df.reset_index()[['ID', 'overdue_likelihood']]\n",
    "\n",
    "# Define a probability mask to randomly exclude most of the entries with an overdue_likelihood of 1.0\n",
    "probability_mask = (np.random.rand(len(result_df)) < 0.1) | (result_df['overdue_likelihood'] != 1.0)\n",
    "\n",
    "# Apply the probability mask to the dataframe\n",
    "result_df = result_df[probability_mask]\n",
    "\n",
    "print(result_df.head())\n",
    "\n",
    "nan_count = result_df['overdue_likelihood'].isna().sum()\n",
    "\n",
    "print(f'The number of entries with NaN values in overdue_likelihood: {nan_count}')\n",
    "\n",
    "# Plot the distribution of overdue likelihood\n",
    "plt.figure(figsize=(10, 6))\n",
    "plt.hist(result_df['overdue_likelihood'].dropna(), bins=100, alpha=0.7, color='blue')\n",
    "plt.title('Distribution of Overdue Likelihood')\n",
    "plt.xlabel('Overdue Likelihood')\n",
    "plt.ylabel('Frequency')\n",
    "plt.grid(True)\n",
    "plt.show()\n",
    "\n",
    "result_df.corr()\n"
   ]
  },
  {
   "cell_type": "markdown",
   "id": "91ff13a5",
   "metadata": {},
   "source": [
    "That means ca. 33110 customers are really usable."
   ]
  },
  {
   "cell_type": "markdown",
   "id": "2a2aa80c",
   "metadata": {},
   "source": [
    "Remove NaN entrys"
   ]
  },
  {
   "cell_type": "code",
   "execution_count": 202,
   "id": "2461462c",
   "metadata": {},
   "outputs": [
    {
     "name": "stdout",
     "output_type": "stream",
     "text": [
      "The number of entries with NaN values in overdue_likelihood: 0\n"
     ]
    }
   ],
   "source": [
    "result_df.dropna(subset=['overdue_likelihood'], inplace=True)\n",
    "nan_count = result_df['overdue_likelihood'].isna().sum()\n",
    "\n",
    "print(f'The number of entries with NaN values in overdue_likelihood: {nan_count}')"
   ]
  },
  {
   "cell_type": "markdown",
   "id": "421c5c50",
   "metadata": {},
   "source": [
    "Merge the data:"
   ]
  },
  {
   "cell_type": "code",
   "execution_count": 203,
   "id": "79178d71",
   "metadata": {},
   "outputs": [
    {
     "name": "stdout",
     "output_type": "stream",
     "text": [
      "        ID CODE_GENDER FLAG_OWN_CAR FLAG_OWN_REALTY  CNT_CHILDREN  \\\n",
      "0  5008804           M            Y               Y             0   \n",
      "1  5008805           M            Y               Y             0   \n",
      "2  5008806           M            Y               Y             0   \n",
      "3  5008810           F            N               Y             0   \n",
      "4  5008811           F            N               Y             0   \n",
      "\n",
      "   AMT_INCOME_TOTAL      NAME_INCOME_TYPE            NAME_EDUCATION_TYPE  \\\n",
      "0          427500.0               Working               Higher education   \n",
      "1          427500.0               Working               Higher education   \n",
      "2          112500.0               Working  Secondary / secondary special   \n",
      "3          270000.0  Commercial associate  Secondary / secondary special   \n",
      "4          270000.0  Commercial associate  Secondary / secondary special   \n",
      "\n",
      "     NAME_FAMILY_STATUS  NAME_HOUSING_TYPE  DAYS_BIRTH  DAYS_EMPLOYED  \\\n",
      "0        Civil marriage   Rented apartment      -12005          -4542   \n",
      "1        Civil marriage   Rented apartment      -12005          -4542   \n",
      "2               Married  House / apartment      -21474          -1134   \n",
      "3  Single / not married  House / apartment      -19110          -3051   \n",
      "4  Single / not married  House / apartment      -19110          -3051   \n",
      "\n",
      "   FLAG_MOBIL  FLAG_WORK_PHONE  FLAG_PHONE  FLAG_EMAIL OCCUPATION_TYPE  \\\n",
      "0           1                1           0           0             NaN   \n",
      "1           1                1           0           0             NaN   \n",
      "2           1                0           0           0  Security staff   \n",
      "3           1                0           1           1     Sales staff   \n",
      "4           1                0           1           1     Sales staff   \n",
      "\n",
      "   CNT_FAM_MEMBERS  overdue_likelihood  \n",
      "0              2.0            0.187500  \n",
      "1              2.0            0.200000  \n",
      "2              2.0            0.533333  \n",
      "3              1.0            0.318182  \n",
      "4              1.0            0.205882  \n"
     ]
    }
   ],
   "source": [
    "\n",
    "merged_df = pd.merge(customer_df, result_df, on='ID', how='inner')\n",
    "print(merged_df.head())\n",
    "\n",
    "\n",
    "#print(len(merged_df['ID'].unique()))"
   ]
  },
  {
   "cell_type": "code",
   "execution_count": 204,
   "id": "c9c2bf99",
   "metadata": {
    "scrolled": true
   },
   "outputs": [],
   "source": [
    "#bins = [0, 0.1, 0.2, 0.3, 0.4, 0.5, 0.6, 0.7, 0.8, 0.9, 1]\n",
    "#labels = ['0-10%', '10-20%', '20-30%', '30-40%', '40-50%', '50-60%', '60-70%', '70-80%', '80-90%', '90-100%']\n",
    "\n",
    "#bins = [0, 0.2, 0.4, 0.6,  0.8, 1]\n",
    "#labels = ['1', '2', '3', '4', '5']\n",
    "\n",
    "# Define bins with 5% steps\n",
    "#bins = [i/20 for i in range(21)]  # 0, 0.05, 0.1, ..., 0.95, 1\n",
    "\n",
    "# Define corresponding labels for each bin\n",
    "#labels = ['0-5%', '5-10%', '10-15%', '15-20%', '20-25%', '25-30%', '30-35%', '35-40%', \n",
    " #         '40-45%', '45-50%', '50-55%', '55-60%', '60-65%', '65-70%', '70-75%', '75-80%',\n",
    "  #        '80-85%', '85-90%', '90-95%', '95-100%']\n",
    "\n",
    "#merged_df['overdue_class'] = pd.cut(merged_df['overdue_likelihood'], bins=bins, labels=labels, include_lowest=True)\n",
    "#merged_df['overdue_class'].value_counts()\n",
    "\n",
    "\n",
    "#Manual resampling\n",
    "\n",
    "# Find the number of samples in the smallest class\n",
    "#min_class_size = merged_df['overdue_class'].value_counts().min()\n",
    "#print(f\"Minimum class size: {min_class_size}\")\n",
    "\n",
    "# Resample each class to have the same number of samples as the smallest class\n",
    "#resampled_df = merged_df.groupby('overdue_class').apply(lambda x: x.sample(min_class_size, replace=True)).reset_index(drop=True)\n",
    "#merged_df = resampled_df\n",
    "# Check the class distribution after resampling\n",
    "#print(resampled_df['overdue_class'].value_counts())"
   ]
  },
  {
   "cell_type": "code",
   "execution_count": 205,
   "id": "606f7d26",
   "metadata": {
    "scrolled": true
   },
   "outputs": [
    {
     "name": "stdout",
     "output_type": "stream",
     "text": [
      "   CODE_GENDER  FLAG_OWN_CAR  FLAG_OWN_REALTY  CNT_CHILDREN  AMT_INCOME_TOTAL  \\\n",
      "0            1             1                1             0            427500   \n",
      "1            1             1                1             0            427500   \n",
      "2            1             1                1             0            112500   \n",
      "3            0             0                1             0            270000   \n",
      "4            0             0                1             0            270000   \n",
      "\n",
      "   DAYS_BIRTH  DAYS_EMPLOYED  FLAG_MOBIL  FLAG_WORK_PHONE  FLAG_PHONE  ...  \\\n",
      "0      -12005          -4542           0                1           0  ...   \n",
      "1      -12005          -4542           0                1           0  ...   \n",
      "2      -21474          -1134           0                0           0  ...   \n",
      "3      -19110          -3051           0                0           1  ...   \n",
      "4      -19110          -3051           0                0           1  ...   \n",
      "\n",
      "   OCCUPATION_TYPE_Managers  OCCUPATION_TYPE_Medicine staff  \\\n",
      "0                         0                               0   \n",
      "1                         0                               0   \n",
      "2                         0                               0   \n",
      "3                         0                               0   \n",
      "4                         0                               0   \n",
      "\n",
      "   OCCUPATION_TYPE_NaN  OCCUPATION_TYPE_Private service staff  \\\n",
      "0                    1                                      0   \n",
      "1                    1                                      0   \n",
      "2                    0                                      0   \n",
      "3                    0                                      0   \n",
      "4                    0                                      0   \n",
      "\n",
      "   OCCUPATION_TYPE_Realty agents  OCCUPATION_TYPE_Sales staff  \\\n",
      "0                              0                            0   \n",
      "1                              0                            0   \n",
      "2                              0                            0   \n",
      "3                              0                            1   \n",
      "4                              0                            1   \n",
      "\n",
      "   OCCUPATION_TYPE_Secretaries  OCCUPATION_TYPE_Security staff  \\\n",
      "0                            0                               0   \n",
      "1                            0                               0   \n",
      "2                            0                               1   \n",
      "3                            0                               0   \n",
      "4                            0                               0   \n",
      "\n",
      "   OCCUPATION_TYPE_Waiters/barmen staff  overdue_likelihood  \n",
      "0                                     0            0.187500  \n",
      "1                                     0            0.200000  \n",
      "2                                     0            0.533333  \n",
      "3                                     0            0.318182  \n",
      "4                                     0            0.205882  \n",
      "\n",
      "[5 rows x 53 columns]\n"
     ]
    }
   ],
   "source": [
    "one_hot_cols = ['NAME_EDUCATION_TYPE','NAME_FAMILY_STATUS','NAME_INCOME_TYPE','NAME_HOUSING_TYPE','OCCUPATION_TYPE']\n",
    "ordinal_cols = ['CODE_GENDER', 'FLAG_OWN_CAR', 'FLAG_OWN_REALTY', 'FLAG_MOBIL','FLAG_WORK_PHONE',  'FLAG_PHONE', 'FLAG_EMAIL']\n",
    "\n",
    "# Fill NaN values in 'OCCUPATION_TYPE'\n",
    "merged_df['OCCUPATION_TYPE'].fillna('NaN', inplace=True)\n",
    "merged_df.fillna(0, inplace=True)\n",
    "\n",
    "merged_df = merged_df.drop('ID', axis=1)\n",
    "\n",
    "\n",
    "# Create a copy of the DataFrame for processing\n",
    "df_proc = merged_df.copy()\n",
    "\n",
    "# Apply Ordinal Encoding to ordinal_cols\n",
    "ordinal_encoder = OrdinalEncoder()\n",
    "df_proc[ordinal_cols] = ordinal_encoder.fit_transform(df_proc[ordinal_cols])\n",
    "\n",
    "# Apply One-Hot Encoding to one_hot_cols\n",
    "df_enc = pd.get_dummies(df_proc, columns=one_hot_cols)\n",
    "\n",
    "\n",
    "# List all columns except 'overdue_likelihood'\n",
    "cols_except_overdue_likelihood = [col for col in df_enc.columns if col != 'overdue_likelihood']\n",
    "\n",
    "# Apply .astype(int) to all columns except 'overdue_likelihood'\n",
    "df_enc[cols_except_overdue_likelihood] = df_enc[cols_except_overdue_likelihood].astype(int)\n",
    "\n",
    "\n",
    "# Ensure 'overdue_likelihood' is in the DataFrame\n",
    "if 'overdue_likelihood' in df_enc.columns:\n",
    "    # Move 'overdue_likelihood' column to the end\n",
    "    overdue_col = df_enc['overdue_likelihood']\n",
    "    df_enc.drop(labels=['overdue_likelihood'], axis=1, inplace=True)\n",
    "    df_enc['overdue_likelihood'] = overdue_col\n",
    "else:\n",
    "    print(\"Column 'overdue_likelihood' not found in DataFrame\")\n",
    "\n",
    "# Display the first few rows of the processed DataFrame\n",
    "print(df_enc.head())"
   ]
  },
  {
   "cell_type": "code",
   "execution_count": null,
   "id": "46385e67",
   "metadata": {},
   "outputs": [],
   "source": []
  },
  {
   "cell_type": "code",
   "execution_count": 206,
   "id": "e8bbbeca",
   "metadata": {},
   "outputs": [
    {
     "name": "stdout",
     "output_type": "stream",
     "text": [
      "        CODE_GENDER  FLAG_OWN_CAR  FLAG_OWN_REALTY  CNT_CHILDREN  \\\n",
      "0          0.006754      0.008799         0.998953      0.006795   \n",
      "1          0.010490      0.014197         0.988348      0.015752   \n",
      "2          0.990196      0.009804         0.990196      0.149884   \n",
      "3          0.983147      0.999644         0.997847      0.011442   \n",
      "4          0.988223      0.988042         0.991191      0.010836   \n",
      "...             ...           ...              ...           ...   \n",
      "799995     0.004884      0.990699         0.988340      0.008222   \n",
      "799996     0.995378      0.008447         0.006495      0.001190   \n",
      "799997     0.985443      0.016354         0.981803      0.017553   \n",
      "799998     0.001588      0.014608         0.988539      0.284299   \n",
      "799999     0.014647      0.013873         0.983356      0.004397   \n",
      "\n",
      "        AMT_INCOME_TOTAL  DAYS_BIRTH  DAYS_EMPLOYED  FLAG_MOBIL  \\\n",
      "0               0.122823    0.436735       0.051567    0.173178   \n",
      "1               0.077216    0.191060       0.998835    0.560285   \n",
      "2               0.348744    0.649091       0.035281    0.499999   \n",
      "3               0.075025    0.375046       0.035171    0.047267   \n",
      "4               0.103881    0.564650       0.043120    0.197824   \n",
      "...                  ...         ...            ...         ...   \n",
      "799995          0.086838    0.526000       0.045664    0.159256   \n",
      "799996          0.157676    0.933532       0.042032    0.943585   \n",
      "799997          0.073699    0.842540       0.044530    0.540345   \n",
      "799998          0.097768    0.802378       0.035567    0.417379   \n",
      "799999          0.104819    0.345543       0.988814    0.707232   \n",
      "\n",
      "        FLAG_WORK_PHONE  FLAG_PHONE  ...  OCCUPATION_TYPE_Managers  \\\n",
      "0              0.988170    0.990642  ...                  0.018371   \n",
      "1              0.003901    0.004704  ...                  0.016610   \n",
      "2              0.990196    0.990196  ...                  0.009804   \n",
      "3              0.991657    0.002801  ...                  0.006648   \n",
      "4              0.005448    0.008329  ...                  0.009488   \n",
      "...                 ...         ...  ...                       ...   \n",
      "799995         0.016203    0.007855  ...                  0.009772   \n",
      "799996         0.007259    0.015246  ...                  0.011465   \n",
      "799997         0.988020    0.984742  ...                  0.010180   \n",
      "799998         0.998483    0.986398  ...                  0.017850   \n",
      "799999         0.009491    0.007393  ...                  0.003082   \n",
      "\n",
      "        OCCUPATION_TYPE_Medicine staff  OCCUPATION_TYPE_NaN  \\\n",
      "0                             0.010352             0.011828   \n",
      "1                             0.002761             0.989515   \n",
      "2                             0.009804             0.990196   \n",
      "3                             0.002842             0.018149   \n",
      "4                             0.014991             0.014476   \n",
      "...                                ...                  ...   \n",
      "799995                        0.014126             0.001987   \n",
      "799996                        0.017022             0.008009   \n",
      "799997                        0.015445             0.014979   \n",
      "799998                        0.008735             0.017356   \n",
      "799999                        0.006999             0.980609   \n",
      "\n",
      "        OCCUPATION_TYPE_Private service staff  OCCUPATION_TYPE_Realty agents  \\\n",
      "0                                    0.000575                       0.016073   \n",
      "1                                    0.012903                       0.000504   \n",
      "2                                    0.009804                       0.009804   \n",
      "3                                    0.016472                       0.018709   \n",
      "4                                    0.006945                       0.004373   \n",
      "...                                       ...                            ...   \n",
      "799995                               0.997012                       0.010819   \n",
      "799996                               0.018022                       0.012182   \n",
      "799997                               0.008523                       0.011744   \n",
      "799998                               0.008807                       0.011354   \n",
      "799999                               0.004919                       0.005995   \n",
      "\n",
      "        OCCUPATION_TYPE_Sales staff  OCCUPATION_TYPE_Secretaries  \\\n",
      "0                          0.019140                     0.002418   \n",
      "1                          0.009126                     0.004292   \n",
      "2                          0.009804                     0.009804   \n",
      "3                          0.017590                     0.003029   \n",
      "4                          0.002735                     0.981221   \n",
      "...                             ...                          ...   \n",
      "799995                     0.012558                     0.010480   \n",
      "799996                     0.998838                     0.001154   \n",
      "799997                     0.008351                     0.004135   \n",
      "799998                     0.015062                     0.012731   \n",
      "799999                     0.002020                     0.000161   \n",
      "\n",
      "        OCCUPATION_TYPE_Security staff  OCCUPATION_TYPE_Waiters/barmen staff  \\\n",
      "0                             0.013563                              0.014655   \n",
      "1                             0.015511                              0.017169   \n",
      "2                             0.009804                              0.009804   \n",
      "3                             0.010673                              0.017042   \n",
      "4                             0.008769                              0.005942   \n",
      "...                                ...                                   ...   \n",
      "799995                        0.013691                              0.000948   \n",
      "799996                        0.017666                              0.007576   \n",
      "799997                        0.009997                              0.004382   \n",
      "799998                        0.003638                              0.005211   \n",
      "799999                        0.002582                              0.003176   \n",
      "\n",
      "        overdue_likelihood  \n",
      "0                 0.616048  \n",
      "1                 0.775278  \n",
      "2                 0.353089  \n",
      "3                 0.675820  \n",
      "4                 0.120266  \n",
      "...                    ...  \n",
      "799995            0.305183  \n",
      "799996            0.707026  \n",
      "799997            0.469149  \n",
      "799998            0.288141  \n",
      "799999            0.561738  \n",
      "\n",
      "[800000 rows x 53 columns]\n",
      "CODE_GENDER                                          0.047896\n",
      "FLAG_OWN_CAR                                         0.612011\n",
      "FLAG_OWN_REALTY                                      0.622104\n",
      "CNT_CHILDREN                                         0.356752\n",
      "AMT_INCOME_TOTAL                                     0.071506\n",
      "DAYS_BIRTH                                           0.089800\n",
      "DAYS_EMPLOYED                                        0.001451\n",
      "FLAG_MOBIL                                           0.004005\n",
      "FLAG_WORK_PHONE                                      0.035267\n",
      "FLAG_PHONE                                           0.197089\n",
      "FLAG_EMAIL                                           0.313621\n",
      "CNT_FAM_MEMBERS                                      0.272915\n",
      "NAME_EDUCATION_TYPE_Academic degree                  0.236188\n",
      "NAME_EDUCATION_TYPE_Higher education                 0.179327\n",
      "NAME_EDUCATION_TYPE_Incomplete higher                0.050124\n",
      "NAME_EDUCATION_TYPE_Lower secondary                  0.675765\n",
      "NAME_EDUCATION_TYPE_Secondary / secondary special    0.307098\n",
      "NAME_FAMILY_STATUS_Civil marriage                    0.227313\n",
      "NAME_FAMILY_STATUS_Married                           0.116250\n",
      "NAME_FAMILY_STATUS_Separated                         0.242809\n",
      "NAME_FAMILY_STATUS_Single / not married              0.089085\n",
      "NAME_FAMILY_STATUS_Widow                             0.393358\n",
      "NAME_INCOME_TYPE_Commercial associate                0.540233\n",
      "NAME_INCOME_TYPE_Pensioner                           0.006430\n",
      "NAME_INCOME_TYPE_State servant                       0.150428\n",
      "NAME_INCOME_TYPE_Student                             0.251314\n",
      "NAME_INCOME_TYPE_Working                             0.364664\n",
      "NAME_HOUSING_TYPE_Co-op apartment                    0.253989\n",
      "NAME_HOUSING_TYPE_House / apartment                  0.843091\n",
      "NAME_HOUSING_TYPE_Municipal apartment                0.008552\n",
      "NAME_HOUSING_TYPE_Office apartment                   0.120193\n",
      "NAME_HOUSING_TYPE_Rented apartment                   0.238398\n",
      "NAME_HOUSING_TYPE_With parents                       1.000000\n",
      "OCCUPATION_TYPE_Accountants                          0.605119\n",
      "OCCUPATION_TYPE_Cleaning staff                       0.287247\n",
      "OCCUPATION_TYPE_Cooking staff                        0.532947\n",
      "OCCUPATION_TYPE_Core staff                           0.493173\n",
      "OCCUPATION_TYPE_Drivers                              0.090985\n",
      "OCCUPATION_TYPE_HR staff                             0.122964\n",
      "OCCUPATION_TYPE_High skill tech staff                0.523656\n",
      "OCCUPATION_TYPE_IT staff                             0.166120\n",
      "OCCUPATION_TYPE_Laborers                             0.424262\n",
      "OCCUPATION_TYPE_Low-skill Laborers                   0.454907\n",
      "OCCUPATION_TYPE_Managers                             0.543066\n",
      "OCCUPATION_TYPE_Medicine staff                       0.317983\n",
      "OCCUPATION_TYPE_NaN                                  0.079733\n",
      "OCCUPATION_TYPE_Private service staff                0.128585\n",
      "OCCUPATION_TYPE_Realty agents                        0.464256\n",
      "OCCUPATION_TYPE_Sales staff                          0.922453\n",
      "OCCUPATION_TYPE_Secretaries                          0.001029\n",
      "OCCUPATION_TYPE_Security staff                       0.215838\n",
      "OCCUPATION_TYPE_Waiters/barmen staff                 0.071872\n",
      "Name: overdue_likelihood, dtype: float64\n"
     ]
    }
   ],
   "source": [
    "scaler = MinMaxScaler()\n",
    "X_scaled = scaler.fit_transform(df_enc)\n",
    "df_scaled = pd.DataFrame(X_scaled, columns=df_enc.columns)\n",
    "\n",
    "# Define the target count for each group\n",
    "target_count_per_group = 8000\n",
    "\n",
    "augmented_df = pd.DataFrame()\n",
    "\n",
    "# Define a function to apply noise\n",
    "def apply_noise(series, noise_level=0.01):\n",
    "    # Generate noise of the same shape as the series\n",
    "    noise = np.random.uniform(-noise_level, noise_level, series.shape)\n",
    "    return series + noise\n",
    "\n",
    "# Assuming overdue_likelihood_scaled is a column in df_scaled\n",
    "overdue_likelihood_scaled = df_scaled.iloc[:, -1]\n",
    "\n",
    "# Group the data based on the scaled 'overdue_likelihood'\n",
    "for i in range(100):\n",
    "    lower_bound = i / 100\n",
    "    upper_bound = (i + 1) / 100\n",
    "    group_df = df_scaled[(overdue_likelihood_scaled >= lower_bound) & (overdue_likelihood_scaled < upper_bound)]\n",
    "    duplicates_needed = target_count_per_group - len(group_df)\n",
    "    \n",
    "    if duplicates_needed > 0 and not group_df.empty:\n",
    "        duplicated_rows = pd.concat([group_df] * (duplicates_needed // len(group_df) + 1), ignore_index=True)\n",
    "        duplicated_rows = duplicated_rows.iloc[:duplicates_needed, :]\n",
    "        \n",
    "        # Apply noise to all columns except the 'overdue_likelihood'\n",
    "        duplicated_rows.iloc[:, :-1] = apply_noise(duplicated_rows.iloc[:, :-1], noise_level=0.01)\n",
    "        \n",
    "        # Only apply noise to 'overdue_likelihood' for the duplicated rows, not the original ones\n",
    "        noise = np.random.uniform(-0.01, 0.01, size=(duplicated_rows.shape[0],))\n",
    "        duplicated_rows['overdue_likelihood'] += noise\n",
    "        \n",
    "        group_df = pd.concat([group_df, duplicated_rows], ignore_index=True)\n",
    "    \n",
    "    augmented_df = pd.concat([augmented_df, group_df], ignore_index=True)\n",
    "\n",
    "# Shuffle the augmented DataFrame\n",
    "augmented_df = augmented_df.sample(frac=1).reset_index(drop=True)\n",
    "\n",
    "# Scale again after applying randomness\n",
    "scaler = MinMaxScaler()\n",
    "X_scaled = scaler.fit_transform(augmented_df.drop('overdue_likelihood', axis=1))\n",
    "Y_scaled = scaler.fit_transform(augmented_df[['overdue_likelihood']])\n",
    "\n",
    "# Combine scaled X and Y\n",
    "augmented_df = pd.DataFrame(X_scaled, columns=augmented_df.columns[:-1])\n",
    "augmented_df['overdue_likelihood'] = Y_scaled.flatten()\n",
    "\n",
    "# Prepare the features and target\n",
    "Y = augmented_df['overdue_likelihood']\n",
    "X_enc = augmented_df.drop('overdue_likelihood', axis=1)\n",
    "\n",
    "print(augmented_df)\n",
    "\n",
    "\n",
    "# Assuming augmented_df is your DataFrame and 'overdue_likelihood' is the target\n",
    "correlation_matrix = augmented_df.corr(method='pearson')\n",
    "\n",
    "# Extract the correlations of all features with 'overdue_likelihood'\n",
    "# Exclude the correlation of 'overdue_likelihood' with itself\n",
    "input_weights = correlation_matrix['overdue_likelihood'].drop('overdue_likelihood')\n",
    "\n",
    "# If you need a numpy array\n",
    "input_weights_array = input_weights.to_numpy()\n",
    "\n",
    "# Assuming input_weights is a pandas Series from your previous calculation\n",
    "max_weight = input_weights.abs().max()  # Taking the max of the absolute values\n",
    "\n",
    "# Scale weights so that the highest absolute value becomes 1\n",
    "scaled_weights = input_weights.abs() / max_weight\n",
    "\n",
    "scaled_weights = scaled_weights.fillna(0)\n",
    "\n",
    "# Convert to numpy array if needed\n",
    "scaled_weights_array = scaled_weights.to_numpy()\n",
    "\n",
    "print(scaled_weights)"
   ]
  },
  {
   "cell_type": "markdown",
   "id": "8ae813e4",
   "metadata": {},
   "source": [
    "# TODO:\n",
    "- overdue-likelyhood zu labels\n",
    "- encoden\n",
    "    - Eig geht fast alles ordinal encoded\n",
    "    - OCCUPATION_TYPE fliegt ganz raus\n",
    "- scalen\n",
    "- random forest\n",
    "\n",
    "\n",
    "\n",
    "\n",
    "## Modeling"
   ]
  },
  {
   "cell_type": "code",
   "execution_count": 207,
   "id": "51efbdba",
   "metadata": {},
   "outputs": [],
   "source": [
    "X_train, X_test, y_train, y_test = train_test_split(augmented_df, Y, test_size=0.01, random_state=0)\n",
    "X_train = X_train.drop([\n",
    "    'overdue_likelihood'], axis=1)\n",
    "X_test = X_test.drop([\n",
    "    'overdue_likelihood'], axis=1)"
   ]
  },
  {
   "cell_type": "code",
   "execution_count": 208,
   "id": "b14d63b8",
   "metadata": {},
   "outputs": [],
   "source": [
    "# Convert data to NumPy arrays and then to PyTorch tensors\n",
    "X_train = torch.tensor(X_train.values).float()\n",
    "y_train = torch.tensor(y_train.values).float()\n",
    "X_test = torch.tensor(X_test.values).float()\n",
    "y_test = torch.tensor(y_test.values).float()\n",
    "\n",
    "# Create tensor datasets\n",
    "train_dataset = TensorDataset(X_train, y_train)\n",
    "test_dataset = TensorDataset(X_test, y_test)\n",
    "\n",
    "# Create data loaders\n",
    "train_loader = DataLoader(train_dataset, batch_size=64, shuffle=True)\n",
    "test_loader = DataLoader(test_dataset, batch_size=64, shuffle=False)"
   ]
  },
  {
   "cell_type": "code",
   "execution_count": 209,
   "id": "11e42595",
   "metadata": {},
   "outputs": [],
   "source": [
    "config = {\n",
    "    \"input_size\": X_enc.shape[1],  # Number of features in X_enc\n",
    "    \"hidden_size\": 2120,  # Consider adjusting based on performance\n",
    "    \"output_size\": 1,  # For binary classification\n",
    "    \"num_layers\": 3,  # Number of hidden layers\n",
    "    \"num_epochs\": 60,  # Number of epochs for training\n",
    "    \"batch_size\": 2048,  # Batch size for training\n",
    "    \"learning_rate\": 0.0027,  # Learning rate for optimizer\n",
    "    \"dropout_rate\": 0.0,  # Dropout rate for regularization (set to >0 to enable)\n",
    "    \"weight_decay\": 0.0  # Weight decay for L2 regularization (set to >0 to enable)\n",
    "}"
   ]
  },
  {
   "cell_type": "code",
   "execution_count": 210,
   "id": "822fe5c3",
   "metadata": {
    "scrolled": true
   },
   "outputs": [
    {
     "name": "stdout",
     "output_type": "stream",
     "text": [
      "Using device: cuda\n",
      "Epoch 1/60, Loss: 0.2028\n",
      "Epoch 2/60, Loss: 0.1756\n",
      "Epoch 3/60, Loss: 0.1672\n",
      "Epoch 4/60, Loss: 0.1623\n",
      "Epoch 5/60, Loss: 0.1585\n",
      "Epoch 6/60, Loss: 0.1554\n",
      "Epoch 7/60, Loss: 0.1529\n",
      "Epoch 8/60, Loss: 0.1509\n",
      "Epoch 9/60, Loss: 0.1493\n",
      "Epoch 10/60, Loss: 0.1477\n",
      "Epoch 11/60, Loss: 0.1464\n",
      "Epoch 12/60, Loss: 0.1452\n",
      "Epoch 13/60, Loss: 0.1441\n",
      "Epoch 14/60, Loss: 0.1431\n",
      "Epoch 15/60, Loss: 0.1421\n",
      "Epoch 16/60, Loss: 0.1413\n",
      "Epoch 17/60, Loss: 0.1407\n",
      "Epoch 18/60, Loss: 0.1398\n",
      "Epoch 19/60, Loss: 0.1393\n",
      "Epoch 20/60, Loss: 0.1386\n",
      "Epoch 21/60, Loss: 0.1381\n",
      "Epoch 22/60, Loss: 0.1376\n",
      "Epoch 23/60, Loss: 0.1371\n",
      "Epoch 24/60, Loss: 0.1367\n",
      "Epoch 25/60, Loss: 0.1363\n",
      "Epoch 26/60, Loss: 0.1358\n",
      "Epoch 27/60, Loss: 0.1355\n",
      "Epoch 28/60, Loss: 0.1351\n",
      "Epoch 29/60, Loss: 0.1348\n",
      "Epoch 30/60, Loss: 0.1346\n",
      "Epoch 31/60, Loss: 0.1342\n",
      "Epoch 32/60, Loss: 0.1339\n",
      "Epoch 33/60, Loss: 0.1337\n",
      "Epoch 34/60, Loss: 0.1335\n",
      "Epoch 35/60, Loss: 0.1332\n",
      "Epoch 36/60, Loss: 0.1331\n",
      "Epoch 37/60, Loss: 0.1328\n",
      "Epoch 38/60, Loss: 0.1326\n",
      "Epoch 39/60, Loss: 0.1324\n",
      "Epoch 40/60, Loss: 0.1322\n",
      "Epoch 41/60, Loss: 0.1320\n",
      "Epoch 42/60, Loss: 0.1320\n",
      "Epoch 43/60, Loss: 0.1318\n",
      "Epoch 44/60, Loss: 0.1316\n",
      "Epoch 45/60, Loss: 0.1314\n",
      "Epoch 46/60, Loss: 0.1312\n",
      "Epoch 47/60, Loss: 0.1310\n",
      "Epoch 48/60, Loss: 0.1309\n",
      "Epoch 49/60, Loss: 0.1308\n",
      "Epoch 50/60, Loss: 0.1306\n",
      "Epoch 51/60, Loss: 0.1305\n",
      "Epoch 52/60, Loss: 0.1304\n",
      "Epoch 53/60, Loss: 0.1302\n",
      "Epoch 54/60, Loss: 0.1301\n",
      "Epoch 55/60, Loss: 0.1300\n",
      "Epoch 56/60, Loss: 0.1300\n",
      "Epoch 57/60, Loss: 0.1299\n",
      "Epoch 58/60, Loss: 0.1298\n",
      "Epoch 59/60, Loss: 0.1297\n",
      "Epoch 60/60, Loss: 0.1296\n"
     ]
    }
   ],
   "source": [
    "import torch\n",
    "import torch.nn as nn\n",
    "import torch.optim as optim\n",
    "from torch.utils.data import TensorDataset, DataLoader\n",
    "\n",
    "\n",
    "class InputWeightingLayer(nn.Module):\n",
    "    def __init__(self, weights):\n",
    "        super(InputWeightingLayer, self).__init__()\n",
    "        self.weights = nn.Parameter(torch.tensor(weights, dtype=torch.float32), requires_grad=False)\n",
    "\n",
    "    def forward(self, x):\n",
    "        # Element-wise multiplication of input with weights\n",
    "        weighted_x = x * self.weights\n",
    "        return weighted_x\n",
    "\n",
    "class MyModel(nn.Module):\n",
    "    def __init__(self, input_size, hidden_size, output_size, num_layers, dropout_rate, input_weights):\n",
    "        super(MyModel, self).__init__()\n",
    "        self.input_weighting = InputWeightingLayer(input_weights)\n",
    "        layers = [nn.Linear(input_size, hidden_size), nn.ReLU()]\n",
    "        for _ in range(num_layers - 2):\n",
    "            layers.extend([nn.Linear(hidden_size, hidden_size), nn.ReLU()])\n",
    "        layers.extend([nn.Linear(hidden_size, output_size), nn.ReLU6()])\n",
    "        self.layers = nn.Sequential(*layers)\n",
    "\n",
    "    def forward(self, x):\n",
    "        x = self.input_weighting(x)\n",
    "        return self.layers(x)\n",
    "\n",
    "input_weights = scaled_weights_array\n",
    "    \n",
    "model = MyModel(\n",
    "    config['input_size'],\n",
    "    config['hidden_size'],\n",
    "    config['output_size'],\n",
    "    config['num_layers'],\n",
    "    config['dropout_rate'],\n",
    "    input_weights\n",
    ")\n",
    "\n",
    "\n",
    "# Check for GPU availability\n",
    "device = torch.device(\"cuda\" if torch.cuda.is_available() else \"cpu\")\n",
    "print(f\"Using device: {device}\")\n",
    "model.to(device)\n",
    "\n",
    "# Define the loss function and optimizer\n",
    "loss_function = nn.L1Loss()\n",
    "# Define the optimizer with weight decay\n",
    "optimizer = optim.Adam(model.parameters(), lr=config['learning_rate'], weight_decay=config['weight_decay'])\n",
    "\n",
    "# Training loop\n",
    "for epoch in range(config['num_epochs']):\n",
    "    running_loss = 0.0\n",
    "    for i, (inputs, labels) in enumerate(train_loader):\n",
    "        inputs, labels = inputs.to(device), labels.to(device)\n",
    "\n",
    "        # Forward pass\n",
    "        outputs = model(inputs).squeeze(1)\n",
    "        loss = loss_function(outputs, labels)\n",
    "\n",
    "        # Backward pass and optimize\n",
    "        optimizer.zero_grad()\n",
    "        loss.backward()\n",
    "        optimizer.step()\n",
    "\n",
    "        running_loss += loss.item()\n",
    "\n",
    "    epoch_loss = running_loss / len(train_loader)\n",
    "    print(f'Epoch {epoch+1}/{config[\"num_epochs\"]}, Loss: {epoch_loss:.4f}')\n",
    "\n",
    "\n",
    "\n",
    "# Evaluation loop\n",
    "model.eval()\n",
    "with torch.no_grad():\n",
    "    for inputs, labels in test_loader:  # Assuming test_loader is defined\n",
    "        inputs, labels = inputs.cuda(), labels.cuda()  # Move data to GPU if available\n",
    "        outputs = model(inputs)\n",
    "        # Calculate loss, accuracy etc.\n"
   ]
  },
  {
   "cell_type": "code",
   "execution_count": null,
   "id": "668c1ad2",
   "metadata": {},
   "outputs": [],
   "source": []
  },
  {
   "cell_type": "code",
   "execution_count": 211,
   "id": "313a409f",
   "metadata": {
    "scrolled": true
   },
   "outputs": [
    {
     "data": {
      "image/png": "[encoded data removed]",
      "text/plain": [
       "<Figure size 640x480 with 1 Axes>"
      ]
     },
     "metadata": {},
     "output_type": "display_data"
    }
   ],
   "source": [
    "# Switch the model to evaluation mode\n",
    "model.eval()\n",
    "\n",
    "# Collect all predictions and actual labels\n",
    "all_preds = []\n",
    "all_labels = []\n",
    "\n",
    "with torch.no_grad():\n",
    "    for inputs, labels in test_loader:\n",
    "        inputs = inputs.cuda()  # Move data to GPU if available\n",
    "\n",
    "        # Forward pass\n",
    "        outputs = model(inputs)\n",
    "        outputs = outputs.squeeze(1)  # Remove the singleton dimension\n",
    "\n",
    "        # Store predictions and labels\n",
    "        all_preds.extend(outputs.cpu().numpy())\n",
    "        all_labels.extend(labels.cpu().numpy())\n",
    "\n",
    "# Now plot the results\n",
    "plt.scatter(all_labels, all_preds, s=1)  # Making the points smaller with size=1\n",
    "plt.xlabel('Actual Values')\n",
    "plt.ylabel('Predicted Values')\n",
    "plt.title('Actual vs Predicted Values')\n",
    "\n",
    "# Adding y=x line (identity line)\n",
    "plt.plot([0, 1], [0, 1], color='red', linestyle='-', linewidth=1)\n",
    "\n",
    "plt.xlim([0, 1])\n",
    "plt.ylim([0, 1])\n",
    "\n",
    "plt.show()"
   ]
  },
  {
   "cell_type": "code",
   "execution_count": null,
   "id": "2b0ea90a",
   "metadata": {},
   "outputs": [],
   "source": []
  }
 ],
 "metadata": {
  "kernelspec": {
   "display_name": "Python 3 (ipykernel)",
   "language": "python",
   "name": "python3"
  },
  "language_info": {
   "codemirror_mode": {
    "name": "ipython",
    "version": 3
   },
   "file_extension": ".py",
   "mimetype": "text/x-python",
   "name": "python",
   "nbconvert_exporter": "python",
   "pygments_lexer": "ipython3",
   "version": "3.11.5"
  }
 },
 "nbformat": 4,
 "nbformat_minor": 5
}
