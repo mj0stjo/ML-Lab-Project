{
 "cells": [
  {
   "cell_type": "markdown",
   "id": "5dab942d",
   "metadata": {},
   "source": [
    "# Machine Learning Lab Project - Credit Card Overdue Likelihood Prediction\n",
    "##  Business Understanding"
   ]
  },
  {
   "cell_type": "markdown",
   "id": "2d7e57de",
   "metadata": {},
   "source": [
    "## Data Understanding\n",
    "The data for this task is taken from [this](https://www.kaggle.com/datasets/rikdifos/credit-card-approval-prediction) kaggle dataset. The kaggle page provides two `.csv` files:\n",
    "- application_record.csv\n",
    "- credit_record.csv\n",
    "\n",
    "On a simple level, `application_record.csv` contains the customer data and `credit_record.csv` contains the customers credit history. The specific content is now investigated further.\n",
    "\n",
    "For beeing able to analyse the datasets, the necessary libraries are imported first:"
   ]
  },
  {
   "cell_type": "code",
   "execution_count": 31,
   "id": "511113b5",
   "metadata": {},
   "outputs": [],
   "source": [
    "import pandas as pd\n",
    "import numpy as np\n",
    "import pandas as pd\n",
    "from sklearn.preprocessing import OneHotEncoder, OrdinalEncoder, MinMaxScaler\n",
    "from sklearn.compose import ColumnTransformer\n",
    "import torch\n",
    "import torch.nn as nn\n",
    "import torch.nn.functional as F\n",
    "import torch.optim as optim\n",
    "from sklearn.preprocessing import StandardScaler, MinMaxScaler\n",
    "import pandas as pd\n",
    "import numpy as np\n",
    "from torch.utils.data import TensorDataset, DataLoader\n",
    "from sklearn.model_selection import train_test_split, GridSearchCV\n",
    "from sklearn.preprocessing import StandardScaler\n",
    "import matplotlib.pyplot as plt\n",
    "import tensorflow as tf\n",
    "from tensorflow.keras.models import Sequential\n",
    "from tensorflow.keras.layers import Dense"
   ]
  },
  {
   "cell_type": "markdown",
   "id": "ec1c65ba",
   "metadata": {},
   "source": [
    "In this next step the two `.csv` files are loaded into a pandas datafram. This enables an analysis with the full pandas funcionality, which makes the data understanding process way easier."
   ]
  },
  {
   "cell_type": "code",
   "execution_count": 32,
   "id": "2b7027e5",
   "metadata": {},
   "outputs": [],
   "source": [
    "customer_df = pd.read_csv(\"Data/application_record.csv\")\n",
    "credit_df = pd.read_csv(\"Data/credit_record.csv\")"
   ]
  },
  {
   "cell_type": "markdown",
   "id": "f6d875a2",
   "metadata": {},
   "source": [
    "### application_record.csv\n",
    "First, it is important to analyse the columns of the dataset:"
   ]
  },
  {
   "cell_type": "code",
   "execution_count": 33,
   "id": "0fd8bf95",
   "metadata": {},
   "outputs": [
    {
     "name": "stdout",
     "output_type": "stream",
     "text": [
      "<class 'pandas.core.frame.DataFrame'>\n",
      "RangeIndex: 438557 entries, 0 to 438556\n",
      "Data columns (total 18 columns):\n",
      " #   Column               Non-Null Count   Dtype  \n",
      "---  ------               --------------   -----  \n",
      " 0   ID                   438557 non-null  int64  \n",
      " 1   CODE_GENDER          438557 non-null  object \n",
      " 2   FLAG_OWN_CAR         438557 non-null  object \n",
      " 3   FLAG_OWN_REALTY      438557 non-null  object \n",
      " 4   CNT_CHILDREN         438557 non-null  int64  \n",
      " 5   AMT_INCOME_TOTAL     438557 non-null  float64\n",
      " 6   NAME_INCOME_TYPE     438557 non-null  object \n",
      " 7   NAME_EDUCATION_TYPE  438557 non-null  object \n",
      " 8   NAME_FAMILY_STATUS   438557 non-null  object \n",
      " 9   NAME_HOUSING_TYPE    438557 non-null  object \n",
      " 10  DAYS_BIRTH           438557 non-null  int64  \n",
      " 11  DAYS_EMPLOYED        438557 non-null  int64  \n",
      " 12  FLAG_MOBIL           438557 non-null  int64  \n",
      " 13  FLAG_WORK_PHONE      438557 non-null  int64  \n",
      " 14  FLAG_PHONE           438557 non-null  int64  \n",
      " 15  FLAG_EMAIL           438557 non-null  int64  \n",
      " 16  OCCUPATION_TYPE      304354 non-null  object \n",
      " 17  CNT_FAM_MEMBERS      438557 non-null  float64\n",
      "dtypes: float64(2), int64(8), object(8)\n",
      "memory usage: 60.2+ MB\n"
     ]
    }
   ],
   "source": [
    "customer_df.info()"
   ]
  },
  {
   "cell_type": "markdown",
   "id": "4829b5e2",
   "metadata": {},
   "source": [
    "As can be seen above, the dataset consists of 17 columns, containing numeral as well as textual data. It also seems as if there is already an unique identifier for every customer in the column `ID`. A concrete description fo these different columns can be retrieved from the datasets [kaggle page](https://www.kaggle.com/datasets/rikdifos/credit-card-approval-prediction/data):\n",
    "\n",
    "|Feature name|Explanation|Remarks|\n",
    "|:-----------|:----------|:------|\n",
    "|ID \t     |Client number||\n",
    "|CODE_GENDER |\tGender \t||\n",
    "|FLAG_OWN_CAR| \tIs there a car \t||\n",
    "|FLAG_OWN_REALTY| \tIs there a property|| \t\n",
    "|CNT_CHILDREN| \tNumber of children \t||\n",
    "|AMT_INCOME_TOTAL| \tAnnual income \t||\n",
    "|NAME_INCOME_TYPE| \tIncome category \t||\n",
    "|NAME_EDUCATION_TYPE| \tEducation level ||\t\n",
    "|NAME_FAMILY_STATUS| \tMarital status \t||\n",
    "|NAME_HOUSING_TYPE| \tWay of living \t||\n",
    "|DAYS_BIRTH| \tBirthday |\tCount backwards from current day (0), -1 means yesterday|\n",
    "|DAYS_EMPLOYED| \tStart date of employment |\tCount backwards from current day(0). If positive, it means the person currently  unemployed.|\n",
    "|FLAG_MOBIL| \tIs there a mobile phone \t||\n",
    "|FLAG_WORK_PHONE| \tIs there a work phone \t||\n",
    "|FLAG_PHONE| \tIs there a phone \t||\n",
    "|FLAG_EMAIL| \tIs there an email \t||\n",
    "|OCCUPATION_TYPE| \tOccupation \t||\n",
    "|CNT_FAM_MEMBERS| \tFamily size||\n",
    "\n",
    "Now that the purpose of the columns is clear, the actual data can be analyzed:"
   ]
  },
  {
   "cell_type": "code",
   "execution_count": 34,
   "id": "104517cc",
   "metadata": {},
   "outputs": [
    {
     "data": {
      "text/html": [
       "<div>\n",
       "<style scoped>\n",
       "    .dataframe tbody tr th:only-of-type {\n",
       "        vertical-align: middle;\n",
       "    }\n",
       "\n",
       "    .dataframe tbody tr th {\n",
       "        vertical-align: top;\n",
       "    }\n",
       "\n",
       "    .dataframe thead th {\n",
       "        text-align: right;\n",
       "    }\n",
       "</style>\n",
       "<table border=\"1\" class=\"dataframe\">\n",
       "  <thead>\n",
       "    <tr style=\"text-align: right;\">\n",
       "      <th></th>\n",
       "      <th>ID</th>\n",
       "      <th>CODE_GENDER</th>\n",
       "      <th>FLAG_OWN_CAR</th>\n",
       "      <th>FLAG_OWN_REALTY</th>\n",
       "      <th>CNT_CHILDREN</th>\n",
       "      <th>AMT_INCOME_TOTAL</th>\n",
       "      <th>NAME_INCOME_TYPE</th>\n",
       "      <th>NAME_EDUCATION_TYPE</th>\n",
       "      <th>NAME_FAMILY_STATUS</th>\n",
       "      <th>NAME_HOUSING_TYPE</th>\n",
       "      <th>DAYS_BIRTH</th>\n",
       "      <th>DAYS_EMPLOYED</th>\n",
       "      <th>FLAG_MOBIL</th>\n",
       "      <th>FLAG_WORK_PHONE</th>\n",
       "      <th>FLAG_PHONE</th>\n",
       "      <th>FLAG_EMAIL</th>\n",
       "      <th>OCCUPATION_TYPE</th>\n",
       "      <th>CNT_FAM_MEMBERS</th>\n",
       "    </tr>\n",
       "  </thead>\n",
       "  <tbody>\n",
       "    <tr>\n",
       "      <th>0</th>\n",
       "      <td>5008804</td>\n",
       "      <td>M</td>\n",
       "      <td>Y</td>\n",
       "      <td>Y</td>\n",
       "      <td>0</td>\n",
       "      <td>427500.0</td>\n",
       "      <td>Working</td>\n",
       "      <td>Higher education</td>\n",
       "      <td>Civil marriage</td>\n",
       "      <td>Rented apartment</td>\n",
       "      <td>-12005</td>\n",
       "      <td>-4542</td>\n",
       "      <td>1</td>\n",
       "      <td>1</td>\n",
       "      <td>0</td>\n",
       "      <td>0</td>\n",
       "      <td>NaN</td>\n",
       "      <td>2.0</td>\n",
       "    </tr>\n",
       "    <tr>\n",
       "      <th>1</th>\n",
       "      <td>5008805</td>\n",
       "      <td>M</td>\n",
       "      <td>Y</td>\n",
       "      <td>Y</td>\n",
       "      <td>0</td>\n",
       "      <td>427500.0</td>\n",
       "      <td>Working</td>\n",
       "      <td>Higher education</td>\n",
       "      <td>Civil marriage</td>\n",
       "      <td>Rented apartment</td>\n",
       "      <td>-12005</td>\n",
       "      <td>-4542</td>\n",
       "      <td>1</td>\n",
       "      <td>1</td>\n",
       "      <td>0</td>\n",
       "      <td>0</td>\n",
       "      <td>NaN</td>\n",
       "      <td>2.0</td>\n",
       "    </tr>\n",
       "    <tr>\n",
       "      <th>2</th>\n",
       "      <td>5008806</td>\n",
       "      <td>M</td>\n",
       "      <td>Y</td>\n",
       "      <td>Y</td>\n",
       "      <td>0</td>\n",
       "      <td>112500.0</td>\n",
       "      <td>Working</td>\n",
       "      <td>Secondary / secondary special</td>\n",
       "      <td>Married</td>\n",
       "      <td>House / apartment</td>\n",
       "      <td>-21474</td>\n",
       "      <td>-1134</td>\n",
       "      <td>1</td>\n",
       "      <td>0</td>\n",
       "      <td>0</td>\n",
       "      <td>0</td>\n",
       "      <td>Security staff</td>\n",
       "      <td>2.0</td>\n",
       "    </tr>\n",
       "    <tr>\n",
       "      <th>3</th>\n",
       "      <td>5008808</td>\n",
       "      <td>F</td>\n",
       "      <td>N</td>\n",
       "      <td>Y</td>\n",
       "      <td>0</td>\n",
       "      <td>270000.0</td>\n",
       "      <td>Commercial associate</td>\n",
       "      <td>Secondary / secondary special</td>\n",
       "      <td>Single / not married</td>\n",
       "      <td>House / apartment</td>\n",
       "      <td>-19110</td>\n",
       "      <td>-3051</td>\n",
       "      <td>1</td>\n",
       "      <td>0</td>\n",
       "      <td>1</td>\n",
       "      <td>1</td>\n",
       "      <td>Sales staff</td>\n",
       "      <td>1.0</td>\n",
       "    </tr>\n",
       "    <tr>\n",
       "      <th>4</th>\n",
       "      <td>5008809</td>\n",
       "      <td>F</td>\n",
       "      <td>N</td>\n",
       "      <td>Y</td>\n",
       "      <td>0</td>\n",
       "      <td>270000.0</td>\n",
       "      <td>Commercial associate</td>\n",
       "      <td>Secondary / secondary special</td>\n",
       "      <td>Single / not married</td>\n",
       "      <td>House / apartment</td>\n",
       "      <td>-19110</td>\n",
       "      <td>-3051</td>\n",
       "      <td>1</td>\n",
       "      <td>0</td>\n",
       "      <td>1</td>\n",
       "      <td>1</td>\n",
       "      <td>Sales staff</td>\n",
       "      <td>1.0</td>\n",
       "    </tr>\n",
       "  </tbody>\n",
       "</table>\n",
       "</div>"
      ],
      "text/plain": [
       "        ID CODE_GENDER FLAG_OWN_CAR FLAG_OWN_REALTY  CNT_CHILDREN  \\\n",
       "0  5008804           M            Y               Y             0   \n",
       "1  5008805           M            Y               Y             0   \n",
       "2  5008806           M            Y               Y             0   \n",
       "3  5008808           F            N               Y             0   \n",
       "4  5008809           F            N               Y             0   \n",
       "\n",
       "   AMT_INCOME_TOTAL      NAME_INCOME_TYPE            NAME_EDUCATION_TYPE  \\\n",
       "0          427500.0               Working               Higher education   \n",
       "1          427500.0               Working               Higher education   \n",
       "2          112500.0               Working  Secondary / secondary special   \n",
       "3          270000.0  Commercial associate  Secondary / secondary special   \n",
       "4          270000.0  Commercial associate  Secondary / secondary special   \n",
       "\n",
       "     NAME_FAMILY_STATUS  NAME_HOUSING_TYPE  DAYS_BIRTH  DAYS_EMPLOYED  \\\n",
       "0        Civil marriage   Rented apartment      -12005          -4542   \n",
       "1        Civil marriage   Rented apartment      -12005          -4542   \n",
       "2               Married  House / apartment      -21474          -1134   \n",
       "3  Single / not married  House / apartment      -19110          -3051   \n",
       "4  Single / not married  House / apartment      -19110          -3051   \n",
       "\n",
       "   FLAG_MOBIL  FLAG_WORK_PHONE  FLAG_PHONE  FLAG_EMAIL OCCUPATION_TYPE  \\\n",
       "0           1                1           0           0             NaN   \n",
       "1           1                1           0           0             NaN   \n",
       "2           1                0           0           0  Security staff   \n",
       "3           1                0           1           1     Sales staff   \n",
       "4           1                0           1           1     Sales staff   \n",
       "\n",
       "   CNT_FAM_MEMBERS  \n",
       "0              2.0  \n",
       "1              2.0  \n",
       "2              2.0  \n",
       "3              1.0  \n",
       "4              1.0  "
      ]
     },
     "execution_count": 34,
     "metadata": {},
     "output_type": "execute_result"
    }
   ],
   "source": [
    "customer_df.head()"
   ]
  },
  {
   "cell_type": "markdown",
   "id": "0fef6505",
   "metadata": {},
   "source": [
    "From these first five entries several things can be observed:\n",
    "1. The ID does not start from 0 but seems to be unique.\n",
    "2. For the `CODE_GENDER` the flags `F` (Female) and `M` (Male) are used.\n",
    "3. For `FLAG_OWN_CAR` and `FLAG_OWN_REALTY` the flags `Y` (Yes) and `N` (No) are used.\n",
    "4. For `NAME_INCOME_TYPE`, `NAME_EDUCATION_TYPE`, `NAME_FAMILY_STATUS` and `NAME_HOUSING_TYPE` are textual fields, but seem to have only a few different values.\n",
    "5. `OCCUPATION_TYPE` is a textual field and the values seem to be very different (\"Freetext Field\").\n",
    "6. For `FLAG_MOBIL`, `FLAG_WORK_PHONE`, `FLAG_PHONE` and `FLAG_EMAIL` the flags 1 (Yes) and 0 (No) are used.\n",
    "\n",
    "Before basing the data perparation on these findings, the assumptions have to be validated:\n",
    "\n",
    "#### 1. Unique `ID`"
   ]
  },
  {
   "cell_type": "code",
   "execution_count": 35,
   "id": "21461759",
   "metadata": {
    "scrolled": true
   },
   "outputs": [
    {
     "data": {
      "text/plain": [
       "ID\n",
       "7137299    2\n",
       "7702238    2\n",
       "7282535    2\n",
       "7243768    2\n",
       "7050948    2\n",
       "          ..\n",
       "5690727    1\n",
       "6621262    1\n",
       "6621261    1\n",
       "6621260    1\n",
       "6842885    1\n",
       "Name: count, Length: 438510, dtype: int64"
      ]
     },
     "execution_count": 35,
     "metadata": {},
     "output_type": "execute_result"
    }
   ],
   "source": [
    "customer_df['ID'].value_counts()"
   ]
  },
  {
   "cell_type": "markdown",
   "id": "fa7df86a",
   "metadata": {},
   "source": [
    "The ouptut of the value count clearly shows that not every ID is unique. As some IDs are contained twice, the real amout of customers contained in the dataset is only 438510.\n",
    "#### 2. Gender"
   ]
  },
  {
   "cell_type": "code",
   "execution_count": 36,
   "id": "97081a13",
   "metadata": {},
   "outputs": [
    {
     "data": {
      "text/plain": [
       "CODE_GENDER\n",
       "F    294440\n",
       "M    144117\n",
       "Name: count, dtype: int64"
      ]
     },
     "execution_count": 36,
     "metadata": {},
     "output_type": "execute_result"
    }
   ],
   "source": [
    "customer_df['CODE_GENDER'].value_counts()"
   ]
  },
  {
   "cell_type": "markdown",
   "id": "57f68775",
   "metadata": {},
   "source": [
    "For the gender the assumption that only the flags `F` and `M` are used was correct.\n",
    "#### 3. Flag Car / Real-Estate"
   ]
  },
  {
   "cell_type": "code",
   "execution_count": 37,
   "id": "ea31e73c",
   "metadata": {},
   "outputs": [
    {
     "name": "stdout",
     "output_type": "stream",
     "text": [
      "FLAG_OWN_CAR\n",
      "N    275459\n",
      "Y    163098\n",
      "Name: count, dtype: int64\n",
      "FLAG_OWN_REALTY\n",
      "Y    304074\n",
      "N    134483\n",
      "Name: count, dtype: int64\n"
     ]
    }
   ],
   "source": [
    "print(customer_df['FLAG_OWN_CAR'].value_counts())\n",
    "print(customer_df['FLAG_OWN_REALTY'].value_counts())"
   ]
  },
  {
   "cell_type": "markdown",
   "id": "9959af81",
   "metadata": {},
   "source": [
    "Also for the flags for the possesion of car and real-estate the assumption that there are only the flags `Y` and `N` was correct.\n",
    "#### 4. Text fields income, education, family and housing"
   ]
  },
  {
   "cell_type": "code",
   "execution_count": 38,
   "id": "2d09f567",
   "metadata": {},
   "outputs": [
    {
     "data": {
      "text/plain": [
       "NAME_INCOME_TYPE\n",
       "Working                 226104\n",
       "Commercial associate    100757\n",
       "Pensioner                75493\n",
       "State servant            36186\n",
       "Student                     17\n",
       "Name: count, dtype: int64"
      ]
     },
     "execution_count": 38,
     "metadata": {},
     "output_type": "execute_result"
    }
   ],
   "source": [
    "customer_df['NAME_INCOME_TYPE'].value_counts()"
   ]
  },
  {
   "cell_type": "markdown",
   "id": "92a80281",
   "metadata": {},
   "source": [
    "As can be seen above, there are five different types of income. This means the column can be encoded without any problems and can be used for the modeling later."
   ]
  },
  {
   "cell_type": "code",
   "execution_count": 39,
   "id": "b7e98f96",
   "metadata": {},
   "outputs": [
    {
     "data": {
      "text/plain": [
       "NAME_EDUCATION_TYPE\n",
       "Secondary / secondary special    301821\n",
       "Higher education                 117522\n",
       "Incomplete higher                 14851\n",
       "Lower secondary                    4051\n",
       "Academic degree                     312\n",
       "Name: count, dtype: int64"
      ]
     },
     "execution_count": 39,
     "metadata": {},
     "output_type": "execute_result"
    }
   ],
   "source": [
    "customer_df['NAME_EDUCATION_TYPE'].value_counts()"
   ]
  },
  {
   "cell_type": "markdown",
   "id": "f773a454",
   "metadata": {},
   "source": [
    "The education field also consists of only five types and can therefore also be used for modelling without any problems."
   ]
  },
  {
   "cell_type": "code",
   "execution_count": 40,
   "id": "ac363c26",
   "metadata": {},
   "outputs": [
    {
     "data": {
      "text/plain": [
       "NAME_FAMILY_STATUS\n",
       "Married                 299828\n",
       "Single / not married     55271\n",
       "Civil marriage           36532\n",
       "Separated                27251\n",
       "Widow                    19675\n",
       "Name: count, dtype: int64"
      ]
     },
     "execution_count": 40,
     "metadata": {},
     "output_type": "execute_result"
    }
   ],
   "source": [
    "customer_df['NAME_FAMILY_STATUS'].value_counts()"
   ]
  },
  {
   "cell_type": "markdown",
   "id": "686e7be1",
   "metadata": {},
   "source": [
    "Also the family status has five different values."
   ]
  },
  {
   "cell_type": "code",
   "execution_count": 41,
   "id": "75506a47",
   "metadata": {},
   "outputs": [
    {
     "data": {
      "text/plain": [
       "NAME_HOUSING_TYPE\n",
       "House / apartment      393831\n",
       "With parents            19077\n",
       "Municipal apartment     14214\n",
       "Rented apartment         5974\n",
       "Office apartment         3922\n",
       "Co-op apartment          1539\n",
       "Name: count, dtype: int64"
      ]
     },
     "execution_count": 41,
     "metadata": {},
     "output_type": "execute_result"
    }
   ],
   "source": [
    "customer_df['NAME_HOUSING_TYPE'].value_counts()"
   ]
  },
  {
   "cell_type": "markdown",
   "id": "2f2fc144",
   "metadata": {},
   "source": [
    "The housing has six different values, which is still acceptable.\n",
    "#### 5. Text field occupation type"
   ]
  },
  {
   "cell_type": "code",
   "execution_count": 42,
   "id": "e8524c65",
   "metadata": {},
   "outputs": [
    {
     "name": "stdout",
     "output_type": "stream",
     "text": [
      "OCCUPATION_TYPE\n",
      "Laborers                 78240\n",
      "Core staff               43007\n",
      "Sales staff              41098\n",
      "Managers                 35487\n",
      "Drivers                  26090\n",
      "High skill tech staff    17289\n",
      "Accountants              15985\n",
      "Medicine staff           13520\n",
      "Cooking staff             8076\n",
      "Security staff            7993\n",
      "Cleaning staff            5845\n",
      "Private service staff     3456\n",
      "Low-skill Laborers        2140\n",
      "Secretaries               2044\n",
      "Waiters/barmen staff      1665\n",
      "Realty agents             1041\n",
      "HR staff                   774\n",
      "IT staff                   604\n",
      "Name: count, dtype: int64\n",
      "Amount of null values:  134203\n"
     ]
    }
   ],
   "source": [
    "print(customer_df['OCCUPATION_TYPE'].value_counts())\n",
    "print(\"Amount of null values: \", customer_df['OCCUPATION_TYPE'].isnull().sum())"
   ]
  },
  {
   "cell_type": "markdown",
   "id": "4c95a81d",
   "metadata": {},
   "source": [
    "Even though there are way less different values than expected (only 18), the column contains many null values, which may make it difficult to work with it.\n",
    "#### 6. Contact method flags"
   ]
  },
  {
   "cell_type": "code",
   "execution_count": 43,
   "id": "cc0977c1",
   "metadata": {},
   "outputs": [
    {
     "name": "stdout",
     "output_type": "stream",
     "text": [
      "FLAG_MOBIL\n",
      "1    438557\n",
      "Name: count, dtype: int64\n",
      "FLAG_WORK_PHONE\n",
      "0    348156\n",
      "1     90401\n",
      "Name: count, dtype: int64\n",
      "FLAG_PHONE\n",
      "0    312353\n",
      "1    126204\n",
      "Name: count, dtype: int64\n",
      "FLAG_EMAIL\n",
      "0    391102\n",
      "1     47455\n",
      "Name: count, dtype: int64\n"
     ]
    }
   ],
   "source": [
    "print(customer_df['FLAG_MOBIL'].value_counts())\n",
    "print(customer_df['FLAG_WORK_PHONE'].value_counts())\n",
    "print(customer_df['FLAG_PHONE'].value_counts())\n",
    "print(customer_df['FLAG_EMAIL'].value_counts())"
   ]
  },
  {
   "cell_type": "markdown",
   "id": "476de097",
   "metadata": {},
   "source": [
    "As expected, these columns only use the flags `1` and `0`. On top of that, column `FLAG_MOBIL` only contains the value `1`, which means all customers at least are registered with a mobile phone. Therefore, this column can be left out completely.\n",
    "### credit_record.csv\n",
    "Again, first analyze the columns:"
   ]
  },
  {
   "cell_type": "code",
   "execution_count": 44,
   "id": "476f8561",
   "metadata": {},
   "outputs": [
    {
     "name": "stdout",
     "output_type": "stream",
     "text": [
      "<class 'pandas.core.frame.DataFrame'>\n",
      "RangeIndex: 1048575 entries, 0 to 1048574\n",
      "Data columns (total 3 columns):\n",
      " #   Column          Non-Null Count    Dtype \n",
      "---  ------          --------------    ----- \n",
      " 0   ID              1048575 non-null  int64 \n",
      " 1   MONTHS_BALANCE  1048575 non-null  int64 \n",
      " 2   STATUS          1048575 non-null  object\n",
      "dtypes: int64(2), object(1)\n",
      "memory usage: 24.0+ MB\n"
     ]
    }
   ],
   "source": [
    "credit_df.info()"
   ]
  },
  {
   "cell_type": "markdown",
   "id": "d11dd607",
   "metadata": {},
   "source": [
    "As can be seen above, this table only contains three columns. According to the [kaggle page](https://www.kaggle.com/datasets/rikdifos/credit-card-approval-prediction/data), these columns mean the following:\n",
    "\n",
    "|Feature name| \tExplanation |\tRemarks|\n",
    "|:-|:-|:-|\n",
    "|ID |\tClient number \t||\n",
    "|MONTHS_BALANCE |\tRecord month |\tThe month of the extracted data is the starting point, backwards, 0 is the current month, -1 is the previous month, and so on|\n",
    "|STATUS |\tStatus| \t0: 1-29 days past due 1: 30-59 days past due 2: 60-89 days overdue 3: 90-119 days overdue 4: 120-149 days overdue 5: Overdue or bad debts, write-offs for more than 150 days C: paid off that month X: No loan for the month|\n",
    "\n",
    "Checking for unique `ID` values now reveals for how many customers there exists credit data:"
   ]
  },
  {
   "cell_type": "code",
   "execution_count": 45,
   "id": "04598c16",
   "metadata": {},
   "outputs": [
    {
     "data": {
      "text/plain": [
       "45985"
      ]
     },
     "execution_count": 45,
     "metadata": {},
     "output_type": "execute_result"
    }
   ],
   "source": [
    "len(credit_df['ID'].unique())"
   ]
  },
  {
   "cell_type": "markdown",
   "id": "6412dea0",
   "metadata": {},
   "source": [
    "There is only credit data for 45985 customers, that means only parts of the `customer_df` can be used.\n",
    "As a last step check the values of the `STATUS` column:"
   ]
  },
  {
   "cell_type": "code",
   "execution_count": 46,
   "id": "8d0e561b",
   "metadata": {
    "scrolled": true
   },
   "outputs": [
    {
     "name": "stdout",
     "output_type": "stream",
     "text": [
      "              ID  MONTHS_BALANCE STATUS\n",
      "0        5001711               0      X\n",
      "1        5001711              -1      0\n",
      "2        5001711              -2      0\n",
      "3        5001711              -3      0\n",
      "4        5001712               0      C\n",
      "...          ...             ...    ...\n",
      "1048570  5150487             -25      C\n",
      "1048571  5150487             -26      C\n",
      "1048572  5150487             -27      C\n",
      "1048573  5150487             -28      C\n",
      "1048574  5150487             -29      C\n",
      "\n",
      "[1048575 rows x 3 columns]\n"
     ]
    }
   ],
   "source": [
    "credit_df['STATUS'].value_counts()\n",
    "\n",
    "print(credit_df)"
   ]
  },
  {
   "cell_type": "markdown",
   "id": "9aef28f9",
   "metadata": {},
   "source": [
    "The information given on the kaggle page is correct, only the stated flags are used.\n",
    "### Summary\n",
    "Overall, the dataset consists of two parts: the customer data and the credit data. The customer data mostly contains information about income, job, family situation and contact methods as these are important aspects for evaluating the creditworthiness. The credit data is basically a credit history overview, showing for a given custumer and month if the credit was paid back on time. This credit data can now be used for calculating an \"overdue_likelyhood\" for every customer which states how likely it is for this specific customer to not pay it's credit back in time. This is an important information for a credit institute. Based on all the findings in this section the two datasets can now be prepared, connected and finally used for training a machine learning model."
   ]
  },
  {
   "cell_type": "markdown",
   "id": "61340257",
   "metadata": {},
   "source": [
    "## Data Preparation"
   ]
  },
  {
   "cell_type": "markdown",
   "id": "c37e164e",
   "metadata": {},
   "source": [
    "Get the overdue likelyhood for the customers:"
   ]
  },
  {
   "cell_type": "code",
   "execution_count": 47,
   "id": "d62cc308",
   "metadata": {},
   "outputs": [
    {
     "name": "stdout",
     "output_type": "stream",
     "text": [
      "STATUS    0  1  2  3  4  5   C   X\n",
      "ID                                \n",
      "5001711   3  0  0  0  0  0   0   1\n",
      "5001712  10  0  0  0  0  0   9   0\n",
      "5001713   0  0  0  0  0  0   0  22\n",
      "5001714   0  0  0  0  0  0   0  15\n",
      "5001715   0  0  0  0  0  0   0  60\n",
      "...      .. .. .. .. .. ..  ..  ..\n",
      "5150482  12  0  0  0  0  0   6   0\n",
      "5150483   0  0  0  0  0  0   0  18\n",
      "5150484  12  0  0  0  0  0   1   0\n",
      "5150485   2  0  0  0  0  0   0   0\n",
      "5150487   0  0  0  0  0  0  30   0\n",
      "\n",
      "[45985 rows x 8 columns]\n",
      "STATUS       ID  overdue_likelihood\n",
      "1       5001712            0.550000\n",
      "5       5001717            0.782609\n",
      "6       5001718            0.900000\n",
      "7       5001719            0.068182\n",
      "10      5001724            0.043478\n",
      "The number of entries with NaN values in overdue_likelihood: 0\n"
     ]
    },
    {
     "data": {
      "image/png": "[encoded data removed]",
      "text/plain": [
       "<Figure size 1000x600 with 1 Axes>"
      ]
     },
     "metadata": {},
     "output_type": "display_data"
    },
    {
     "data": {
      "text/html": [
       "<div>\n",
       "<style scoped>\n",
       "    .dataframe tbody tr th:only-of-type {\n",
       "        vertical-align: middle;\n",
       "    }\n",
       "\n",
       "    .dataframe tbody tr th {\n",
       "        vertical-align: top;\n",
       "    }\n",
       "\n",
       "    .dataframe thead th {\n",
       "        text-align: right;\n",
       "    }\n",
       "</style>\n",
       "<table border=\"1\" class=\"dataframe\">\n",
       "  <thead>\n",
       "    <tr style=\"text-align: right;\">\n",
       "      <th>STATUS</th>\n",
       "      <th>ID</th>\n",
       "      <th>overdue_likelihood</th>\n",
       "    </tr>\n",
       "    <tr>\n",
       "      <th>STATUS</th>\n",
       "      <th></th>\n",
       "      <th></th>\n",
       "    </tr>\n",
       "  </thead>\n",
       "  <tbody>\n",
       "    <tr>\n",
       "      <th>ID</th>\n",
       "      <td>1.000000</td>\n",
       "      <td>0.020397</td>\n",
       "    </tr>\n",
       "    <tr>\n",
       "      <th>overdue_likelihood</th>\n",
       "      <td>0.020397</td>\n",
       "      <td>1.000000</td>\n",
       "    </tr>\n",
       "  </tbody>\n",
       "</table>\n",
       "</div>"
      ],
      "text/plain": [
       "STATUS                    ID  overdue_likelihood\n",
       "STATUS                                          \n",
       "ID                  1.000000            0.020397\n",
       "overdue_likelihood  0.020397            1.000000"
      ]
     },
     "execution_count": 47,
     "metadata": {},
     "output_type": "execute_result"
    }
   ],
   "source": [
    "grouped_df = credit_df.groupby('ID')['STATUS'].value_counts().unstack(fill_value=0)\n",
    "\n",
    "print(grouped_df)\n",
    "\n",
    "grouped_df['overdue_likelihood'] = 1 - (grouped_df['C'] / (grouped_df.sum(axis=1) - grouped_df['X']+ 1))\n",
    "result_df = grouped_df.reset_index()[['ID', 'overdue_likelihood']]\n",
    "\n",
    "probability_mask = (np.random.rand(len(result_df)) < 0.1) | (result_df['overdue_likelihood'] != 1.0)\n",
    "result_df = result_df[probability_mask]\n",
    "\n",
    "print(result_df.head())\n",
    "\n",
    "nan_count = result_df['overdue_likelihood'].isna().sum()\n",
    "\n",
    "print(f'The number of entries with NaN values in overdue_likelihood: {nan_count}')\n",
    "\n",
    "# Plot the distribution of overdue likelihood\n",
    "plt.figure(figsize=(10, 6))\n",
    "plt.hist(result_df['overdue_likelihood'].dropna(), bins=100, alpha=0.7, color='blue')\n",
    "plt.title('Distribution of Overdue Likelihood')\n",
    "plt.xlabel('Overdue Likelihood')\n",
    "plt.ylabel('Frequency')\n",
    "plt.grid(True)\n",
    "plt.show()\n",
    "\n",
    "result_df.corr()\n"
   ]
  },
  {
   "cell_type": "markdown",
   "id": "91ff13a5",
   "metadata": {},
   "source": [
    "That means ca. 33110 customers are really usable."
   ]
  },
  {
   "cell_type": "markdown",
   "id": "2a2aa80c",
   "metadata": {},
   "source": [
    "Remove NaN entrys"
   ]
  },
  {
   "cell_type": "code",
   "execution_count": 48,
   "id": "2461462c",
   "metadata": {},
   "outputs": [
    {
     "name": "stdout",
     "output_type": "stream",
     "text": [
      "The number of entries with NaN values in overdue_likelihood: 0\n"
     ]
    }
   ],
   "source": [
    "result_df.dropna(subset=['overdue_likelihood'], inplace=True)\n",
    "nan_count = result_df['overdue_likelihood'].isna().sum()\n",
    "\n",
    "print(f'The number of entries with NaN values in overdue_likelihood: {nan_count}')"
   ]
  },
  {
   "cell_type": "markdown",
   "id": "421c5c50",
   "metadata": {},
   "source": [
    "Merge the data:"
   ]
  },
  {
   "cell_type": "code",
   "execution_count": 49,
   "id": "79178d71",
   "metadata": {},
   "outputs": [
    {
     "name": "stdout",
     "output_type": "stream",
     "text": [
      "        ID CODE_GENDER FLAG_OWN_CAR FLAG_OWN_REALTY  CNT_CHILDREN  \\\n",
      "0  5008804           M            Y               Y             0   \n",
      "1  5008805           M            Y               Y             0   \n",
      "2  5008806           M            Y               Y             0   \n",
      "3  5008810           F            N               Y             0   \n",
      "4  5008811           F            N               Y             0   \n",
      "\n",
      "   AMT_INCOME_TOTAL      NAME_INCOME_TYPE            NAME_EDUCATION_TYPE  \\\n",
      "0          427500.0               Working               Higher education   \n",
      "1          427500.0               Working               Higher education   \n",
      "2          112500.0               Working  Secondary / secondary special   \n",
      "3          270000.0  Commercial associate  Secondary / secondary special   \n",
      "4          270000.0  Commercial associate  Secondary / secondary special   \n",
      "\n",
      "     NAME_FAMILY_STATUS  NAME_HOUSING_TYPE  DAYS_BIRTH  DAYS_EMPLOYED  \\\n",
      "0        Civil marriage   Rented apartment      -12005          -4542   \n",
      "1        Civil marriage   Rented apartment      -12005          -4542   \n",
      "2               Married  House / apartment      -21474          -1134   \n",
      "3  Single / not married  House / apartment      -19110          -3051   \n",
      "4  Single / not married  House / apartment      -19110          -3051   \n",
      "\n",
      "   FLAG_MOBIL  FLAG_WORK_PHONE  FLAG_PHONE  FLAG_EMAIL OCCUPATION_TYPE  \\\n",
      "0           1                1           0           0             NaN   \n",
      "1           1                1           0           0             NaN   \n",
      "2           1                0           0           0  Security staff   \n",
      "3           1                0           1           1     Sales staff   \n",
      "4           1                0           1           1     Sales staff   \n",
      "\n",
      "   CNT_FAM_MEMBERS  overdue_likelihood  \n",
      "0              2.0            0.187500  \n",
      "1              2.0            0.200000  \n",
      "2              2.0            0.533333  \n",
      "3              1.0            0.318182  \n",
      "4              1.0            0.205882  \n"
     ]
    }
   ],
   "source": [
    "merged_df = pd.merge(customer_df, result_df, on='ID', how='inner')\n",
    "print(merged_df.head())"
   ]
  },
  {
   "cell_type": "code",
   "execution_count": 50,
   "id": "606f7d26",
   "metadata": {
    "scrolled": true
   },
   "outputs": [
    {
     "name": "stdout",
     "output_type": "stream",
     "text": [
      "   CODE_GENDER  FLAG_OWN_CAR  FLAG_OWN_REALTY  CNT_CHILDREN  AMT_INCOME_TOTAL  \\\n",
      "0            1             1                1             0            427500   \n",
      "1            1             1                1             0            427500   \n",
      "2            1             1                1             0            112500   \n",
      "3            0             0                1             0            270000   \n",
      "4            0             0                1             0            270000   \n",
      "\n",
      "   DAYS_BIRTH  DAYS_EMPLOYED  FLAG_MOBIL  FLAG_WORK_PHONE  FLAG_PHONE  ...  \\\n",
      "0      -12005          -4542           0                1           0  ...   \n",
      "1      -12005          -4542           0                1           0  ...   \n",
      "2      -21474          -1134           0                0           0  ...   \n",
      "3      -19110          -3051           0                0           1  ...   \n",
      "4      -19110          -3051           0                0           1  ...   \n",
      "\n",
      "   OCCUPATION_TYPE_Managers  OCCUPATION_TYPE_Medicine staff  \\\n",
      "0                         0                               0   \n",
      "1                         0                               0   \n",
      "2                         0                               0   \n",
      "3                         0                               0   \n",
      "4                         0                               0   \n",
      "\n",
      "   OCCUPATION_TYPE_NaN  OCCUPATION_TYPE_Private service staff  \\\n",
      "0                    1                                      0   \n",
      "1                    1                                      0   \n",
      "2                    0                                      0   \n",
      "3                    0                                      0   \n",
      "4                    0                                      0   \n",
      "\n",
      "   OCCUPATION_TYPE_Realty agents  OCCUPATION_TYPE_Sales staff  \\\n",
      "0                              0                            0   \n",
      "1                              0                            0   \n",
      "2                              0                            0   \n",
      "3                              0                            1   \n",
      "4                              0                            1   \n",
      "\n",
      "   OCCUPATION_TYPE_Secretaries  OCCUPATION_TYPE_Security staff  \\\n",
      "0                            0                               0   \n",
      "1                            0                               0   \n",
      "2                            0                               1   \n",
      "3                            0                               0   \n",
      "4                            0                               0   \n",
      "\n",
      "   OCCUPATION_TYPE_Waiters/barmen staff  overdue_likelihood  \n",
      "0                                     0            0.187500  \n",
      "1                                     0            0.200000  \n",
      "2                                     0            0.533333  \n",
      "3                                     0            0.318182  \n",
      "4                                     0            0.205882  \n",
      "\n",
      "[5 rows x 53 columns]\n"
     ]
    }
   ],
   "source": [
    "one_hot_cols = ['NAME_EDUCATION_TYPE','NAME_FAMILY_STATUS','NAME_INCOME_TYPE','NAME_HOUSING_TYPE','OCCUPATION_TYPE']\n",
    "ordinal_cols = ['CODE_GENDER', 'FLAG_OWN_CAR', 'FLAG_OWN_REALTY', 'FLAG_MOBIL','FLAG_WORK_PHONE',  'FLAG_PHONE', 'FLAG_EMAIL']\n",
    "\n",
    "merged_df['OCCUPATION_TYPE'].fillna('NaN', inplace=True)\n",
    "merged_df.fillna(0, inplace=True)\n",
    "\n",
    "merged_df = merged_df.drop('ID', axis=1)\n",
    "df_proc = merged_df.copy()\n",
    "\n",
    "#Ordinal Encoder\n",
    "ordinal_encoder = OrdinalEncoder()\n",
    "df_proc[ordinal_cols] = ordinal_encoder.fit_transform(df_proc[ordinal_cols])\n",
    "\n",
    "#Onehot Encoder\n",
    "df_enc = pd.get_dummies(df_proc, columns=one_hot_cols)\n",
    "\n",
    "cols_except_overdue_likelihood = [col for col in df_enc.columns if col != 'overdue_likelihood']\n",
    "df_enc[cols_except_overdue_likelihood] = df_enc[cols_except_overdue_likelihood].astype(int)\n",
    "\n",
    "if 'overdue_likelihood' in df_enc.columns:\n",
    "    overdue_col = df_enc['overdue_likelihood']\n",
    "    df_enc.drop(labels=['overdue_likelihood'], axis=1, inplace=True)\n",
    "    df_enc['overdue_likelihood'] = overdue_col\n",
    "else:\n",
    "    print(\"Column 'overdue_likelihood' not found in DataFrame\")\n",
    "print(df_enc.head())"
   ]
  },
  {
   "cell_type": "code",
   "execution_count": 51,
   "id": "e8bbbeca",
   "metadata": {},
   "outputs": [
    {
     "name": "stdout",
     "output_type": "stream",
     "text": [
      "        CODE_GENDER  FLAG_OWN_CAR  FLAG_OWN_REALTY  CNT_CHILDREN  \\\n",
      "0          0.999446      0.999150         0.994457      0.002320   \n",
      "1          0.997762      0.000748         0.995271      0.001382   \n",
      "2          0.001908      0.004880         0.997272      0.001528   \n",
      "3          0.002062      0.000406         0.998761      0.002741   \n",
      "4          0.004362      0.000596         0.002849      0.004094   \n",
      "...             ...           ...              ...           ...   \n",
      "999995     0.996538      0.996172         0.001150      0.142331   \n",
      "999996     0.997018      0.997018         0.002982      0.002982   \n",
      "999997     0.004923      0.005568         0.001919      0.001609   \n",
      "999998     0.005404      0.003703         0.001789      0.000973   \n",
      "999999     0.994854      0.002301         0.002031      0.144468   \n",
      "\n",
      "        AMT_INCOME_TOTAL  DAYS_BIRTH  DAYS_EMPLOYED  FLAG_MOBIL  \\\n",
      "0               0.103762    0.483451       0.040345    0.679965   \n",
      "1               0.057394    0.629454       0.031521    0.434744   \n",
      "2               0.147202    0.403098       0.030367    0.805925   \n",
      "3               0.118357    0.241880       0.037607    0.025703   \n",
      "4               0.102814    0.832007       0.039351    0.090880   \n",
      "...                  ...         ...            ...         ...   \n",
      "999995          0.117104    0.812083       0.033624    0.142488   \n",
      "999996          0.130069    0.886024       0.039126    0.500001   \n",
      "999997          0.104041    0.407665       0.032561    0.286083   \n",
      "999998          0.086440    0.844138       0.042131    0.273351   \n",
      "999999          0.112725    0.831089       0.045235    0.499059   \n",
      "\n",
      "        FLAG_WORK_PHONE  FLAG_PHONE  ...  OCCUPATION_TYPE_Managers  \\\n",
      "0              0.001988    0.999272  ...                  0.001145   \n",
      "1              0.997645    0.000922  ...                  0.003311   \n",
      "2              0.002723    0.001606  ...                  0.003294   \n",
      "3              0.005718    0.005591  ...                  0.003812   \n",
      "4              0.999556    0.002730  ...                  0.005949   \n",
      "...                 ...         ...  ...                       ...   \n",
      "999995         0.005151    0.002840  ...                  0.004368   \n",
      "999996         0.002982    0.002982  ...                  0.002982   \n",
      "999997         0.000309    0.004384  ...                  0.005925   \n",
      "999998         0.997996    0.994869  ...                  0.002657   \n",
      "999999         0.002364    0.000003  ...                  0.002745   \n",
      "\n",
      "        OCCUPATION_TYPE_Medicine staff  OCCUPATION_TYPE_NaN  \\\n",
      "0                             0.003068             0.996610   \n",
      "1                             0.002535             0.004345   \n",
      "2                             0.000523             0.995055   \n",
      "3                             0.999469             0.003571   \n",
      "4                             0.995940             0.002109   \n",
      "...                                ...                  ...   \n",
      "999995                        0.002849             0.003149   \n",
      "999996                        0.002982             0.002982   \n",
      "999997                        0.000384             0.005607   \n",
      "999998                        0.002872             0.002958   \n",
      "999999                        0.003773             0.999695   \n",
      "\n",
      "        OCCUPATION_TYPE_Private service staff  OCCUPATION_TYPE_Realty agents  \\\n",
      "0                                    0.005067                       0.000044   \n",
      "1                                    0.003585                       0.005868   \n",
      "2                                    0.002254                       0.005229   \n",
      "3                                    0.003219                       0.000179   \n",
      "4                                    0.002469                       0.004798   \n",
      "...                                       ...                            ...   \n",
      "999995                               0.004957                       0.005092   \n",
      "999996                               0.002982                       0.002982   \n",
      "999997                               0.003329                       0.005154   \n",
      "999998                               0.000274                       0.001330   \n",
      "999999                               0.001514                       0.003306   \n",
      "\n",
      "        OCCUPATION_TYPE_Sales staff  OCCUPATION_TYPE_Secretaries  \\\n",
      "0                          0.002987                     0.005587   \n",
      "1                          0.005036                     0.002917   \n",
      "2                          0.002653                     0.000867   \n",
      "3                          0.005091                     0.002537   \n",
      "4                          0.003188                     0.004495   \n",
      "...                             ...                          ...   \n",
      "999995                     0.001526                     0.001317   \n",
      "999996                     0.002982                     0.002982   \n",
      "999997                     0.997122                     0.003356   \n",
      "999998                     0.005693                     0.002348   \n",
      "999999                     0.004767                     0.005916   \n",
      "\n",
      "        OCCUPATION_TYPE_Security staff  OCCUPATION_TYPE_Waiters/barmen staff  \\\n",
      "0                             0.003483                              0.000281   \n",
      "1                             0.004901                              0.001211   \n",
      "2                             0.002831                              0.005786   \n",
      "3                             0.002070                              0.000371   \n",
      "4                             0.003657                              0.004455   \n",
      "...                                ...                                   ...   \n",
      "999995                        0.000672                              0.002651   \n",
      "999996                        0.002982                              0.002982   \n",
      "999997                        0.005768                              0.000173   \n",
      "999998                        0.004525                              0.001854   \n",
      "999999                        0.001307                              0.002453   \n",
      "\n",
      "        overdue_likelihood  \n",
      "0                 0.792363  \n",
      "1                 0.229650  \n",
      "2                 0.288797  \n",
      "3                 0.540251  \n",
      "4                 0.610586  \n",
      "...                    ...  \n",
      "999995            0.437413  \n",
      "999996            0.221925  \n",
      "999997            0.470861  \n",
      "999998            0.112028  \n",
      "999999            0.298044  \n",
      "\n",
      "[1000000 rows x 53 columns]\n",
      "CODE_GENDER                                          0.048031\n",
      "FLAG_OWN_CAR                                         0.590612\n",
      "FLAG_OWN_REALTY                                      0.612433\n",
      "CNT_CHILDREN                                         0.346236\n",
      "AMT_INCOME_TOTAL                                     0.066008\n",
      "DAYS_BIRTH                                           0.094416\n",
      "DAYS_EMPLOYED                                        0.002161\n",
      "FLAG_MOBIL                                           0.024534\n",
      "FLAG_WORK_PHONE                                      0.032219\n",
      "FLAG_PHONE                                           0.185193\n",
      "FLAG_EMAIL                                           0.295898\n",
      "CNT_FAM_MEMBERS                                      0.254827\n",
      "NAME_EDUCATION_TYPE_Academic degree                  0.228687\n",
      "NAME_EDUCATION_TYPE_Higher education                 0.181573\n",
      "NAME_EDUCATION_TYPE_Incomplete higher                0.059953\n",
      "NAME_EDUCATION_TYPE_Lower secondary                  0.686017\n",
      "NAME_EDUCATION_TYPE_Secondary / secondary special    0.306015\n",
      "NAME_FAMILY_STATUS_Civil marriage                    0.237519\n",
      "NAME_FAMILY_STATUS_Married                           0.108516\n",
      "NAME_FAMILY_STATUS_Separated                         0.251201\n",
      "NAME_FAMILY_STATUS_Single / not married              0.112105\n",
      "NAME_FAMILY_STATUS_Widow                             0.408784\n",
      "NAME_INCOME_TYPE_Commercial associate                0.545801\n",
      "NAME_INCOME_TYPE_Pensioner                           0.003140\n",
      "NAME_INCOME_TYPE_State servant                       0.149918\n",
      "NAME_INCOME_TYPE_Student                             0.263440\n",
      "NAME_INCOME_TYPE_Working                             0.372770\n",
      "NAME_HOUSING_TYPE_Co-op apartment                    0.252179\n",
      "NAME_HOUSING_TYPE_House / apartment                  0.834754\n",
      "NAME_HOUSING_TYPE_Municipal apartment                0.002506\n",
      "NAME_HOUSING_TYPE_Office apartment                   0.117364\n",
      "NAME_HOUSING_TYPE_Rented apartment                   0.224839\n",
      "NAME_HOUSING_TYPE_With parents                       1.000000\n",
      "OCCUPATION_TYPE_Accountants                          0.586541\n",
      "OCCUPATION_TYPE_Cleaning staff                       0.286565\n",
      "OCCUPATION_TYPE_Cooking staff                        0.526278\n",
      "OCCUPATION_TYPE_Core staff                           0.489603\n",
      "OCCUPATION_TYPE_Drivers                              0.083598\n",
      "OCCUPATION_TYPE_HR staff                             0.112035\n",
      "OCCUPATION_TYPE_High skill tech staff                0.527586\n",
      "OCCUPATION_TYPE_IT staff                             0.172765\n",
      "OCCUPATION_TYPE_Laborers                             0.414626\n",
      "OCCUPATION_TYPE_Low-skill Laborers                   0.449379\n",
      "OCCUPATION_TYPE_Managers                             0.530295\n",
      "OCCUPATION_TYPE_Medicine staff                       0.330640\n",
      "OCCUPATION_TYPE_NaN                                  0.073581\n",
      "OCCUPATION_TYPE_Private service staff                0.146233\n",
      "OCCUPATION_TYPE_Realty agents                        0.452292\n",
      "OCCUPATION_TYPE_Sales staff                          0.891669\n",
      "OCCUPATION_TYPE_Secretaries                          0.010655\n",
      "OCCUPATION_TYPE_Security staff                       0.215127\n",
      "OCCUPATION_TYPE_Waiters/barmen staff                 0.064129\n",
      "Name: overdue_likelihood, dtype: float64\n"
     ]
    }
   ],
   "source": [
    "#The data is very inhomogenous. The neural network works best with a lot of data. To loose no data, oversampling is a good way\n",
    "#to create additional data.\n",
    "#To do this, we duplicate existing data entries and slightly randomize it. Tests have shown that randomizing the data has no\n",
    "#significant impact on the neural network - it doesn't learn the randomize function.\n",
    "scaler = MinMaxScaler()\n",
    "X_scaled = scaler.fit_transform(df_enc)\n",
    "df_scaled = pd.DataFrame(X_scaled, columns=df_enc.columns)\n",
    "\n",
    "# Define the target count for each group -> 8000 mean 0.8 mil data entries\n",
    "target_count_per_group = 10000\n",
    "\n",
    "augmented_df = pd.DataFrame()\n",
    "\n",
    "# Define a function to apply noise\n",
    "def apply_noise(series, noise_level=0.01):\n",
    "    noise = np.random.uniform(-noise_level, noise_level, series.shape)\n",
    "    return series + noise\n",
    "\n",
    "overdue_likelihood_scaled = df_scaled.iloc[:, -1]\n",
    "\n",
    "# Group the data based on the scaled 'overdue_likelihood'\n",
    "for i in range(100):\n",
    "    lower_bound = i / 100\n",
    "    upper_bound = (i + 1) / 100\n",
    "    group_df = df_scaled[(overdue_likelihood_scaled >= lower_bound) & (overdue_likelihood_scaled < upper_bound)]\n",
    "    duplicates_needed = target_count_per_group - len(group_df)\n",
    "    \n",
    "    if duplicates_needed > 0 and not group_df.empty:\n",
    "        duplicated_rows = pd.concat([group_df] * (duplicates_needed // len(group_df) + 1), ignore_index=True)\n",
    "        duplicated_rows = duplicated_rows.iloc[:duplicates_needed, :]\n",
    "        duplicated_rows.iloc[:, :-1] = apply_noise(duplicated_rows.iloc[:, :-1], noise_level=0.003)\n",
    "        noise = np.random.uniform(-0.003, 0.003, size=(duplicated_rows.shape[0],))\n",
    "        duplicated_rows['overdue_likelihood'] += noise\n",
    "        group_df = pd.concat([group_df, duplicated_rows], ignore_index=True)  \n",
    "    augmented_df = pd.concat([augmented_df, group_df], ignore_index=True)\n",
    "\n",
    "# Shuffle\n",
    "augmented_df = augmented_df.sample(frac=1).reset_index(drop=True)\n",
    "\n",
    "# Scale again after applying randomness\n",
    "scaler = MinMaxScaler()\n",
    "X_scaled = scaler.fit_transform(augmented_df.drop('overdue_likelihood', axis=1))\n",
    "Y_scaled = scaler.fit_transform(augmented_df[['overdue_likelihood']])\n",
    "\n",
    "augmented_df = pd.DataFrame(X_scaled, columns=augmented_df.columns[:-1])\n",
    "augmented_df['overdue_likelihood'] = Y_scaled.flatten()\n",
    "Y = augmented_df['overdue_likelihood']\n",
    "X_enc = augmented_df.drop('overdue_likelihood', axis=1)\n",
    "\n",
    "print(augmented_df)\n",
    "\n",
    "\n",
    "#The data is only slightly correlated. Some parameters show significantly more correlation with the overdue_likelihood then others.\n",
    "#This can be used to enhance the input nodes of the neural network.\n",
    "correlation_matrix = augmented_df.corr(method='pearson')\n",
    "input_weights = correlation_matrix['overdue_likelihood'].drop('overdue_likelihood')\n",
    "input_weights_array = input_weights.to_numpy()\n",
    "max_weight = input_weights.abs().max()\n",
    "scaled_weights = input_weights.abs() / max_weight\n",
    "scaled_weights = scaled_weights.fillna(0)\n",
    "scaled_weights_array = scaled_weights.to_numpy()\n",
    "\n",
    "print(scaled_weights)"
   ]
  },
  {
   "cell_type": "markdown",
   "id": "8ae813e4",
   "metadata": {},
   "source": [
    "# TODO:\n",
    "- overdue-likelyhood zu labels\n",
    "- encoden\n",
    "    - Eig geht fast alles ordinal encoded\n",
    "    - OCCUPATION_TYPE fliegt ganz raus\n",
    "- scalen\n",
    "- random forest\n",
    "\n",
    "\n",
    "\n",
    "\n",
    "## Modeling"
   ]
  },
  {
   "cell_type": "code",
   "execution_count": 52,
   "id": "51efbdba",
   "metadata": {},
   "outputs": [],
   "source": [
    "X_train, X_test, y_train, y_test = train_test_split(augmented_df, Y, test_size=0.01, random_state=0)\n",
    "X_train = X_train.drop([\n",
    "    'overdue_likelihood'], axis=1)\n",
    "X_test = X_test.drop([\n",
    "    'overdue_likelihood'], axis=1)"
   ]
  },
  {
   "cell_type": "code",
   "execution_count": 53,
   "id": "d65f718b",
   "metadata": {},
   "outputs": [],
   "source": [
    "#To make the model configuration easier, create a config data container.\n",
    "#Information about the current model configuration:\n",
    "#As the data is very complex with 53 dimensions and very weak correlated, a very complex model proved to be optimal. We use\n",
    "#2048 hidden layer neurons with 4 hidden layers. This ensures that the model is able to campture complex correlations while the \n",
    "#vanishing gradient problems impact isn't too great.\n",
    "#Due to the models complexity and big data count, the training is very expensive, so GPU acceleration is used (~ 10min on RTX GPU)\n",
    "config = {\n",
    "    \"input_size\": X_enc.shape[1],  # Number of features in X_enc\n",
    "    \"hidden_size\": 2048,  # Hidden layer neurons\n",
    "    \"output_size\": 1,  # For regression\n",
    "    \"num_layers\": 4,  # Number of hidden layers\n",
    "    \"num_epochs\": 30,  # Number of epochs for training\n",
    "    \"batch_size\": 64,  # Batch size for training\n",
    "    \"learning_rate\": 0.0025,  # Learning rate for optimizer\n",
    "    \"dropout_rate\": 0.0,  # Dropout rate for regularization (>0 to enable)\n",
    "    \"weight_decay\": 0.0  # Weight decay for L2 regularization (>0 to enable)\n",
    "}"
   ]
  },
  {
   "cell_type": "code",
   "execution_count": 54,
   "id": "b14d63b8",
   "metadata": {},
   "outputs": [],
   "source": [
    "# Convert data to NumPy arrays and then to PyTorch tensors\n",
    "X_train = torch.tensor(X_train.values).float()\n",
    "y_train = torch.tensor(y_train.values).float()\n",
    "X_test = torch.tensor(X_test.values).float()\n",
    "y_test = torch.tensor(y_test.values).float()\n",
    "train_dataset = TensorDataset(X_train, y_train)\n",
    "test_dataset = TensorDataset(X_test, y_test)\n",
    "#Use the pytorch dataloader to enable the model to use batches\n",
    "train_loader = DataLoader(\n",
    "    train_dataset, \n",
    "    batch_size=config['batch_size'], \n",
    "    shuffle=True, \n",
    "    num_workers=4,\n",
    "    pin_memory=True,\n",
    "    persistent_workers=True\n",
    ")\n",
    "\n",
    "test_loader = DataLoader(\n",
    "    test_dataset, \n",
    "    batch_size=config['batch_size'], \n",
    "    shuffle=False,\n",
    "    num_workers=4, \n",
    "    pin_memory=True\n",
    ")"
   ]
  },
  {
   "cell_type": "code",
   "execution_count": 55,
   "id": "822fe5c3",
   "metadata": {
    "scrolled": false
   },
   "outputs": [
    {
     "name": "stdout",
     "output_type": "stream",
     "text": [
      "Using device: cuda\n",
      "Epoch 1/30, Loss: 0.1919\n",
      "Epoch 2/30, Loss: 0.1624\n",
      "Epoch 3/30, Loss: 0.1526\n",
      "Epoch 4/30, Loss: 0.1462\n",
      "Epoch 5/30, Loss: 0.1414\n",
      "Epoch 6/30, Loss: 0.1374\n",
      "Epoch 7/30, Loss: 0.1341\n",
      "Epoch 8/30, Loss: 0.1316\n",
      "Epoch 9/30, Loss: 0.1293\n",
      "Epoch 10/30, Loss: 0.1275\n",
      "Epoch 11/30, Loss: 0.1261\n",
      "Epoch 12/30, Loss: 0.1250\n",
      "Epoch 13/30, Loss: 0.1239\n",
      "Epoch 14/30, Loss: 0.1231\n",
      "Epoch 15/30, Loss: 0.1223\n",
      "Epoch 16/30, Loss: 0.1217\n",
      "Epoch 17/30, Loss: 0.1211\n",
      "Epoch 18/30, Loss: 0.1204\n",
      "Epoch 19/30, Loss: 0.1200\n",
      "Epoch 20/30, Loss: 0.1197\n",
      "Epoch 21/30, Loss: 0.1191\n",
      "Epoch 22/30, Loss: 0.1187\n",
      "Epoch 23/30, Loss: 0.1186\n",
      "Epoch 24/30, Loss: 0.1183\n",
      "Epoch 25/30, Loss: 0.1178\n",
      "Epoch 26/30, Loss: 0.1176\n",
      "Epoch 27/30, Loss: 0.1174\n",
      "Epoch 28/30, Loss: 0.1171\n",
      "Epoch 29/30, Loss: 0.1169\n",
      "Epoch 30/30, Loss: 0.1167\n"
     ]
    }
   ],
   "source": [
    "import torch\n",
    "import torch.nn as nn\n",
    "import torch.optim as optim\n",
    "from torch.utils.data import TensorDataset, DataLoader\n",
    "\n",
    "\n",
    "class InputWeightingLayer(nn.Module):\n",
    "    def __init__(self, weights):\n",
    "        super(InputWeightingLayer, self).__init__()\n",
    "        self.weights = nn.Parameter(torch.tensor(weights, dtype=torch.float32), requires_grad=False)\n",
    "\n",
    "    def forward(self, x):\n",
    "        weighted_x = x * self.weights\n",
    "        return weighted_x\n",
    "\n",
    "class MyModel(nn.Module):\n",
    "    def __init__(self, input_size, hidden_size, output_size, num_layers, dropout_rate, input_weights):\n",
    "        super(MyModel, self).__init__()\n",
    "        self.input_weighting = InputWeightingLayer(input_weights)\n",
    "        layers = [nn.Linear(input_size, hidden_size), nn.ReLU()]\n",
    "        for _ in range(num_layers - 2):\n",
    "            layers.extend([nn.Linear(hidden_size, hidden_size), nn.ReLU()])\n",
    "        layers.append(nn.Linear(hidden_size, output_size))\n",
    "        layers.append(nn.Sigmoid())\n",
    "        self.layers = nn.Sequential(*layers)\n",
    "    def forward(self, x):\n",
    "        x = self.input_weighting(x)\n",
    "        return self.layers(x)\n",
    "\n",
    "input_weights = scaled_weights_array\n",
    "    \n",
    "model = MyModel(\n",
    "    config['input_size'],\n",
    "    config['hidden_size'],\n",
    "    config['output_size'],\n",
    "    config['num_layers'],\n",
    "    config['dropout_rate'],\n",
    "    input_weights\n",
    ")\n",
    "\n",
    "\n",
    "# Check for GPU availability\n",
    "device = torch.device(\"cuda\" if torch.cuda.is_available() else \"cpu\")\n",
    "print(f\"Using device: {device}\")\n",
    "model.to(device)\n",
    "\n",
    "# L1Loss (MAE) showed to be significantly more accurate then other loss functions\n",
    "l1_loss = nn.L1Loss()\n",
    "optimizer = optim.Adam(model.parameters(), lr=config['learning_rate'], weight_decay=config['weight_decay'])\n",
    "\n",
    "# Training loop\n",
    "for epoch in range(config['num_epochs']):\n",
    "    running_loss = 0.0\n",
    "    for i, (inputs, labels) in enumerate(train_loader):\n",
    "        inputs, labels = inputs.to(device), labels.to(device)\n",
    "        # Forward pass\n",
    "        outputs = model(inputs).squeeze(1)\n",
    "        loss = l1_loss(outputs, labels)\n",
    "        # Backward pass and optimize\n",
    "        optimizer.zero_grad()\n",
    "        loss.backward()\n",
    "        optimizer.step()\n",
    "        running_loss += loss.item()\n",
    "    epoch_loss = running_loss / len(train_loader)\n",
    "    print(f'Epoch {epoch+1}/{config[\"num_epochs\"]}, Loss: {epoch_loss:.4f}')\n",
    "\n",
    "\n",
    "# Evaluation loop\n",
    "model.eval()\n",
    "with torch.no_grad():\n",
    "    for inputs, labels in test_loader:\n",
    "        inputs, labels = inputs.cuda(), labels.cuda()\n",
    "        outputs = model(inputs)\n"
   ]
  },
  {
   "cell_type": "code",
   "execution_count": 56,
   "id": "313a409f",
   "metadata": {
    "scrolled": true
   },
   "outputs": [
    {
     "data": {
      "image/png": "[encoded data removed]",
      "text/plain": [
       "<Figure size 640x480 with 1 Axes>"
      ]
     },
     "metadata": {},
     "output_type": "display_data"
    }
   ],
   "source": [
    "# Switch the model to evaluation mode\n",
    "model.eval()\n",
    "all_preds = []\n",
    "all_labels = []\n",
    "\n",
    "with torch.no_grad():\n",
    "    for inputs, labels in test_loader:\n",
    "        inputs = inputs.cuda()\n",
    "\n",
    "        # Forward pass\n",
    "        outputs = model(inputs)\n",
    "        outputs = outputs.squeeze(1)\n",
    "\n",
    "        # Store predictions and labels\n",
    "        all_preds.extend(outputs.cpu().numpy())\n",
    "        all_labels.extend(labels.cpu().numpy())\n",
    "\n",
    "# Plot the results\n",
    "plt.scatter(all_labels, all_preds, s=1)\n",
    "plt.xlabel('Actual Values')\n",
    "plt.ylabel('Predicted Values')\n",
    "plt.title('Actual vs Predicted Values')\n",
    "\n",
    "# Identity line for reference\n",
    "plt.plot([0, 1], [0, 1], color='red', linestyle='-', linewidth=1)\n",
    "\n",
    "plt.xlim([0, 1])\n",
    "plt.ylim([0, 1])\n",
    "\n",
    "plt.show()"
   ]
  },
  {
   "cell_type": "markdown",
   "id": "2f0495af",
   "metadata": {},
   "source": [
    "With the current configuration, mean deviation of arround 12% can be achieved, meaning that this model is more precise then most other models we tested, especially considering it is a regressor. While the majority of predictions stay arround the expected value, there is a big amount of outliers due to the data inhomogenities. As the data is majorily synthetic, some cases are unique and too different for the model to predict them accurately.\n",
    "Furthermore, the overdue_likelihood is an abstract self defined value that coult potentially lead to problems. It may be advised to look into how this value could be improved."
   ]
  },
  {
   "cell_type": "code",
   "execution_count": 65,
   "id": "d1722e1d",
   "metadata": {
    "scrolled": true
   },
   "outputs": [
    {
     "name": "stdout",
     "output_type": "stream",
     "text": [
      "Example 1449:\n",
      "  Gender: Male\n",
      "  Owns Car: Yes\n",
      "  Owns Realty: Yes\n",
      "  Number of Children: 0.14513567090034485\n",
      "  Total Income: 0.08604160696268082\n",
      "  Actual Label: 0.7452841997146606, Predicted Label: 0.6104835867881775\n",
      "------------------------------------------------------\n",
      "Example 2500:\n",
      "  Gender: Male\n",
      "  Owns Car: No\n",
      "  Owns Realty: No\n",
      "  Number of Children: 0.004150038585066795\n",
      "  Total Income: 0.04016539454460144\n",
      "  Actual Label: 0.6952196955680847, Predicted Label: 0.7016564607620239\n",
      "------------------------------------------------------\n",
      "Example 6456:\n",
      "  Gender: Female\n",
      "  Owns Car: No\n",
      "  Owns Realty: Yes\n",
      "  Number of Children: 6.588538781215902e-06\n",
      "  Total Income: 0.18792518973350525\n",
      "  Actual Label: 0.5451352000236511, Predicted Label: 0.5323177576065063\n",
      "------------------------------------------------------\n",
      "Example 1909:\n",
      "  Gender: Female\n",
      "  Owns Car: Yes\n",
      "  Owns Realty: Yes\n",
      "  Number of Children: 0.0006057315040379763\n",
      "  Total Income: 0.051230065524578094\n",
      "  Actual Label: 0.943622887134552, Predicted Label: 0.9737507104873657\n",
      "------------------------------------------------------\n",
      "Example 1416:\n",
      "  Gender: Female\n",
      "  Owns Car: No\n",
      "  Owns Realty: Yes\n",
      "  Number of Children: 0.0031029237434267998\n",
      "  Total Income: 0.16175712645053864\n",
      "  Actual Label: 0.412690669298172, Predicted Label: 0.447117418050766\n",
      "------------------------------------------------------\n"
     ]
    }
   ],
   "source": [
    "#Some singular tests\n",
    "# Number of examples to display\n",
    "num_examples = 5\n",
    "example_indices = np.random.choice(len(test_dataset), num_examples, replace=False)  # Randomly select indices\n",
    "\n",
    "# Display the examples\n",
    "for idx in example_indices:\n",
    "    # Extract the example and its corresponding label\n",
    "    example, actual_label = test_dataset[idx]\n",
    "    example_input = example.unsqueeze(0).cuda()\n",
    "    with torch.no_grad():\n",
    "        model.eval()\n",
    "        predicted_label = model(example_input).squeeze(1).cpu().numpy()\n",
    "    gender = 'Male' if example[0] >= 0.5 else 'Female'\n",
    "    owns_car = 'Yes' if example[1] >= 0.5 else 'No'\n",
    "    owns_realty = 'Yes' if example[2] >= 0.5 else 'No'\n",
    "    num_children = example[3]\n",
    "    total_income = example[4]\n",
    "    print(f\"Example {idx+1}:\")\n",
    "    print(f\"  Gender: {gender}\")\n",
    "    print(f\"  Owns Car: {owns_car}\")\n",
    "    print(f\"  Owns Realty: {owns_realty}\")\n",
    "    print(f\"  Number of Children: {num_children}\")\n",
    "    print(f\"  Total Income: {total_income}\")\n",
    "    print(f\"  Actual Label: {actual_label}, Predicted Label: {predicted_label[0]}\")\n",
    "    print(\"------------------------------------------------------\")"
   ]
  },
  {
   "cell_type": "code",
   "execution_count": null,
   "id": "d35a87c7",
   "metadata": {},
   "outputs": [],
   "source": []
  }
 ],
 "metadata": {
  "kernelspec": {
   "display_name": "Python 3 (ipykernel)",
   "language": "python",
   "name": "python3"
  },
  "language_info": {
   "codemirror_mode": {
    "name": "ipython",
    "version": 3
   },
   "file_extension": ".py",
   "mimetype": "text/x-python",
   "name": "python",
   "nbconvert_exporter": "python",
   "pygments_lexer": "ipython3",
   "version": "3.11.5"
  }
 },
 "nbformat": 4,
 "nbformat_minor": 5
}
